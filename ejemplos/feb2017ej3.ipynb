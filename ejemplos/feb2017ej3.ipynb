{
 "cells": [
  {
   "cell_type": "code",
   "execution_count": 1,
   "metadata": {
    "collapsed": false
   },
   "outputs": [
   ],
   "source": [
    "# Meter en carpeta anterior a scripts para poder cargarlos\n",
    "load('scripts/scripts_gl.sage')\n",
    "# Nos muestra resultados en LaTeX\n",
    "pretty_print_default(True)\n",
    "# True/False para mostrar procedimientos\n",
    "mostrar_procedimiento(True)"
   ]
  },
  {
   "cell_type": "code",
   "execution_count": 2,
   "metadata": {
    "collapsed": false
   },
   "outputs": [
    {
     "data": {
      "text/html": [
       "<html><script type=\"math/tex; mode=display\">\\newcommand{\\Bold}[1]{\\mathbf{#1}}\\verb|Obtenemos|\\phantom{\\verb!x!}\\verb|la|\\phantom{\\verb!x!}\\verb|recta|\\phantom{\\verb!x!}\\verb|del|\\phantom{\\verb!x!}\\verb|infinito|\\phantom{\\verb!x!}\\verb|a|\\phantom{\\verb!x!}\\verb|partir|\\phantom{\\verb!x!}\\verb|de|\\phantom{\\verb!x!}\\verb|los|\\phantom{\\verb!x!}\\verb|puntos|\\phantom{\\verb!x!}\\verb|conjugados|\\phantom{\\verb!x!}\\verb|del|\\phantom{\\verb!x!}\\verb|infinito|\\phantom{\\verb!x!}\\verb|I|\\phantom{\\verb!x!}\\verb|y|\\phantom{\\verb!x!}\\verb|J|</script></html>"
      ]
     },
     "execution_count": 2,
     "metadata": {
     },
     "output_type": "execute_result"
    },
    {
     "data": {
      "text/html": [
       "<html><script type=\"math/tex; mode=display\">\\newcommand{\\Bold}[1]{\\mathbf{#1}}\\verb|Subespacio|\\phantom{\\verb!x!}\\verb|que|\\phantom{\\verb!x!}\\verb|contiene|\\phantom{\\verb!x!}\\verb|los|\\phantom{\\verb!x!}\\verb|puntos|\\left(\\left(i - 3,\\,-i + 2,\\,5\\right), \\left(-i - 3,\\,i + 2,\\,5\\right)\\right)</script></html>"
      ]
     },
     "execution_count": 2,
     "metadata": {
     },
     "output_type": "execute_result"
    },
    {
     "data": {
      "text/html": [
       "<html><script type=\"math/tex; mode=display\">\\newcommand{\\Bold}[1]{\\mathbf{#1}}\\verb|Primero|\\phantom{\\verb!x!}\\verb|reducimos|\\phantom{\\verb!x!}\\verb|a|\\phantom{\\verb!x!}\\verb|su|\\phantom{\\verb!x!}\\verb|forma|\\phantom{\\verb!x!}\\verb|normal:|\\left(\\begin{array}{rr}\n",
       "1 & 0 \\\\\n",
       "0 & 1 \\\\\n",
       "-5 & -5\n",
       "\\end{array}\\right)</script></html>"
      ]
     },
     "execution_count": 2,
     "metadata": {
     },
     "output_type": "execute_result"
    },
    {
     "data": {
      "text/html": [
       "<html><script type=\"math/tex; mode=display\">\\newcommand{\\Bold}[1]{\\mathbf{#1}}\\verb|Resolvemos|\\phantom{\\verb!x!}\\verb|las|\\phantom{\\verb!x!}\\verb|siguientes|\\phantom{\\verb!x!}\\verb|ecuaciones:|</script></html>"
      ]
     },
     "execution_count": 2,
     "metadata": {
     },
     "output_type": "execute_result"
    },
    {
     "data": {
      "text/html": [
       "<html><script type=\"math/tex; mode=display\">\\newcommand{\\Bold}[1]{\\mathbf{#1}}\\verb|det|\\left(\\begin{array}{rrr}\n",
       "1 & 0 & {x_1} \\\\\n",
       "0 & 1 & {x_2} \\\\\n",
       "-5 & -5 & {x_3}\n",
       "\\end{array}\\right)\\verb|=|\\phantom{\\verb!x!}\\verb|0|\\phantom{\\verb!x!}\\verb|=>|5 \\, {x_1} + 5 \\, {x_2} + {x_3} = 0</script></html>"
      ]
     },
     "execution_count": 2,
     "metadata": {
     },
     "output_type": "execute_result"
    },
    {
     "data": {
      "text/html": [
       "<html><script type=\"math/tex; mode=display\">\\newcommand{\\Bold}[1]{\\mathbf{#1}}5 \\, {x_1} + 5 \\, {x_2} + {x_3} = 0</script></html>"
      ]
     },
     "execution_count": 2,
     "metadata": {
     },
     "output_type": "execute_result"
    }
   ],
   "source": [
    "i = vector([I-3, -I+2, 5])\n",
    "S = espacio_euclideo(i)\n",
    "S.recta_infinito().implicitas()[0]"
   ]
  },
  {
   "cell_type": "code",
   "execution_count": 3,
   "metadata": {
    "collapsed": false
   },
   "outputs": [
    {
     "data": {
      "text/html": [
       "<html><script type=\"math/tex; mode=display\">\\newcommand{\\Bold}[1]{\\mathbf{#1}}{x_1} + {x_2} = 0</script></html>"
      ]
     },
     "execution_count": 3,
     "metadata": {
     },
     "output_type": "execute_result"
    }
   ],
   "source": [
    "# (a)\n",
    "mostrar_procedimiento(False)\n",
    "r = subespacio(vector([1, 1, 0])).dual()\n",
    "r.implicitas()[0] * -1"
   ]
  },
  {
   "cell_type": "code",
   "execution_count": 4,
   "metadata": {
    "collapsed": false
   },
   "outputs": [
    {
     "data": {
      "text/html": [
       "<html><script type=\"math/tex; mode=display\">\\newcommand{\\Bold}[1]{\\mathbf{#1}}\\verb|Intersecamos|\\phantom{\\verb!x!}\\verb|con|\\phantom{\\verb!x!}\\verb|el|\\phantom{\\verb!x!}\\verb|hiperplano|\\phantom{\\verb!x!}\\verb|del|\\phantom{\\verb!x!}\\verb|infinito:|5 \\, {x_1} + 5 \\, {x_2} + {x_3} = 0</script></html>"
      ]
     },
     "execution_count": 4,
     "metadata": {
     },
     "output_type": "execute_result"
    },
    {
     "data": {
      "text/html": [
       "<html><script type=\"math/tex; mode=display\">\\newcommand{\\Bold}[1]{\\mathbf{#1}}\\verb|Para|\\phantom{\\verb!x!}\\verb|intersecar|\\phantom{\\verb!x!}\\verb|unimos|\\phantom{\\verb!x!}\\verb|las|\\phantom{\\verb!x!}\\verb|ecuaciones|\\phantom{\\verb!x!}\\verb|de|\\phantom{\\verb!x!}\\verb|cada|\\phantom{\\verb!x!}\\verb|subespacio:|\\left[\\left[-{x_1} - {x_2} = 0\\right], \\left[5 \\, {x_1} + 5 \\, {x_2} + {x_3} = 0\\right]\\right]</script></html>"
      ]
     },
     "execution_count": 4,
     "metadata": {
     },
     "output_type": "execute_result"
    },
    {
     "data": {
      "text/html": [
       "<html><script type=\"math/tex; mode=display\">\\newcommand{\\Bold}[1]{\\mathbf{#1}}\\verb|Subespacio|\\phantom{\\verb!x!}\\verb|que|\\phantom{\\verb!x!}\\verb|contiene|\\phantom{\\verb!x!}\\verb|los|\\phantom{\\verb!x!}\\verb|puntos|\\left[\\left(1,\\,1,\\,0\\right), \\left(1,\\,1,\\,\\frac{1}{5}\\right)\\right]</script></html>"
      ]
     },
     "execution_count": 4,
     "metadata": {
     },
     "output_type": "execute_result"
    },
    {
     "data": {
      "text/html": [
       "<html><script type=\"math/tex; mode=display\">\\newcommand{\\Bold}[1]{\\mathbf{#1}}\\verb|Primero|\\phantom{\\verb!x!}\\verb|reducimos|\\phantom{\\verb!x!}\\verb|a|\\phantom{\\verb!x!}\\verb|su|\\phantom{\\verb!x!}\\verb|forma|\\phantom{\\verb!x!}\\verb|normal:|\\left(\\begin{array}{rr}\n",
       "1 & 0 \\\\\n",
       "1 & 0 \\\\\n",
       "0 & 1\n",
       "\\end{array}\\right)</script></html>"
      ]
     },
     "execution_count": 4,
     "metadata": {
     },
     "output_type": "execute_result"
    },
    {
     "data": {
      "text/html": [
       "<html><script type=\"math/tex; mode=display\">\\newcommand{\\Bold}[1]{\\mathbf{#1}}\\verb|Resolvemos|\\phantom{\\verb!x!}\\verb|las|\\phantom{\\verb!x!}\\verb|siguientes|\\phantom{\\verb!x!}\\verb|ecuaciones:|</script></html>"
      ]
     },
     "execution_count": 4,
     "metadata": {
     },
     "output_type": "execute_result"
    },
    {
     "data": {
      "text/html": [
       "<html><script type=\"math/tex; mode=display\">\\newcommand{\\Bold}[1]{\\mathbf{#1}}\\verb|det|\\left(\\begin{array}{rrr}\n",
       "1 & 0 & {x_1} \\\\\n",
       "1 & 0 & {x_2} \\\\\n",
       "0 & 1 & {x_3}\n",
       "\\end{array}\\right)\\verb|=|\\phantom{\\verb!x!}\\verb|0|\\phantom{\\verb!x!}\\verb|=>|{x_1} - {x_2} = 0</script></html>"
      ]
     },
     "execution_count": 4,
     "metadata": {
     },
     "output_type": "execute_result"
    },
    {
     "data": {
      "text/html": [
       "<html><script type=\"math/tex; mode=display\">\\newcommand{\\Bold}[1]{\\mathbf{#1}}\\verb|Ahora|\\phantom{\\verb!x!}\\verb|obtenemos|\\phantom{\\verb!x!}\\verb|el|\\phantom{\\verb!x!}\\verb|dual|\\phantom{\\verb!x!}\\verb|del|\\phantom{\\verb!x!}\\verb|subespacio|\\phantom{\\verb!x!}\\verb|calculado|\\phantom{\\verb!x!}\\verb|(era|\\phantom{\\verb!x!}\\verb|el|\\phantom{\\verb!x!}\\verb|dual|\\phantom{\\verb!x!}\\verb|del|\\phantom{\\verb!x!}\\verb|que|\\phantom{\\verb!x!}\\verb|buscabamos):|</script></html>"
      ]
     },
     "execution_count": 4,
     "metadata": {
     },
     "output_type": "execute_result"
    },
    {
     "data": {
      "text/html": [
       "<html><script type=\"math/tex; mode=display\">\\newcommand{\\Bold}[1]{\\mathbf{#1}}\\verb|Subespacio|\\phantom{\\verb!x!}\\verb|que|\\phantom{\\verb!x!}\\verb|contiene|\\phantom{\\verb!x!}\\verb|los|\\phantom{\\verb!x!}\\verb|puntos|\\left[\\left(1,\\,-1,\\,0\\right)\\right]</script></html>"
      ]
     },
     "execution_count": 4,
     "metadata": {
     },
     "output_type": "execute_result"
    },
    {
     "data": {
      "text/html": [
       "<html><script type=\"math/tex; mode=display\">\\newcommand{\\Bold}[1]{\\mathbf{#1}}\\verb|Primero|\\phantom{\\verb!x!}\\verb|reducimos|\\phantom{\\verb!x!}\\verb|a|\\phantom{\\verb!x!}\\verb|su|\\phantom{\\verb!x!}\\verb|forma|\\phantom{\\verb!x!}\\verb|normal:|\\left(\\begin{array}{r}\n",
       "1 \\\\\n",
       "-1 \\\\\n",
       "0\n",
       "\\end{array}\\right)</script></html>"
      ]
     },
     "execution_count": 4,
     "metadata": {
     },
     "output_type": "execute_result"
    },
    {
     "data": {
      "text/html": [
       "<html><script type=\"math/tex; mode=display\">\\newcommand{\\Bold}[1]{\\mathbf{#1}}\\verb|Resolvemos|\\phantom{\\verb!x!}\\verb|las|\\phantom{\\verb!x!}\\verb|siguientes|\\phantom{\\verb!x!}\\verb|ecuaciones:|</script></html>"
      ]
     },
     "execution_count": 4,
     "metadata": {
     },
     "output_type": "execute_result"
    },
    {
     "data": {
      "text/html": [
       "<html><script type=\"math/tex; mode=display\">\\newcommand{\\Bold}[1]{\\mathbf{#1}}\\verb|det|\\left(\\begin{array}{rr}\n",
       "1 & {x_1} \\\\\n",
       "-1 & {x_2}\n",
       "\\end{array}\\right)\\verb|=|\\phantom{\\verb!x!}\\verb|0|\\phantom{\\verb!x!}\\verb|=>|{x_1} + {x_2} = 0</script></html>"
      ]
     },
     "execution_count": 4,
     "metadata": {
     },
     "output_type": "execute_result"
    },
    {
     "data": {
      "text/html": [
       "<html><script type=\"math/tex; mode=display\">\\newcommand{\\Bold}[1]{\\mathbf{#1}}\\verb|det|\\left(\\begin{array}{rr}\n",
       "1 & {x_1} \\\\\n",
       "0 & {x_3}\n",
       "\\end{array}\\right)\\verb|=|\\phantom{\\verb!x!}\\verb|0|\\phantom{\\verb!x!}\\verb|=>|{x_3} = 0</script></html>"
      ]
     },
     "execution_count": 4,
     "metadata": {
     },
     "output_type": "execute_result"
    },
    {
     "data": {
      "text/html": [
       "<html><script type=\"math/tex; mode=display\">\\newcommand{\\Bold}[1]{\\mathbf{#1}}\\left(1,\\,-1,\\,0\\right)</script></html>"
      ]
     },
     "execution_count": 4,
     "metadata": {
     },
     "output_type": "execute_result"
    }
   ],
   "source": [
    "mostrar_procedimiento()\n",
    "d = S.espacio_afin().direccion(r)\n",
    "d"
   ]
  },
  {
   "cell_type": "code",
   "execution_count": 5,
   "metadata": {
    "collapsed": false
   },
   "outputs": [
    {
     "data": {
      "text/html": [
       "<html><script type=\"math/tex; mode=display\">\\newcommand{\\Bold}[1]{\\mathbf{#1}}\\verb|La|\\phantom{\\verb!x!}\\verb|direccion|\\phantom{\\verb!x!}\\verb|perpendicular|\\phantom{\\verb!x!}\\verb|sera|\\phantom{\\verb!x!}\\verb|el|\\phantom{\\verb!x!}\\verb|cuarto|\\phantom{\\verb!x!}\\verb|armonico|\\phantom{\\verb!x!}\\verb|con|\\phantom{\\verb!x!}\\verb|los|\\phantom{\\verb!x!}\\verb|conjugados|\\phantom{\\verb!x!}\\verb|del|\\phantom{\\verb!x!}\\verb|infinito:|\\left(i - 3,\\,-i + 2,\\,5\\right)\\verb|,|\\left(-i - 3,\\,i + 2,\\,5\\right)</script></html>"
      ]
     },
     "execution_count": 5,
     "metadata": {
     },
     "output_type": "execute_result"
    },
    {
     "data": {
      "text/html": [
       "<html><script type=\"math/tex; mode=display\">\\newcommand{\\Bold}[1]{\\mathbf{#1}}\\verb|Montamos|\\phantom{\\verb!x!}\\verb|la|\\phantom{\\verb!x!}\\verb|recta|\\phantom{\\verb!x!}\\verb|con|\\phantom{\\verb!x!}\\verb|la|\\phantom{\\verb!x!}\\verb|referencia|\\phantom{\\verb!x!}\\verb|{P0=|\\left(i - 3,\\,-i + 2,\\,5\\right)\\verb|,|\\phantom{\\verb!x!}\\verb|P1=|\\left(-i - 3,\\,i + 2,\\,5\\right)\\verb|;|\\phantom{\\verb!x!}\\verb|P2=|\\left(1,\\,-1,\\,0\\right)\\verb|}|</script></html>"
      ]
     },
     "execution_count": 5,
     "metadata": {
     },
     "output_type": "execute_result"
    },
    {
     "data": {
      "text/html": [
       "<html><script type=\"math/tex; mode=display\">\\newcommand{\\Bold}[1]{\\mathbf{#1}}\\verb|Asi,|\\phantom{\\verb!x!}\\verb|P0:|\\phantom{\\verb!x!}\\verb|theta|\\phantom{\\verb!x!}\\verb|=|\\phantom{\\verb!x!}\\verb|Infinity,|\\phantom{\\verb!x!}\\verb|P1:|\\phantom{\\verb!x!}\\verb|theta|\\phantom{\\verb!x!}\\verb|=|\\phantom{\\verb!x!}\\verb|0,|\\phantom{\\verb!x!}\\verb|P2:|\\phantom{\\verb!x!}\\verb|theta|\\phantom{\\verb!x!}\\verb|=|\\phantom{\\verb!x!}\\verb|1|\\phantom{\\verb!x!}\\verb|y|\\phantom{\\verb!x!}\\verb|sustituimos|\\phantom{\\verb!x!}\\verb|en|\\phantom{\\verb!x!}\\verb|-1|</script></html>"
      ]
     },
     "execution_count": 5,
     "metadata": {
     },
     "output_type": "execute_result"
    },
    {
     "data": {
      "text/html": [
       "<html><script type=\"math/tex; mode=display\">\\newcommand{\\Bold}[1]{\\mathbf{#1}}\\verb|Forzamos|\\phantom{\\verb!x!}\\verb|P2:|\\phantom{\\verb!x!}\\verb|theta|\\phantom{\\verb!x!}\\verb|=|\\phantom{\\verb!x!}\\verb|1:|</script></html>"
      ]
     },
     "execution_count": 5,
     "metadata": {
     },
     "output_type": "execute_result"
    },
    {
     "data": {
      "text/html": [
       "<html><script type=\"math/tex; mode=display\">\\newcommand{\\Bold}[1]{\\mathbf{#1}}{a}\\verb|*|\\left(i - 3,\\,-i + 2,\\,5\\right)\\phantom{\\verb!x!}\\verb|+|{b}\\verb|*|\\left(-i - 3,\\,i + 2,\\,5\\right)\\phantom{\\verb!x!}\\verb|=|\\left(\\left(i - 3\\right) \\, {a} - \\left(i + 3\\right) \\, {b},\\,-\\left(i - 2\\right) \\, {a} + \\left(i + 2\\right) \\, {b},\\,5 \\, {a} + 5 \\, {b}\\right)\\phantom{\\verb!x!}\\verb|=|\\left(1,\\,-1,\\,0\\right)</script></html>"
      ]
     },
     "execution_count": 5,
     "metadata": {
     },
     "output_type": "execute_result"
    },
    {
     "data": {
      "text/html": [
       "<html><script type=\"math/tex; mode=display\">\\newcommand{\\Bold}[1]{\\mathbf{#1}}\\left[{a} = \\left(-\\frac{1}{2} i\\right), {b} = \\left(\\frac{1}{2} i\\right)\\right]</script></html>"
      ]
     },
     "execution_count": 5,
     "metadata": {
     },
     "output_type": "execute_result"
    },
    {
     "data": {
      "text/html": [
       "<html><script type=\"math/tex; mode=display\">\\newcommand{\\Bold}[1]{\\mathbf{#1}}\\verb|Sustituimos|\\phantom{\\verb!x!}\\verb|y|\\phantom{\\verb!x!}\\verb|combinamos|\\phantom{\\verb!x!}\\verb|con|\\phantom{\\verb!x!}\\verb|theta:|\\left(\\left(\\frac{3}{2} i + \\frac{1}{2}\\right) \\, {\\theta} - \\frac{3}{2} i + \\frac{1}{2},\\,-\\left(i + \\frac{1}{2}\\right) \\, {\\theta} + i - \\frac{1}{2},\\,-\\frac{5}{2} i \\, {\\theta} + \\frac{5}{2} i\\right)</script></html>"
      ]
     },
     "execution_count": 5,
     "metadata": {
     },
     "output_type": "execute_result"
    },
    {
     "data": {
      "text/html": [
       "<html><script type=\"math/tex; mode=display\">\\newcommand{\\Bold}[1]{\\mathbf{#1}}\\left(3,\\,-2,\\,-5\\right)</script></html>"
      ]
     },
     "execution_count": 5,
     "metadata": {
     },
     "output_type": "execute_result"
    }
   ],
   "source": [
    "# Solución\n",
    "# El punto deberá ser una dirección (punto de la recta del infinito)\n",
    "P = S.direccion_perpendicular(d) * I\n",
    "P"
   ]
  },
  {
   "cell_type": "code",
   "execution_count": 6,
   "metadata": {
    "collapsed": false
   },
   "outputs": [
    {
     "data": {
      "text/html": [
       "<html><script type=\"math/tex; mode=display\">\\newcommand{\\Bold}[1]{\\mathbf{#1}}\\frac{1}{2} \\, \\pi</script></html>"
      ]
     },
     "execution_count": 6,
     "metadata": {
     },
     "output_type": "execute_result"
    }
   ],
   "source": [
    "# Comprbemos\n",
    "mostrar_procedimiento(False)\n",
    "S.angulo(P, d)"
   ]
  },
  {
   "cell_type": "code",
   "execution_count": 7,
   "metadata": {
    "collapsed": false
   },
   "outputs": [
    {
     "data": {
      "text/html": [
       "<html><script type=\"math/tex; mode=display\">\\newcommand{\\Bold}[1]{\\mathbf{#1}}25 \\, {x}^{2} + 64 \\, {x} {y} + 40 \\, {y}^{2} + 4 \\, {x} {z} + 6 \\, {y} {z} = 0</script></html>"
      ]
     },
     "execution_count": 7,
     "metadata": {
     },
     "output_type": "execute_result"
    }
   ],
   "source": [
    "# (b)\n",
    "var('x y z')\n",
    "c = conica((25*x^2 + 64*x*y + 40*y^2 + 2*(2*x + 3*y)*z).hessian() / 2)\n",
    "c.ecuacion()"
   ]
  },
  {
   "cell_type": "code",
   "execution_count": 8,
   "metadata": {
    "collapsed": false
   },
   "outputs": [
    {
     "data": {
      "text/html": [
       "<html><script type=\"math/tex; mode=display\">\\newcommand{\\Bold}[1]{\\mathbf{#1}}\\verb|I|\\phantom{\\verb!x!}\\verb|=|\\left(i - 3,\\,-i + 2,\\,5\\right)\\verb|,|\\phantom{\\verb!x!}\\verb|J|\\phantom{\\verb!x!}\\verb|=|\\left(-i - 3,\\,i + 2,\\,5\\right)\\phantom{\\verb!x!}\\verb|pertenecen|\\phantom{\\verb!x!}\\verb|a|\\phantom{\\verb!x!}\\verb|la|\\phantom{\\verb!x!}\\verb|conica,|\\phantom{\\verb!x!}\\verb|luego|\\phantom{\\verb!x!}\\verb|es|\\phantom{\\verb!x!}\\verb|una|\\phantom{\\verb!x!}\\verb|circunferencia:|\\phantom{\\verb!x!}\\verb|el|\\phantom{\\verb!x!}\\verb|unico|\\phantom{\\verb!x!}\\verb|foco|\\phantom{\\verb!x!}\\verb|es|\\phantom{\\verb!x!}\\verb|el|\\phantom{\\verb!x!}\\verb|centro|</script></html>"
      ]
     },
     "execution_count": 8,
     "metadata": {
     },
     "output_type": "execute_result"
    },
    {
     "data": {
      "text/html": [
       "<html><script type=\"math/tex; mode=display\">\\newcommand{\\Bold}[1]{\\mathbf{#1}}\\verb|El|\\phantom{\\verb!x!}\\verb|centro|\\phantom{\\verb!x!}\\verb|es|\\phantom{\\verb!x!}\\verb|el|\\phantom{\\verb!x!}\\verb|polo|\\phantom{\\verb!x!}\\verb|de|\\phantom{\\verb!x!}\\verb|la|\\phantom{\\verb!x!}\\verb|recta|\\phantom{\\verb!x!}\\verb|del|\\phantom{\\verb!x!}\\verb|infinito|</script></html>"
      ]
     },
     "execution_count": 8,
     "metadata": {
     },
     "output_type": "execute_result"
    },
    {
     "data": {
      "text/html": [
       "<html><script type=\"math/tex; mode=display\">\\newcommand{\\Bold}[1]{\\mathbf{#1}}\\verb|Obtenemos|\\phantom{\\verb!x!}\\verb|los|\\phantom{\\verb!x!}\\verb|duales|\\phantom{\\verb!x!}\\verb|de|\\phantom{\\verb!x!}\\verb|la|\\phantom{\\verb!x!}\\verb|recta|\\phantom{\\verb!x!}\\verb|y|\\phantom{\\verb!x!}\\verb|la|\\phantom{\\verb!x!}\\verb|conica|\\phantom{\\verb!x!}\\verb|y|\\phantom{\\verb!x!}\\verb|calculamos|\\phantom{\\verb!x!}\\verb|la|\\phantom{\\verb!x!}\\verb|polar|\\phantom{\\verb!x!}\\verb|de|\\phantom{\\verb!x!}\\verb|r*|\\phantom{\\verb!x!}\\verb|(o|\\phantom{\\verb!x!}\\verb|p):|</script></html>"
      ]
     },
     "execution_count": 8,
     "metadata": {
     },
     "output_type": "execute_result"
    },
    {
     "data": {
      "text/html": [
       "<html><script type=\"math/tex; mode=display\">\\newcommand{\\Bold}[1]{\\mathbf{#1}}\\verb|r*|\\phantom{\\verb!x!}\\verb|=|\\left(1,\\,1,\\,\\frac{1}{5}\\right)\\verb|;|\\phantom{\\verb!x!}\\verb|C*:|\\left(\\begin{array}{rrr}\n",
       "-9 & 6 & 16 \\\\\n",
       "6 & -4 & -11 \\\\\n",
       "16 & -11 & -24\n",
       "\\end{array}\\right)</script></html>"
      ]
     },
     "execution_count": 8,
     "metadata": {
     },
     "output_type": "execute_result"
    },
    {
     "data": {
      "text/html": [
       "<html><script type=\"math/tex; mode=display\">\\newcommand{\\Bold}[1]{\\mathbf{#1}}\\verb|La|\\phantom{\\verb!x!}\\verb|ecuacion|\\phantom{\\verb!x!}\\verb|de|\\phantom{\\verb!x!}\\verb|la|\\phantom{\\verb!x!}\\verb|recta|\\phantom{\\verb!x!}\\verb|polar|\\phantom{\\verb!x!}\\verb|a|\\phantom{\\verb!x!}\\verb|p|\\phantom{\\verb!x!}\\verb|es:|\\left(\\begin{array}{rrr}\n",
       "{x} & {y} & {z}\n",
       "\\end{array}\\right)\\left(\\begin{array}{rrr}\n",
       "-9 & 6 & 16 \\\\\n",
       "6 & -4 & -11 \\\\\n",
       "16 & -11 & -24\n",
       "\\end{array}\\right)\\left(\\begin{array}{r}\n",
       "1 \\\\\n",
       "1 \\\\\n",
       "\\frac{1}{5}\n",
       "\\end{array}\\right)\\phantom{\\verb!x!}\\verb|=|\\phantom{\\verb!x!}\\verb|0|</script></html>"
      ]
     },
     "execution_count": 8,
     "metadata": {
     },
     "output_type": "execute_result"
    },
    {
     "data": {
      "text/html": [
       "<html><script type=\"math/tex; mode=display\">\\newcommand{\\Bold}[1]{\\mathbf{#1}}\\frac{1}{5} \\, {x} - \\frac{1}{5} \\, {y} + \\frac{1}{5} \\, {z}\\phantom{\\verb!x!}\\verb|=|\\phantom{\\verb!x!}\\verb|0|</script></html>"
      ]
     },
     "execution_count": 8,
     "metadata": {
     },
     "output_type": "execute_result"
    },
    {
     "data": {
      "text/html": [
       "<html><script type=\"math/tex; mode=display\">\\newcommand{\\Bold}[1]{\\mathbf{#1}}\\verb|Finalmente,|\\phantom{\\verb!x!}\\verb|calculamos|\\phantom{\\verb!x!}\\verb|el|\\phantom{\\verb!x!}\\verb|dual|\\phantom{\\verb!x!}\\verb|de|\\phantom{\\verb!x!}\\verb|la|\\phantom{\\verb!x!}\\verb|polar|\\phantom{\\verb!x!}\\verb|hallada|</script></html>"
      ]
     },
     "execution_count": 8,
     "metadata": {
     },
     "output_type": "execute_result"
    },
    {
     "data": {
      "text/html": [
       "<html><script type=\"math/tex; mode=display\">\\newcommand{\\Bold}[1]{\\mathbf{#1}}\\left(1,\\,-1,\\,1\\right)</script></html>"
      ]
     },
     "execution_count": 8,
     "metadata": {
     },
     "output_type": "execute_result"
    }
   ],
   "source": [
    "# Solución\n",
    "mostrar_procedimiento()\n",
    "F = S.focos(c)[0]\n",
    "F"
   ]
  },
  {
   "cell_type": "code",
   "execution_count": 9,
   "metadata": {
    "collapsed": false,
    "scrolled": true
   },
   "outputs": [
    {
     "data": {
      "text/html": [
       "<html><script type=\"math/tex; mode=display\">\\newcommand{\\Bold}[1]{\\mathbf{#1}}\\verb|Calculamos|\\phantom{\\verb!x!}\\verb|la|\\phantom{\\verb!x!}\\verb|recta|\\phantom{\\verb!x!}\\verb|que|\\phantom{\\verb!x!}\\verb|une|\\phantom{\\verb!x!}\\verb|los|\\phantom{\\verb!x!}\\verb|puntos|\\phantom{\\verb!x!}\\verb|del|\\phantom{\\verb!x!}\\verb|vector:|\\left(1,\\,1,\\,1\\right)\\verb|,|\\left(0,\\,1,\\,3\\right)\\verb|,|\\phantom{\\verb!x!}\\verb|para|\\phantom{\\verb!x!}\\verb|luego|\\phantom{\\verb!x!}\\verb|calcular|\\phantom{\\verb!x!}\\verb|la|\\phantom{\\verb!x!}\\verb|paralela|\\phantom{\\verb!x!}\\verb|a|\\phantom{\\verb!x!}\\verb|esta|\\phantom{\\verb!x!}\\verb|que|\\phantom{\\verb!x!}\\verb|pasa|\\phantom{\\verb!x!}\\verb|por|\\phantom{\\verb!x!}\\verb|el|\\phantom{\\verb!x!}\\verb|punto|\\phantom{\\verb!x!}\\verb|dado:|</script></html>"
      ]
     },
     "execution_count": 9,
     "metadata": {
     },
     "output_type": "execute_result"
    },
    {
     "data": {
      "text/html": [
       "<html><script type=\"math/tex; mode=display\">\\newcommand{\\Bold}[1]{\\mathbf{#1}}\\verb|La|\\phantom{\\verb!x!}\\verb|recta|\\phantom{\\verb!x!}\\verb|es:|2 \\, {x_1} - 3 \\, {x_2} + {x_3} = 0</script></html>"
      ]
     },
     "execution_count": 9,
     "metadata": {
     },
     "output_type": "execute_result"
    },
    {
     "data": {
      "text/html": [
       "<html><script type=\"math/tex; mode=display\">\\newcommand{\\Bold}[1]{\\mathbf{#1}}\\verb|Calculamos|\\phantom{\\verb!x!}\\verb|la|\\phantom{\\verb!x!}\\verb|direccion|\\phantom{\\verb!x!}\\verb|de|\\phantom{\\verb!x!}\\verb|la|\\phantom{\\verb!x!}\\verb|recta|\\phantom{\\verb!x!}\\verb|dada,|\\phantom{\\verb!x!}\\verb|que|\\phantom{\\verb!x!}\\verb|es|\\phantom{\\verb!x!}\\verb|la|\\phantom{\\verb!x!}\\verb|interseccion|\\phantom{\\verb!x!}\\verb|con|\\phantom{\\verb!x!}\\verb|el|\\phantom{\\verb!x!}\\verb|hiperplano|\\phantom{\\verb!x!}\\verb|del|\\phantom{\\verb!x!}\\verb|infinito|</script></html>"
      ]
     },
     "execution_count": 9,
     "metadata": {
     },
     "output_type": "execute_result"
    },
    {
     "data": {
      "text/html": [
       "<html><script type=\"math/tex; mode=display\">\\newcommand{\\Bold}[1]{\\mathbf{#1}}\\left(1,\\,-\\frac{3}{8},\\,-\\frac{25}{8}\\right)\\verb|;|\\phantom{\\verb!x!}\\verb|unimos|\\phantom{\\verb!x!}\\verb|con|\\phantom{\\verb!x!}\\verb|el|\\phantom{\\verb!x!}\\verb|punto|\\phantom{\\verb!x!}\\verb|dado:|\\left(a,\\,b,\\,c\\right)</script></html>"
      ]
     },
     "execution_count": 9,
     "metadata": {
     },
     "output_type": "execute_result"
    },
    {
     "data": {
      "text/html": [
       "<html><script type=\"math/tex; mode=display\">\\newcommand{\\Bold}[1]{\\mathbf{#1}}\\verb|Subespacio|\\phantom{\\verb!x!}\\verb|que|\\phantom{\\verb!x!}\\verb|contiene|\\phantom{\\verb!x!}\\verb|los|\\phantom{\\verb!x!}\\verb|puntos|\\left(\\left(a,\\,b,\\,c\\right), \\left(1,\\,-\\frac{3}{8},\\,-\\frac{25}{8}\\right)\\right)</script></html>"
      ]
     },
     "execution_count": 9,
     "metadata": {
     },
     "output_type": "execute_result"
    },
    {
     "data": {
      "text/html": [
       "<html><script type=\"math/tex; mode=display\">\\newcommand{\\Bold}[1]{\\mathbf{#1}}\\verb|Primero|\\phantom{\\verb!x!}\\verb|reducimos|\\phantom{\\verb!x!}\\verb|a|\\phantom{\\verb!x!}\\verb|su|\\phantom{\\verb!x!}\\verb|forma|\\phantom{\\verb!x!}\\verb|normal:|\\left(\\begin{array}{rr}\n",
       "1 & 0 \\\\\n",
       "0 & 1 \\\\\n",
       "\\frac{c}{a} - \\frac{b {\\left(\\frac{8 \\, c}{a} + 25\\right)}}{a {\\left(\\frac{8 \\, b}{a} + 3\\right)}} & \\frac{\\frac{8 \\, c}{a} + 25}{\\frac{8 \\, b}{a} + 3}\n",
       "\\end{array}\\right)</script></html>"
      ]
     },
     "execution_count": 9,
     "metadata": {
     },
     "output_type": "execute_result"
    },
    {
     "data": {
      "text/html": [
       "<html><script type=\"math/tex; mode=display\">\\newcommand{\\Bold}[1]{\\mathbf{#1}}\\verb|Resolvemos|\\phantom{\\verb!x!}\\verb|las|\\phantom{\\verb!x!}\\verb|siguientes|\\phantom{\\verb!x!}\\verb|ecuaciones:|</script></html>"
      ]
     },
     "execution_count": 9,
     "metadata": {
     },
     "output_type": "execute_result"
    },
    {
     "data": {
      "text/html": [
       "<html><script type=\"math/tex; mode=display\">\\newcommand{\\Bold}[1]{\\mathbf{#1}}\\verb|det|\\left(\\begin{array}{rrr}\n",
       "1 & 0 & {x_1} \\\\\n",
       "0 & 1 & {x_2} \\\\\n",
       "\\frac{c}{a} - \\frac{b {\\left(\\frac{8 \\, c}{a} + 25\\right)}}{a {\\left(\\frac{8 \\, b}{a} + 3\\right)}} & \\frac{\\frac{8 \\, c}{a} + 25}{\\frac{8 \\, b}{a} + 3} & {x_3}\n",
       "\\end{array}\\right)\\verb|=|\\phantom{\\verb!x!}\\verb|0|\\phantom{\\verb!x!}\\verb|=>|\\frac{{\\left(25 \\, b - 3 \\, c\\right)} {x_1} - {\\left(25 \\, a + 8 \\, c\\right)} {x_2} + {\\left(3 \\, a + 8 \\, b\\right)} {x_3}}{3 \\, a + 8 \\, b} = 0</script></html>"
      ]
     },
     "execution_count": 9,
     "metadata": {
     },
     "output_type": "execute_result"
    },
    {
     "data": {
      "text/html": [
       "<html><script type=\"math/tex; mode=display\">\\newcommand{\\Bold}[1]{\\mathbf{#1}}\\verb|Calculamos|\\phantom{\\verb!x!}\\verb|la|\\phantom{\\verb!x!}\\verb|recta|\\phantom{\\verb!x!}\\verb|que|\\phantom{\\verb!x!}\\verb|une|\\phantom{\\verb!x!}\\verb|el|\\phantom{\\verb!x!}\\verb|punto:|\\left(a,\\,b,\\,c\\right)\\phantom{\\verb!x!}\\verb|con|\\phantom{\\verb!x!}\\verb|el|\\phantom{\\verb!x!}\\verb|primer|\\phantom{\\verb!x!}\\verb|punto|\\phantom{\\verb!x!}\\verb|del|\\phantom{\\verb!x!}\\verb|vector:|\\left(1,\\,1,\\,1\\right)\\verb|,|\\phantom{\\verb!x!}\\verb|para|\\phantom{\\verb!x!}\\verb|luego|\\phantom{\\verb!x!}\\verb|calcular|\\phantom{\\verb!x!}\\verb|su|\\phantom{\\verb!x!}\\verb|paralela|\\phantom{\\verb!x!}\\verb|por:|\\left(0,\\,1,\\,3\\right)</script></html>"
      ]
     },
     "execution_count": 9,
     "metadata": {
     },
     "output_type": "execute_result"
    },
    {
     "data": {
      "text/html": [
       "<html><script type=\"math/tex; mode=display\">\\newcommand{\\Bold}[1]{\\mathbf{#1}}\\verb|La|\\phantom{\\verb!x!}\\verb|recta|\\phantom{\\verb!x!}\\verb|es:|\\frac{{\\left(b - c\\right)} {x_1} - {\\left(a - c\\right)} {x_2} + {\\left(a - b\\right)} {x_3}}{a - b} = 0</script></html>"
      ]
     },
     "execution_count": 9,
     "metadata": {
     },
     "output_type": "execute_result"
    },
    {
     "data": {
      "text/html": [
       "<html><script type=\"math/tex; mode=display\">\\newcommand{\\Bold}[1]{\\mathbf{#1}}\\verb|Calculamos|\\phantom{\\verb!x!}\\verb|la|\\phantom{\\verb!x!}\\verb|direccion|\\phantom{\\verb!x!}\\verb|de|\\phantom{\\verb!x!}\\verb|la|\\phantom{\\verb!x!}\\verb|recta|\\phantom{\\verb!x!}\\verb|dada,|\\phantom{\\verb!x!}\\verb|que|\\phantom{\\verb!x!}\\verb|es|\\phantom{\\verb!x!}\\verb|la|\\phantom{\\verb!x!}\\verb|interseccion|\\phantom{\\verb!x!}\\verb|con|\\phantom{\\verb!x!}\\verb|el|\\phantom{\\verb!x!}\\verb|hiperplano|\\phantom{\\verb!x!}\\verb|del|\\phantom{\\verb!x!}\\verb|infinito|</script></html>"
      ]
     },
     "execution_count": 9,
     "metadata": {
     },
     "output_type": "execute_result"
    },
    {
     "data": {
      "text/html": [
       "<html><script type=\"math/tex; mode=display\">\\newcommand{\\Bold}[1]{\\mathbf{#1}}\\left(1,\\,-\\frac{5 \\, a - 6 \\, b + c}{6 \\, a - 5 \\, b - c},\\,-\\frac{5 \\, {\\left(a + b - 2 \\, c\\right)}}{6 \\, a - 5 \\, b - c}\\right)\\verb|;|\\phantom{\\verb!x!}\\verb|unimos|\\phantom{\\verb!x!}\\verb|con|\\phantom{\\verb!x!}\\verb|el|\\phantom{\\verb!x!}\\verb|punto|\\phantom{\\verb!x!}\\verb|dado:|\\left(0,\\,1,\\,3\\right)</script></html>"
      ]
     },
     "execution_count": 9,
     "metadata": {
     },
     "output_type": "execute_result"
    },
    {
     "data": {
      "text/html": [
       "<html><script type=\"math/tex; mode=display\">\\newcommand{\\Bold}[1]{\\mathbf{#1}}\\verb|Subespacio|\\phantom{\\verb!x!}\\verb|que|\\phantom{\\verb!x!}\\verb|contiene|\\phantom{\\verb!x!}\\verb|los|\\phantom{\\verb!x!}\\verb|puntos|\\left(\\left(0,\\,1,\\,3\\right), \\left(1,\\,-\\frac{5 \\, a - 6 \\, b + c}{6 \\, a - 5 \\, b - c},\\,-\\frac{5 \\, {\\left(a + b - 2 \\, c\\right)}}{6 \\, a - 5 \\, b - c}\\right)\\right)</script></html>"
      ]
     },
     "execution_count": 9,
     "metadata": {
     },
     "output_type": "execute_result"
    },
    {
     "data": {
      "text/html": [
       "<html><script type=\"math/tex; mode=display\">\\newcommand{\\Bold}[1]{\\mathbf{#1}}\\verb|Primero|\\phantom{\\verb!x!}\\verb|reducimos|\\phantom{\\verb!x!}\\verb|a|\\phantom{\\verb!x!}\\verb|su|\\phantom{\\verb!x!}\\verb|forma|\\phantom{\\verb!x!}\\verb|normal:|\\left(\\begin{array}{rr}\n",
       "1 & 0 \\\\\n",
       "0 & 1 \\\\\n",
       "\\frac{3 \\, {\\left(5 \\, a - 6 \\, b + c\\right)}}{6 \\, a - 5 \\, b - c} - \\frac{5 \\, {\\left(a + b - 2 \\, c\\right)}}{6 \\, a - 5 \\, b - c} & 3\n",
       "\\end{array}\\right)</script></html>"
      ]
     },
     "execution_count": 9,
     "metadata": {
     },
     "output_type": "execute_result"
    },
    {
     "data": {
      "text/html": [
       "<html><script type=\"math/tex; mode=display\">\\newcommand{\\Bold}[1]{\\mathbf{#1}}\\verb|Resolvemos|\\phantom{\\verb!x!}\\verb|las|\\phantom{\\verb!x!}\\verb|siguientes|\\phantom{\\verb!x!}\\verb|ecuaciones:|</script></html>"
      ]
     },
     "execution_count": 9,
     "metadata": {
     },
     "output_type": "execute_result"
    },
    {
     "data": {
      "text/html": [
       "<html><script type=\"math/tex; mode=display\">\\newcommand{\\Bold}[1]{\\mathbf{#1}}\\verb|det|\\left(\\begin{array}{rrr}\n",
       "1 & 0 & {x_1} \\\\\n",
       "0 & 1 & {x_2} \\\\\n",
       "\\frac{3 \\, {\\left(5 \\, a - 6 \\, b + c\\right)}}{6 \\, a - 5 \\, b - c} - \\frac{5 \\, {\\left(a + b - 2 \\, c\\right)}}{6 \\, a - 5 \\, b - c} & 3 & {x_3}\n",
       "\\end{array}\\right)\\verb|=|\\phantom{\\verb!x!}\\verb|0|\\phantom{\\verb!x!}\\verb|=>|-\\frac{{\\left(10 \\, a - 23 \\, b + 13 \\, c\\right)} {x_1} + 3 \\, {\\left(6 \\, a - 5 \\, b - c\\right)} {x_2} - {\\left(6 \\, a - 5 \\, b - c\\right)} {x_3}}{6 \\, a - 5 \\, b - c} = 0</script></html>"
      ]
     },
     "execution_count": 9,
     "metadata": {
     },
     "output_type": "execute_result"
    },
    {
     "data": {
      "text/html": [
       "<html><script type=\"math/tex; mode=display\">\\newcommand{\\Bold}[1]{\\mathbf{#1}}\\verb|El|\\phantom{\\verb!x!}\\verb|resultado|\\phantom{\\verb!x!}\\verb|es|\\phantom{\\verb!x!}\\verb|la|\\phantom{\\verb!x!}\\verb|interseccion|</script></html>"
      ]
     },
     "execution_count": 9,
     "metadata": {
     },
     "output_type": "execute_result"
    },
    {
     "data": {
      "text/html": [
       "<html><script type=\"math/tex; mode=display\">\\newcommand{\\Bold}[1]{\\mathbf{#1}}\\verb|Para|\\phantom{\\verb!x!}\\verb|intersecar|\\phantom{\\verb!x!}\\verb|unimos|\\phantom{\\verb!x!}\\verb|las|\\phantom{\\verb!x!}\\verb|ecuaciones|\\phantom{\\verb!x!}\\verb|de|\\phantom{\\verb!x!}\\verb|cada|\\phantom{\\verb!x!}\\verb|subespacio:|\\left[\\left[\\frac{{\\left(25 \\, b - 3 \\, c\\right)} {x_1} - {\\left(25 \\, a + 8 \\, c\\right)} {x_2} + {\\left(3 \\, a + 8 \\, b\\right)} {x_3}}{3 \\, a + 8 \\, b} = 0\\right], \\left[-\\frac{{\\left(10 \\, a - 23 \\, b + 13 \\, c\\right)} {x_1} + 3 \\, {\\left(6 \\, a - 5 \\, b - c\\right)} {x_2} - {\\left(6 \\, a - 5 \\, b - c\\right)} {x_3}}{6 \\, a - 5 \\, b - c} = 0\\right]\\right]</script></html>"
      ]
     },
     "execution_count": 9,
     "metadata": {
     },
     "output_type": "execute_result"
    },
    {
     "data": {
      "text/html": [
       "<html><script type=\"math/tex; mode=display\">\\newcommand{\\Bold}[1]{\\mathbf{#1}}\\verb|Subespacio|\\phantom{\\verb!x!}\\verb|que|\\phantom{\\verb!x!}\\verb|contiene|\\phantom{\\verb!x!}\\verb|los|\\phantom{\\verb!x!}\\verb|puntos|\\left[\\left(1,\\,-\\frac{25 \\, a + 8 \\, c}{25 \\, b - 3 \\, c},\\,\\frac{3 \\, a + 8 \\, b}{25 \\, b - 3 \\, c}\\right), \\left(1,\\,\\frac{3 \\, {\\left(6 \\, a - 5 \\, b - c\\right)}}{10 \\, a - 23 \\, b + 13 \\, c},\\,-\\frac{6 \\, a - 5 \\, b - c}{10 \\, a - 23 \\, b + 13 \\, c}\\right)\\right]</script></html>"
      ]
     },
     "execution_count": 9,
     "metadata": {
     },
     "output_type": "execute_result"
    },
    {
     "data": {
      "text/html": [
       "<html><script type=\"math/tex; mode=display\">\\newcommand{\\Bold}[1]{\\mathbf{#1}}\\verb|Primero|\\phantom{\\verb!x!}\\verb|reducimos|\\phantom{\\verb!x!}\\verb|a|\\phantom{\\verb!x!}\\verb|su|\\phantom{\\verb!x!}\\verb|forma|\\phantom{\\verb!x!}\\verb|normal:|\\left(\\begin{array}{rr}\n",
       "1 & 0 \\\\\n",
       "0 & 1 \\\\\n",
       "\\frac{3 \\, a + 8 \\, b}{25 \\, b - 3 \\, c} - \\frac{{\\left(25 \\, a + 8 \\, c\\right)} {\\left(\\frac{6 \\, a - 5 \\, b - c}{10 \\, a - 23 \\, b + 13 \\, c} + \\frac{3 \\, a + 8 \\, b}{25 \\, b - 3 \\, c}\\right)}}{{\\left(25 \\, b - 3 \\, c\\right)} {\\left(\\frac{3 \\, {\\left(6 \\, a - 5 \\, b - c\\right)}}{10 \\, a - 23 \\, b + 13 \\, c} + \\frac{25 \\, a + 8 \\, c}{25 \\, b - 3 \\, c}\\right)}} & -\\frac{\\frac{6 \\, a - 5 \\, b - c}{10 \\, a - 23 \\, b + 13 \\, c} + \\frac{3 \\, a + 8 \\, b}{25 \\, b - 3 \\, c}}{\\frac{3 \\, {\\left(6 \\, a - 5 \\, b - c\\right)}}{10 \\, a - 23 \\, b + 13 \\, c} + \\frac{25 \\, a + 8 \\, c}{25 \\, b - 3 \\, c}}\n",
       "\\end{array}\\right)</script></html>"
      ]
     },
     "execution_count": 9,
     "metadata": {
     },
     "output_type": "execute_result"
    },
    {
     "data": {
      "text/html": [
       "<html><script type=\"math/tex; mode=display\">\\newcommand{\\Bold}[1]{\\mathbf{#1}}\\verb|Resolvemos|\\phantom{\\verb!x!}\\verb|las|\\phantom{\\verb!x!}\\verb|siguientes|\\phantom{\\verb!x!}\\verb|ecuaciones:|</script></html>"
      ]
     },
     "execution_count": 9,
     "metadata": {
     },
     "output_type": "execute_result"
    },
    {
     "data": {
      "text/html": [
       "<html><script type=\"math/tex; mode=display\">\\newcommand{\\Bold}[1]{\\mathbf{#1}}\\verb|det|\\left(\\begin{array}{rrr}\n",
       "1 & 0 & {x_1} \\\\\n",
       "0 & 1 & {x_2} \\\\\n",
       "\\frac{3 \\, a + 8 \\, b}{25 \\, b - 3 \\, c} - \\frac{{\\left(25 \\, a + 8 \\, c\\right)} {\\left(\\frac{6 \\, a - 5 \\, b - c}{10 \\, a - 23 \\, b + 13 \\, c} + \\frac{3 \\, a + 8 \\, b}{25 \\, b - 3 \\, c}\\right)}}{{\\left(25 \\, b - 3 \\, c\\right)} {\\left(\\frac{3 \\, {\\left(6 \\, a - 5 \\, b - c\\right)}}{10 \\, a - 23 \\, b + 13 \\, c} + \\frac{25 \\, a + 8 \\, c}{25 \\, b - 3 \\, c}\\right)}} & -\\frac{\\frac{6 \\, a - 5 \\, b - c}{10 \\, a - 23 \\, b + 13 \\, c} + \\frac{3 \\, a + 8 \\, b}{25 \\, b - 3 \\, c}}{\\frac{3 \\, {\\left(6 \\, a - 5 \\, b - c\\right)}}{10 \\, a - 23 \\, b + 13 \\, c} + \\frac{25 \\, a + 8 \\, c}{25 \\, b - 3 \\, c}} & {x_3}\n",
       "\\end{array}\\right)\\verb|=|\\phantom{\\verb!x!}\\verb|0|\\phantom{\\verb!x!}\\verb|=>|\\frac{8 \\, {\\left(6 \\, a - 5 \\, b - c\\right)} {x_1} + {\\left(15 \\, a + 103 \\, b + 3 \\, c\\right)} {x_2} + {\\left(125 \\, a + 125 \\, b + 113 \\, c\\right)} {x_3}}{125 \\, a + 125 \\, b + 113 \\, c} = 0</script></html>"
      ]
     },
     "execution_count": 9,
     "metadata": {
     },
     "output_type": "execute_result"
    },
    {
     "data": {
      "text/html": [
       "<html><script type=\"math/tex; mode=display\">\\newcommand{\\Bold}[1]{\\mathbf{#1}}\\verb|Ahora|\\phantom{\\verb!x!}\\verb|obtenemos|\\phantom{\\verb!x!}\\verb|el|\\phantom{\\verb!x!}\\verb|dual|\\phantom{\\verb!x!}\\verb|del|\\phantom{\\verb!x!}\\verb|subespacio|\\phantom{\\verb!x!}\\verb|calculado|\\phantom{\\verb!x!}\\verb|(era|\\phantom{\\verb!x!}\\verb|el|\\phantom{\\verb!x!}\\verb|dual|\\phantom{\\verb!x!}\\verb|del|\\phantom{\\verb!x!}\\verb|que|\\phantom{\\verb!x!}\\verb|buscabamos):|</script></html>"
      ]
     },
     "execution_count": 9,
     "metadata": {
     },
     "output_type": "execute_result"
    },
    {
     "data": {
      "text/html": [
       "<html><script type=\"math/tex; mode=display\">\\newcommand{\\Bold}[1]{\\mathbf{#1}}\\verb|Subespacio|\\phantom{\\verb!x!}\\verb|que|\\phantom{\\verb!x!}\\verb|contiene|\\phantom{\\verb!x!}\\verb|los|\\phantom{\\verb!x!}\\verb|puntos|\\left[\\left(\\frac{8 \\, {\\left(6 \\, a - 5 \\, b - c\\right)}}{125 \\, a + 125 \\, b + 113 \\, c},\\,\\frac{15 \\, a + 103 \\, b + 3 \\, c}{125 \\, a + 125 \\, b + 113 \\, c},\\,1\\right)\\right]</script></html>"
      ]
     },
     "execution_count": 9,
     "metadata": {
     },
     "output_type": "execute_result"
    },
    {
     "data": {
      "text/html": [
       "<html><script type=\"math/tex; mode=display\">\\newcommand{\\Bold}[1]{\\mathbf{#1}}\\verb|Primero|\\phantom{\\verb!x!}\\verb|reducimos|\\phantom{\\verb!x!}\\verb|a|\\phantom{\\verb!x!}\\verb|su|\\phantom{\\verb!x!}\\verb|forma|\\phantom{\\verb!x!}\\verb|normal:|\\left(\\begin{array}{r}\n",
       "1 \\\\\n",
       "\\frac{15 \\, a + 103 \\, b + 3 \\, c}{8 \\, {\\left(6 \\, a - 5 \\, b - c\\right)}} \\\\\n",
       "\\frac{125 \\, a + 125 \\, b + 113 \\, c}{8 \\, {\\left(6 \\, a - 5 \\, b - c\\right)}}\n",
       "\\end{array}\\right)</script></html>"
      ]
     },
     "execution_count": 9,
     "metadata": {
     },
     "output_type": "execute_result"
    },
    {
     "data": {
      "text/html": [
       "<html><script type=\"math/tex; mode=display\">\\newcommand{\\Bold}[1]{\\mathbf{#1}}\\verb|Resolvemos|\\phantom{\\verb!x!}\\verb|las|\\phantom{\\verb!x!}\\verb|siguientes|\\phantom{\\verb!x!}\\verb|ecuaciones:|</script></html>"
      ]
     },
     "execution_count": 9,
     "metadata": {
     },
     "output_type": "execute_result"
    },
    {
     "data": {
      "text/html": [
       "<html><script type=\"math/tex; mode=display\">\\newcommand{\\Bold}[1]{\\mathbf{#1}}\\verb|det|\\left(\\begin{array}{rr}\n",
       "1 & {x_1} \\\\\n",
       "\\frac{15 \\, a + 103 \\, b + 3 \\, c}{8 \\, {\\left(6 \\, a - 5 \\, b - c\\right)}} & {x_2}\n",
       "\\end{array}\\right)\\verb|=|\\phantom{\\verb!x!}\\verb|0|\\phantom{\\verb!x!}\\verb|=>|-\\frac{{\\left(15 \\, a + 103 \\, b + 3 \\, c\\right)} {x_1} - 8 \\, {\\left(6 \\, a - 5 \\, b - c\\right)} {x_2}}{8 \\, {\\left(6 \\, a - 5 \\, b - c\\right)}} = 0</script></html>"
      ]
     },
     "execution_count": 9,
     "metadata": {
     },
     "output_type": "execute_result"
    },
    {
     "data": {
      "text/html": [
       "<html><script type=\"math/tex; mode=display\">\\newcommand{\\Bold}[1]{\\mathbf{#1}}\\verb|det|\\left(\\begin{array}{rr}\n",
       "1 & {x_1} \\\\\n",
       "\\frac{125 \\, a + 125 \\, b + 113 \\, c}{8 \\, {\\left(6 \\, a - 5 \\, b - c\\right)}} & {x_3}\n",
       "\\end{array}\\right)\\verb|=|\\phantom{\\verb!x!}\\verb|0|\\phantom{\\verb!x!}\\verb|=>|-\\frac{{\\left(125 \\, a + 125 \\, b + 113 \\, c\\right)} {x_1} - 8 \\, {\\left(6 \\, a - 5 \\, b - c\\right)} {x_3}}{8 \\, {\\left(6 \\, a - 5 \\, b - c\\right)}} = 0</script></html>"
      ]
     },
     "execution_count": 9,
     "metadata": {
     },
     "output_type": "execute_result"
    },
    {
     "data": {
      "text/html": [
       "<html><script type=\"math/tex; mode=display\">\\newcommand{\\Bold}[1]{\\mathbf{#1}}\\left(48 \\, a - 40 \\, b - 8 \\, c,\\,15 \\, a + 103 \\, b + 3 \\, c,\\,125 \\, a + 125 \\, b + 113 \\, c\\right)</script></html>"
      ]
     },
     "execution_count": 9,
     "metadata": {
     },
     "output_type": "execute_result"
    }
   ],
   "source": [
    "# (c)\n",
    "var('a b c')\n",
    "mostrar_procedimiento()\n",
    "A = vector([1, 1, 1])\n",
    "B = vector([0, 1, 3])\n",
    "P = vector([a, b, c])\n",
    "Q = S.espacio_afin().desplazar(P, A, B) * 8 * (6*a - 5*b - c)\n",
    "Q"
   ]
  },
  {
   "cell_type": "code",
   "execution_count": 10,
   "metadata": {
    "collapsed": false
   },
   "outputs": [
    {
     "data": {
      "text/html": [
       "<html><script type=\"math/tex; mode=display\">\\newcommand{\\Bold}[1]{\\mathbf{#1}}\\left(\\begin{array}{rrr}\n",
       "\\frac{48}{113} & -\\frac{40}{113} & -\\frac{8}{113} \\\\\n",
       "\\frac{15}{113} & \\frac{103}{113} & \\frac{3}{113} \\\\\n",
       "\\frac{125}{113} & \\frac{125}{113} & 1\n",
       "\\end{array}\\right)</script></html>"
      ]
     },
     "execution_count": 10,
     "metadata": {
     },
     "output_type": "execute_result"
    }
   ],
   "source": [
    "# Solución\n",
    "# Si elegimos unos cuantos puntos, calculamos sus desplazamientos y usamos crear_aplicacion_proyectiva() debería dar la misma matriz\n",
    "M = matrix([[48, -40, -8], [15, 103, 3], [125, 125, 113]]) / 113\n",
    "M"
   ]
  }
 ],
 "metadata": {
  "kernelspec": {
   "display_name": "SageMath (stable)",
   "language": "sagemath",
   "name": "sagemath"
  },
  "language_info": {
   "codemirror_mode": {
    "name": "ipython",
    "version": 2
   },
   "file_extension": ".py",
   "mimetype": "text/x-python",
   "name": "python",
   "nbconvert_exporter": "python",
   "pygments_lexer": "ipython2",
   "version": "2.7.15"
  }
 },
 "nbformat": 4,
 "nbformat_minor": 0
}