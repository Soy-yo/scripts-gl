{
 "cells": [
  {
   "cell_type": "code",
   "execution_count": 1,
   "metadata": {
    "collapsed": false
   },
   "outputs": [
   ],
   "source": [
    "# Meter en carpeta anterior a scripts para poder cargarlos\n",
    "load('scripts/scripts_gl.sage')\n",
    "# Nos muestra resultados en LaTeX\n",
    "pretty_print_default(True)\n",
    "# True/False para mostrar procedimientos\n",
    "mostrar_procedimiento(True)"
   ]
  },
  {
   "cell_type": "code",
   "execution_count": 2,
   "metadata": {
    "collapsed": false
   },
   "outputs": [
    {
     "data": {
      "text/html": [
       "<html><script type=\"math/tex; mode=display\">\\newcommand{\\Bold}[1]{\\mathbf{#1}}{x}^{2} - {y} {z} = 0</script></html>"
      ]
     },
     "execution_count": 2,
     "metadata": {
     },
     "output_type": "execute_result"
    }
   ],
   "source": [
    "var('x y z')\n",
    "c = conica((x^2 - y*z).hessian() / 2)\n",
    "c.ecuacion()"
   ]
  },
  {
   "cell_type": "code",
   "execution_count": 3,
   "metadata": {
    "collapsed": false
   },
   "outputs": [
    {
     "data": {
      "text/html": [
       "<html><script type=\"math/tex; mode=display\">\\newcommand{\\Bold}[1]{\\mathbf{#1}}\\left({\\theta},\\,{\\theta}^{2},\\,1\\right)</script></html>"
      ]
     },
     "execution_count": 3,
     "metadata": {
     },
     "output_type": "execute_result"
    }
   ],
   "source": [
    "# Calculamos la parametrización a mano porque la necesitaremos para usar homografías\n",
    "# La matriz que debemos usar debe cumplir que al multiplicar por (1, theta, theta^2) nos dé la parametrización que queremos\n",
    "# En este caso queremos (theta, theta^2, 1)\n",
    "p = parametrizacion_conica(matrix([[0, 1, 0], [0, 0, 1], [1, 0, 0]]))\n",
    "# Podemos usar este método porque estamos expresando la parametrización en la base canónica\n",
    "p.punto_generico()"
   ]
  },
  {
   "cell_type": "code",
   "execution_count": 4,
   "metadata": {
    "collapsed": false
   },
   "outputs": [
   ],
   "source": [
    "M = vector([0, 1, 0])\n",
    "A1 = vector([-1, 1, 1])\n",
    "A2 = vector([0, 0, 1])"
   ]
  },
  {
   "cell_type": "code",
   "execution_count": 5,
   "metadata": {
    "collapsed": false
   },
   "outputs": [
    {
     "data": {
      "text/html": [
       "<html><script type=\"math/tex; mode=display\">\\newcommand{\\Bold}[1]{\\mathbf{#1}}\\verb|El|\\phantom{\\verb!x!}\\verb|eje|\\phantom{\\verb!x!}\\verb|une|\\phantom{\\verb!x!}\\verb|los|\\phantom{\\verb!x!}\\verb|puntos|\\phantom{\\verb!x!}\\verb|fijos|\\phantom{\\verb!x!}\\verb|o|\\phantom{\\verb!x!}\\verb|es|\\phantom{\\verb!x!}\\verb|la|\\phantom{\\verb!x!}\\verb|tangente|\\phantom{\\verb!x!}\\verb|a|\\phantom{\\verb!x!}\\verb|la|\\phantom{\\verb!x!}\\verb|conica|</script></html>"
      ]
     },
     "execution_count": 5,
     "metadata": {
     },
     "output_type": "execute_result"
    },
    {
     "data": {
      "text/html": [
       "<html><script type=\"math/tex; mode=display\">\\newcommand{\\Bold}[1]{\\mathbf{#1}}\\verb|La|\\phantom{\\verb!x!}\\verb|matriz|\\phantom{\\verb!x!}\\verb|de|\\phantom{\\verb!x!}\\verb|la|\\phantom{\\verb!x!}\\verb|conica|\\phantom{\\verb!x!}\\verb|que|\\phantom{\\verb!x!}\\verb|representa|\\phantom{\\verb!x!}\\verb|esta|\\phantom{\\verb!x!}\\verb|parametrizacion|\\phantom{\\verb!x!}\\verb|sera:|</script></html>"
      ]
     },
     "execution_count": 5,
     "metadata": {
     },
     "output_type": "execute_result"
    },
    {
     "data": {
      "text/html": [
       "<html><script type=\"math/tex; mode=display\">\\newcommand{\\Bold}[1]{\\mathbf{#1}}\\left(\\begin{array}{rrr}\n",
       "1 & 0 & 0 \\\\\n",
       "0 & 1 & 0 \\\\\n",
       "0 & 0 & 1\n",
       "\\end{array}\\right)\\verb|^-t|\\phantom{\\verb!x!}\\verb|*|\\left(\\begin{array}{rrr}\n",
       "0 & 1 & 0 \\\\\n",
       "0 & 0 & 1 \\\\\n",
       "1 & 0 & 0\n",
       "\\end{array}\\right)\\verb|^-t|\\phantom{\\verb!x!}\\verb|*|\\left(\\begin{array}{rrr}\n",
       "0 & 0 & -1 \\\\\n",
       "0 & 2 & 0 \\\\\n",
       "-1 & 0 & 0\n",
       "\\end{array}\\right)\\phantom{\\verb!x!}\\verb|*|\\left(\\begin{array}{rrr}\n",
       "0 & 1 & 0 \\\\\n",
       "0 & 0 & 1 \\\\\n",
       "1 & 0 & 0\n",
       "\\end{array}\\right)\\verb|^-1|\\phantom{\\verb!x!}\\verb|*|\\left(\\begin{array}{rrr}\n",
       "1 & 0 & 0 \\\\\n",
       "0 & 1 & 0 \\\\\n",
       "0 & 0 & 1\n",
       "\\end{array}\\right)\\verb|^-1|</script></html>"
      ]
     },
     "execution_count": 5,
     "metadata": {
     },
     "output_type": "execute_result"
    },
    {
     "data": {
      "text/html": [
       "<html><script type=\"math/tex; mode=display\">\\newcommand{\\Bold}[1]{\\mathbf{#1}}\\verb|La|\\phantom{\\verb!x!}\\verb|ecuacion|\\phantom{\\verb!x!}\\verb|de|\\phantom{\\verb!x!}\\verb|la|\\phantom{\\verb!x!}\\verb|recta|\\phantom{\\verb!x!}\\verb|polar|\\phantom{\\verb!x!}\\verb|a|\\phantom{\\verb!x!}\\verb|p|\\phantom{\\verb!x!}\\verb|es:|\\left(\\begin{array}{rrr}\n",
       "{x} & {y} & {z}\n",
       "\\end{array}\\right)\\left(\\begin{array}{rrr}\n",
       "2 & 0 & 0 \\\\\n",
       "0 & 0 & -1 \\\\\n",
       "0 & -1 & 0\n",
       "\\end{array}\\right)\\left(\\begin{array}{r}\n",
       "0 \\\\\n",
       "1 \\\\\n",
       "0\n",
       "\\end{array}\\right)\\phantom{\\verb!x!}\\verb|=|\\phantom{\\verb!x!}\\verb|0|</script></html>"
      ]
     },
     "execution_count": 5,
     "metadata": {
     },
     "output_type": "execute_result"
    },
    {
     "data": {
      "text/html": [
       "<html><script type=\"math/tex; mode=display\">\\newcommand{\\Bold}[1]{\\mathbf{#1}}-{z}\\phantom{\\verb!x!}\\verb|=|\\phantom{\\verb!x!}\\verb|0|</script></html>"
      ]
     },
     "execution_count": 5,
     "metadata": {
     },
     "output_type": "execute_result"
    },
    {
     "data": {
      "text/html": [
       "<html><script type=\"math/tex; mode=display\">\\newcommand{\\Bold}[1]{\\mathbf{#1}}\\verb|El|\\phantom{\\verb!x!}\\verb|eje|\\phantom{\\verb!x!}\\verb|tiene|\\phantom{\\verb!x!}\\verb|ecuacion:|{x_3} = 0</script></html>"
      ]
     },
     "execution_count": 5,
     "metadata": {
     },
     "output_type": "execute_result"
    },
    {
     "data": {
      "text/html": [
       "<html><script type=\"math/tex; mode=display\">\\newcommand{\\Bold}[1]{\\mathbf{#1}}\\verb|Resolvemos:|1\\phantom{\\verb!x!}\\verb|=|\\phantom{\\verb!x!}\\verb|0|</script></html>"
      ]
     },
     "execution_count": 5,
     "metadata": {
     },
     "output_type": "execute_result"
    },
    {
     "data": {
      "text/html": [
       "<html><script type=\"math/tex; mode=display\">\\newcommand{\\Bold}[1]{\\mathbf{#1}}\\left[{\\theta} = +\\infty\\right]</script></html>"
      ]
     },
     "execution_count": 5,
     "metadata": {
     },
     "output_type": "execute_result"
    },
    {
     "data": {
      "text/html": [
       "<html><script type=\"math/tex; mode=display\">\\newcommand{\\Bold}[1]{\\mathbf{#1}}\\verb|El|\\phantom{\\verb!x!}\\verb|punto|\\phantom{\\verb!x!}\\verb|de|\\phantom{\\verb!x!}\\verb|corte|\\phantom{\\verb!x!}\\verb|del|\\phantom{\\verb!x!}\\verb|eje|\\phantom{\\verb!x!}\\verb|con|\\phantom{\\verb!x!}\\verb|las|\\phantom{\\verb!x!}\\verb|rectas|\\phantom{\\verb!x!}\\verb|ha|\\phantom{\\verb!x!}\\verb|sido|\\phantom{\\verb!x!}\\verb|unico:|\\left(0,\\,1,\\,0\\right)</script></html>"
      ]
     },
     "execution_count": 5,
     "metadata": {
     },
     "output_type": "execute_result"
    },
    {
     "data": {
      "text/html": [
       "<html><script type=\"math/tex; mode=display\">\\newcommand{\\Bold}[1]{\\mathbf{#1}}\\verb|Hallamos|\\phantom{\\verb!x!}\\verb|la|\\phantom{\\verb!x!}\\verb|imagen|\\phantom{\\verb!x!}\\verb|del|\\phantom{\\verb!x!}\\verb|punto|\\phantom{\\verb!x!}\\verb|extra|\\phantom{\\verb!x!}\\verb|escogido:|\\left(1,\\,1,\\,1\\right)\\verb|,|\\phantom{\\verb!x!}\\verb|uniendolo|\\phantom{\\verb!x!}\\verb|con|\\phantom{\\verb!x!}\\verb|A':|\\left(0,\\,0,\\,1\\right)\\phantom{\\verb!x!}\\verb|y|\\phantom{\\verb!x!}\\verb|cortando|\\phantom{\\verb!x!}\\verb|esta|\\phantom{\\verb!x!}\\verb|recta|\\phantom{\\verb!x!}\\verb|con|\\phantom{\\verb!x!}\\verb|el|\\phantom{\\verb!x!}\\verb|eje|</script></html>"
      ]
     },
     "execution_count": 5,
     "metadata": {
     },
     "output_type": "execute_result"
    },
    {
     "data": {
      "text/html": [
       "<html><script type=\"math/tex; mode=display\">\\newcommand{\\Bold}[1]{\\mathbf{#1}}\\verb|Resumiendo,|\\phantom{\\verb!x!}\\verb|la|\\phantom{\\verb!x!}\\verb|recta|\\phantom{\\verb!x!}\\verb|corta|\\phantom{\\verb!x!}\\verb|en|\\phantom{\\verb!x!}\\verb|el|\\phantom{\\verb!x!}\\verb|eje|\\phantom{\\verb!x!}\\verb|en:|\\left(1,\\,1,\\,0\\right)\\verb|,|\\phantom{\\verb!x!}\\verb|y|\\phantom{\\verb!x!}\\verb|uniendolo|\\phantom{\\verb!x!}\\verb|con|\\phantom{\\verb!x!}\\verb|A|\\phantom{\\verb!x!}\\verb|corta|\\phantom{\\verb!x!}\\verb|la|\\phantom{\\verb!x!}\\verb|conica|\\phantom{\\verb!x!}\\verb|en:|\\left(2,\\,4,\\,1\\right)</script></html>"
      ]
     },
     "execution_count": 5,
     "metadata": {
     },
     "output_type": "execute_result"
    },
    {
     "data": {
      "text/html": [
       "<html><script type=\"math/tex; mode=display\">\\newcommand{\\Bold}[1]{\\mathbf{#1}}\\verb|Resolvemos:|\\left(\\begin{array}{r}\n",
       "{\\theta} \\\\\n",
       "{\\theta}^{2} \\\\\n",
       "1\n",
       "\\end{array}\\right)\\phantom{\\verb!x!}\\verb|=|\\left(\\begin{array}{rrr}\n",
       "1 & 0 & 0 \\\\\n",
       "0 & 1 & 0 \\\\\n",
       "0 & 0 & 1\n",
       "\\end{array}\\right)\\left(\\begin{array}{r}\n",
       "{\\theta} \\\\\n",
       "{\\theta}^{2} \\\\\n",
       "1\n",
       "\\end{array}\\right)\\phantom{\\verb!x!}\\verb|=|\\left(\\begin{array}{r}\n",
       "-{\\lambda} \\\\\n",
       "{\\lambda} \\\\\n",
       "{\\lambda}\n",
       "\\end{array}\\right)</script></html>"
      ]
     },
     "execution_count": 5,
     "metadata": {
     },
     "output_type": "execute_result"
    },
    {
     "data": {
      "text/html": [
       "<html><script type=\"math/tex; mode=display\">\\newcommand{\\Bold}[1]{\\mathbf{#1}}\\left[\\left[{\\theta} = \\left(-1\\right), {\\lambda} = 1\\right]\\right]</script></html>"
      ]
     },
     "execution_count": 5,
     "metadata": {
     },
     "output_type": "execute_result"
    },
    {
     "data": {
      "text/html": [
       "<html><script type=\"math/tex; mode=display\">\\newcommand{\\Bold}[1]{\\mathbf{#1}}\\verb|Resolvemos:|\\left(\\begin{array}{r}\n",
       "{\\theta} \\\\\n",
       "{\\theta}^{2} \\\\\n",
       "1\n",
       "\\end{array}\\right)\\phantom{\\verb!x!}\\verb|=|\\left(\\begin{array}{rrr}\n",
       "1 & 0 & 0 \\\\\n",
       "0 & 1 & 0 \\\\\n",
       "0 & 0 & 1\n",
       "\\end{array}\\right)\\left(\\begin{array}{r}\n",
       "{\\theta} \\\\\n",
       "{\\theta}^{2} \\\\\n",
       "1\n",
       "\\end{array}\\right)\\phantom{\\verb!x!}\\verb|=|\\left(\\begin{array}{r}\n",
       "0 \\\\\n",
       "0 \\\\\n",
       "{\\lambda}\n",
       "\\end{array}\\right)</script></html>"
      ]
     },
     "execution_count": 5,
     "metadata": {
     },
     "output_type": "execute_result"
    },
    {
     "data": {
      "text/html": [
       "<html><script type=\"math/tex; mode=display\">\\newcommand{\\Bold}[1]{\\mathbf{#1}}\\left[\\left[{\\theta} = 0, {\\lambda} = 1\\right]\\right]</script></html>"
      ]
     },
     "execution_count": 5,
     "metadata": {
     },
     "output_type": "execute_result"
    },
    {
     "data": {
      "text/html": [
       "<html><script type=\"math/tex; mode=display\">\\newcommand{\\Bold}[1]{\\mathbf{#1}}\\verb|Resolvemos:|\\left(\\begin{array}{r}\n",
       "{\\theta} \\\\\n",
       "{\\theta}^{2} \\\\\n",
       "1\n",
       "\\end{array}\\right)\\phantom{\\verb!x!}\\verb|=|\\left(\\begin{array}{rrr}\n",
       "1 & 0 & 0 \\\\\n",
       "0 & 1 & 0 \\\\\n",
       "0 & 0 & 1\n",
       "\\end{array}\\right)\\left(\\begin{array}{r}\n",
       "{\\theta} \\\\\n",
       "{\\theta}^{2} \\\\\n",
       "1\n",
       "\\end{array}\\right)\\phantom{\\verb!x!}\\verb|=|\\left(\\begin{array}{r}\n",
       "0 \\\\\n",
       "{\\lambda} \\\\\n",
       "0\n",
       "\\end{array}\\right)</script></html>"
      ]
     },
     "execution_count": 5,
     "metadata": {
     },
     "output_type": "execute_result"
    },
    {
     "data": {
      "text/html": [
       "<html><script type=\"math/tex; mode=display\">\\newcommand{\\Bold}[1]{\\mathbf{#1}}\\left[\\right]</script></html>"
      ]
     },
     "execution_count": 5,
     "metadata": {
     },
     "output_type": "execute_result"
    },
    {
     "data": {
      "text/html": [
       "<html><script type=\"math/tex; mode=display\">\\newcommand{\\Bold}[1]{\\mathbf{#1}}\\verb|No|\\phantom{\\verb!x!}\\verb|habia|\\phantom{\\verb!x!}\\verb|solucion,|\\phantom{\\verb!x!}\\verb|pero|\\phantom{\\verb!x!}\\verb|el|\\phantom{\\verb!x!}\\verb|punto|\\phantom{\\verb!x!}\\verb|pertenecia|\\phantom{\\verb!x!}\\verb|a|\\phantom{\\verb!x!}\\verb|la|\\phantom{\\verb!x!}\\verb|conica,|\\phantom{\\verb!x!}\\verb|luego|\\phantom{\\verb!x!}\\verb|su|\\phantom{\\verb!x!}\\verb|coordenada|\\phantom{\\verb!x!}\\verb|es|+\\infty</script></html>"
      ]
     },
     "execution_count": 5,
     "metadata": {
     },
     "output_type": "execute_result"
    },
    {
     "data": {
      "text/html": [
       "<html><script type=\"math/tex; mode=display\">\\newcommand{\\Bold}[1]{\\mathbf{#1}}\\verb|Resolvemos:|\\left(\\begin{array}{r}\n",
       "{\\theta} \\\\\n",
       "{\\theta}^{2} \\\\\n",
       "1\n",
       "\\end{array}\\right)\\phantom{\\verb!x!}\\verb|=|\\left(\\begin{array}{rrr}\n",
       "1 & 0 & 0 \\\\\n",
       "0 & 1 & 0 \\\\\n",
       "0 & 0 & 1\n",
       "\\end{array}\\right)\\left(\\begin{array}{r}\n",
       "{\\theta} \\\\\n",
       "{\\theta}^{2} \\\\\n",
       "1\n",
       "\\end{array}\\right)\\phantom{\\verb!x!}\\verb|=|\\left(\\begin{array}{r}\n",
       "0 \\\\\n",
       "{\\lambda} \\\\\n",
       "0\n",
       "\\end{array}\\right)</script></html>"
      ]
     },
     "execution_count": 5,
     "metadata": {
     },
     "output_type": "execute_result"
    },
    {
     "data": {
      "text/html": [
       "<html><script type=\"math/tex; mode=display\">\\newcommand{\\Bold}[1]{\\mathbf{#1}}\\left[\\right]</script></html>"
      ]
     },
     "execution_count": 5,
     "metadata": {
     },
     "output_type": "execute_result"
    },
    {
     "data": {
      "text/html": [
       "<html><script type=\"math/tex; mode=display\">\\newcommand{\\Bold}[1]{\\mathbf{#1}}\\verb|No|\\phantom{\\verb!x!}\\verb|habia|\\phantom{\\verb!x!}\\verb|solucion,|\\phantom{\\verb!x!}\\verb|pero|\\phantom{\\verb!x!}\\verb|el|\\phantom{\\verb!x!}\\verb|punto|\\phantom{\\verb!x!}\\verb|pertenecia|\\phantom{\\verb!x!}\\verb|a|\\phantom{\\verb!x!}\\verb|la|\\phantom{\\verb!x!}\\verb|conica,|\\phantom{\\verb!x!}\\verb|luego|\\phantom{\\verb!x!}\\verb|su|\\phantom{\\verb!x!}\\verb|coordenada|\\phantom{\\verb!x!}\\verb|es|+\\infty</script></html>"
      ]
     },
     "execution_count": 5,
     "metadata": {
     },
     "output_type": "execute_result"
    },
    {
     "data": {
      "text/html": [
       "<html><script type=\"math/tex; mode=display\">\\newcommand{\\Bold}[1]{\\mathbf{#1}}\\verb|Resolvemos:|\\left(\\begin{array}{r}\n",
       "{\\theta} \\\\\n",
       "{\\theta}^{2} \\\\\n",
       "1\n",
       "\\end{array}\\right)\\phantom{\\verb!x!}\\verb|=|\\left(\\begin{array}{rrr}\n",
       "1 & 0 & 0 \\\\\n",
       "0 & 1 & 0 \\\\\n",
       "0 & 0 & 1\n",
       "\\end{array}\\right)\\left(\\begin{array}{r}\n",
       "{\\theta} \\\\\n",
       "{\\theta}^{2} \\\\\n",
       "1\n",
       "\\end{array}\\right)\\phantom{\\verb!x!}\\verb|=|\\left(\\begin{array}{r}\n",
       "{\\lambda} \\\\\n",
       "{\\lambda} \\\\\n",
       "{\\lambda}\n",
       "\\end{array}\\right)</script></html>"
      ]
     },
     "execution_count": 5,
     "metadata": {
     },
     "output_type": "execute_result"
    },
    {
     "data": {
      "text/html": [
       "<html><script type=\"math/tex; mode=display\">\\newcommand{\\Bold}[1]{\\mathbf{#1}}\\left[\\left[{\\theta} = 1, {\\lambda} = 1\\right]\\right]</script></html>"
      ]
     },
     "execution_count": 5,
     "metadata": {
     },
     "output_type": "execute_result"
    },
    {
     "data": {
      "text/html": [
       "<html><script type=\"math/tex; mode=display\">\\newcommand{\\Bold}[1]{\\mathbf{#1}}\\verb|Resolvemos:|\\left(\\begin{array}{r}\n",
       "{\\theta} \\\\\n",
       "{\\theta}^{2} \\\\\n",
       "1\n",
       "\\end{array}\\right)\\phantom{\\verb!x!}\\verb|=|\\left(\\begin{array}{rrr}\n",
       "1 & 0 & 0 \\\\\n",
       "0 & 1 & 0 \\\\\n",
       "0 & 0 & 1\n",
       "\\end{array}\\right)\\left(\\begin{array}{r}\n",
       "{\\theta} \\\\\n",
       "{\\theta}^{2} \\\\\n",
       "1\n",
       "\\end{array}\\right)\\phantom{\\verb!x!}\\verb|=|\\left(\\begin{array}{r}\n",
       "2 \\, {\\lambda} \\\\\n",
       "4 \\, {\\lambda} \\\\\n",
       "{\\lambda}\n",
       "\\end{array}\\right)</script></html>"
      ]
     },
     "execution_count": 5,
     "metadata": {
     },
     "output_type": "execute_result"
    },
    {
     "data": {
      "text/html": [
       "<html><script type=\"math/tex; mode=display\">\\newcommand{\\Bold}[1]{\\mathbf{#1}}\\left[\\left[{\\theta} = 2, {\\lambda} = 1\\right]\\right]</script></html>"
      ]
     },
     "execution_count": 5,
     "metadata": {
     },
     "output_type": "execute_result"
    },
    {
     "data": {
      "text/html": [
       "<html><script type=\"math/tex; mode=display\">\\newcommand{\\Bold}[1]{\\mathbf{#1}}\\verb|Las|\\phantom{\\verb!x!}\\verb|coordenadas|\\phantom{\\verb!x!}\\verb|en|\\phantom{\\verb!x!}\\verb|la|\\phantom{\\verb!x!}\\verb|recta|\\phantom{\\verb!x!}\\verb|de|\\phantom{\\verb!x!}\\verb|los|\\phantom{\\verb!x!}\\verb|puntos|\\phantom{\\verb!x!}\\verb|que|\\phantom{\\verb!x!}\\verb|se|\\phantom{\\verb!x!}\\verb|van|\\phantom{\\verb!x!}\\verb|a|\\phantom{\\verb!x!}\\verb|transformar|\\phantom{\\verb!x!}\\verb|son:|</script></html>"
      ]
     },
     "execution_count": 5,
     "metadata": {
     },
     "output_type": "execute_result"
    },
    {
     "data": {
      "text/html": [
       "<html><script type=\"math/tex; mode=display\">\\newcommand{\\Bold}[1]{\\mathbf{#1}}-1\\phantom{\\verb!x!}\\verb|->|0</script></html>"
      ]
     },
     "execution_count": 5,
     "metadata": {
     },
     "output_type": "execute_result"
    },
    {
     "data": {
      "text/html": [
       "<html><script type=\"math/tex; mode=display\">\\newcommand{\\Bold}[1]{\\mathbf{#1}}+\\infty\\phantom{\\verb!x!}\\verb|->|+\\infty</script></html>"
      ]
     },
     "execution_count": 5,
     "metadata": {
     },
     "output_type": "execute_result"
    },
    {
     "data": {
      "text/html": [
       "<html><script type=\"math/tex; mode=display\">\\newcommand{\\Bold}[1]{\\mathbf{#1}}1\\phantom{\\verb!x!}\\verb|->|2</script></html>"
      ]
     },
     "execution_count": 5,
     "metadata": {
     },
     "output_type": "execute_result"
    },
    {
     "data": {
      "text/html": [
       "<html><script type=\"math/tex; mode=display\">\\newcommand{\\Bold}[1]{\\mathbf{#1}}\\verb|La|\\phantom{\\verb!x!}\\verb|homografia|\\phantom{\\verb!x!}\\verb|tendra|\\phantom{\\verb!x!}\\verb|la|\\phantom{\\verb!x!}\\verb|forma:|\\phantom{\\verb!x!}\\verb|theta'|\\phantom{\\verb!x!}\\verb|=|\\phantom{\\verb!x!}\\verb|(a|\\phantom{\\verb!x!}\\verb|theta|\\phantom{\\verb!x!}\\verb|+|\\phantom{\\verb!x!}\\verb|b)|\\phantom{\\verb!x!}\\verb|/|\\phantom{\\verb!x!}\\verb|(c|\\phantom{\\verb!x!}\\verb|theta|\\phantom{\\verb!x!}\\verb|+|\\phantom{\\verb!x!}\\verb|d)|</script></html>"
      ]
     },
     "execution_count": 5,
     "metadata": {
     },
     "output_type": "execute_result"
    },
    {
     "data": {
      "text/html": [
       "<html><script type=\"math/tex; mode=display\">\\newcommand{\\Bold}[1]{\\mathbf{#1}}\\verb|Resolvemos|\\phantom{\\verb!x!}\\verb|el|\\phantom{\\verb!x!}\\verb|sistema:|\\left[0 = \\frac{{a} - {b}}{{c} - {d}}, {c} = 0, 2 = \\frac{{a} + {b}}{{c} + {d}}\\right]\\verb|para|\\phantom{\\verb!x!}\\verb|a,|\\phantom{\\verb!x!}\\verb|b,|\\phantom{\\verb!x!}\\verb|c,|\\phantom{\\verb!x!}\\verb|d:|</script></html>"
      ]
     },
     "execution_count": 5,
     "metadata": {
     },
     "output_type": "execute_result"
    },
    {
     "data": {
      "text/html": [
       "<html><script type=\"math/tex; mode=display\">\\newcommand{\\Bold}[1]{\\mathbf{#1}}\\left[{a} = 1, {b} = 1, {c} = 0, {d} = 1\\right]</script></html>"
      ]
     },
     "execution_count": 5,
     "metadata": {
     },
     "output_type": "execute_result"
    }
   ],
   "source": [
    "# (a)\n",
    "# Obtenemos el resultado en el procedimiento de la siguiente función\n",
    "# Indicamos un punto extra cualquiera para que la función pueda actuar (justo el que se elige por defecto coincide con A') aunque no sería necesario\n",
    "h = crear_homografia_conica_fijos(A1, A2, p, M, extra = 1)"
   ]
  },
  {
   "cell_type": "code",
   "execution_count": 6,
   "metadata": {
    "collapsed": false
   },
   "outputs": [
    {
     "data": {
      "text/html": [
       "<html><script type=\"math/tex; mode=display\">\\newcommand{\\Bold}[1]{\\mathbf{#1}}{x_3} = 0</script></html>"
      ]
     },
     "execution_count": 6,
     "metadata": {
     },
     "output_type": "execute_result"
    }
   ],
   "source": [
    "# A mitad de procedimiento ya conocíamos la solución, pero se muestra aquí aparte igualmente\n",
    "# Para esto no necesitamos ya procedimiento\n",
    "mostrar_procedimiento(False)\n",
    "# Solución\n",
    "h.eje().implicitas()[0]"
   ]
  },
  {
   "cell_type": "code",
   "execution_count": 7,
   "metadata": {
    "collapsed": false
   },
   "outputs": [
    {
     "data": {
      "text/html": [
       "<html><script type=\"math/tex; mode=display\">\\newcommand{\\Bold}[1]{\\mathbf{#1}}\\verb|Necesitaremos|\\phantom{\\verb!x!}\\verb|ele|\\phantom{\\verb!x!}\\verb|eje,|\\phantom{\\verb!x!}\\verb|lo|\\phantom{\\verb!x!}\\verb|calculamos:|</script></html>"
      ]
     },
     "execution_count": 7,
     "metadata": {
     },
     "output_type": "execute_result"
    },
    {
     "data": {
      "text/html": [
       "<html><script type=\"math/tex; mode=display\">\\newcommand{\\Bold}[1]{\\mathbf{#1}}\\verb|Calculamos|\\phantom{\\verb!x!}\\verb|los|\\phantom{\\verb!x!}\\verb|puntos|\\phantom{\\verb!x!}\\verb|fijos:|</script></html>"
      ]
     },
     "execution_count": 7,
     "metadata": {
     },
     "output_type": "execute_result"
    },
    {
     "data": {
      "text/html": [
       "<html><script type=\"math/tex; mode=display\">\\newcommand{\\Bold}[1]{\\mathbf{#1}}\\verb|Podemos|\\phantom{\\verb!x!}\\verb|obtener|\\phantom{\\verb!x!}\\verb|los|\\phantom{\\verb!x!}\\verb|puntos|\\phantom{\\verb!x!}\\verb|fijos|\\phantom{\\verb!x!}\\verb|directamente|\\phantom{\\verb!x!}\\verb|de:|\\left(-1\\right) = 0\\verb|,|\\phantom{\\verb!x!}\\verb|pero|\\phantom{\\verb!x!}\\verb|vamos|\\phantom{\\verb!x!}\\verb|a|\\phantom{\\verb!x!}\\verb|usar|\\phantom{\\verb!x!}\\verb|los|\\phantom{\\verb!x!}\\verb|autovectores|\\phantom{\\verb!x!}\\verb|porque|\\phantom{\\verb!x!}\\verb|es|\\phantom{\\verb!x!}\\verb|mas|\\phantom{\\verb!x!}\\verb|sencillo|\\phantom{\\verb!x!}\\verb|para|\\phantom{\\verb!x!}\\verb|el|\\phantom{\\verb!x!}\\verb|algoritmo|</script></html>"
      ]
     },
     "execution_count": 7,
     "metadata": {
     },
     "output_type": "execute_result"
    },
    {
     "data": {
      "text/html": [
       "<html><script type=\"math/tex; mode=display\">\\newcommand{\\Bold}[1]{\\mathbf{#1}}\\verb|det|\\left(\\begin{array}{rr}\n",
       "-{\\lambda} + 1 & 1 \\\\\n",
       "0 & -{\\lambda} + 1\n",
       "\\end{array}\\right)\\verb|=0|</script></html>"
      ]
     },
     "execution_count": 7,
     "metadata": {
     },
     "output_type": "execute_result"
    },
    {
     "data": {
      "text/html": [
       "<html><script type=\"math/tex; mode=display\">\\newcommand{\\Bold}[1]{\\mathbf{#1}}\\verb|Resolvemos|\\left(\\begin{array}{rr}\n",
       "-{\\lambda} + 1 & 1 \\\\\n",
       "0 & -{\\lambda} + 1\n",
       "\\end{array}\\right)\\verb|*X|\\phantom{\\verb!x!}\\verb|=|\\phantom{\\verb!x!}\\verb|0|\\phantom{\\verb!x!}\\verb|para|\\phantom{\\verb!x!}\\verb|los|\\phantom{\\verb!x!}\\verb|autovalores:|\\left[1\\right]</script></html>"
      ]
     },
     "execution_count": 7,
     "metadata": {
     },
     "output_type": "execute_result"
    },
    {
     "data": {
      "text/html": [
       "<html><script type=\"math/tex; mode=display\">\\newcommand{\\Bold}[1]{\\mathbf{#1}}\\verb|Si|\\phantom{\\verb!x!}\\verb|queda|\\phantom{\\verb!x!}\\verb|algun|\\phantom{\\verb!x!}\\verb|parametro,|\\phantom{\\verb!x!}\\verb|se|\\phantom{\\verb!x!}\\verb|podra|\\phantom{\\verb!x!}\\verb|sacar|\\phantom{\\verb!x!}\\verb|como|\\phantom{\\verb!x!}\\verb|factor|\\phantom{\\verb!x!}\\verb|comun|\\phantom{\\verb!x!}\\verb|y|\\phantom{\\verb!x!}\\verb|sustituirse|\\phantom{\\verb!x!}\\verb|por|\\phantom{\\verb!x!}\\verb|cualquier|\\phantom{\\verb!x!}\\verb|valor|</script></html>"
      ]
     },
     "execution_count": 7,
     "metadata": {
     },
     "output_type": "execute_result"
    },
    {
     "data": {
      "text/html": [
       "<html><script type=\"math/tex; mode=display\">\\newcommand{\\Bold}[1]{\\mathbf{#1}}\\verb|Las|\\phantom{\\verb!x!}\\verb|coordenadas|\\phantom{\\verb!x!}\\verb|de|\\phantom{\\verb!x!}\\verb|los|\\phantom{\\verb!x!}\\verb|puntos|\\phantom{\\verb!x!}\\verb|fijos|\\phantom{\\verb!x!}\\verb|son:|\\left[+\\infty\\right]</script></html>"
      ]
     },
     "execution_count": 7,
     "metadata": {
     },
     "output_type": "execute_result"
    },
    {
     "data": {
      "text/html": [
       "<html><script type=\"math/tex; mode=display\">\\newcommand{\\Bold}[1]{\\mathbf{#1}}\\verb|Recuperamos|\\phantom{\\verb!x!}\\verb|los|\\phantom{\\verb!x!}\\verb|puntos:|</script></html>"
      ]
     },
     "execution_count": 7,
     "metadata": {
     },
     "output_type": "execute_result"
    },
    {
     "data": {
      "text/html": [
       "<html><script type=\"math/tex; mode=display\">\\newcommand{\\Bold}[1]{\\mathbf{#1}}\\verb|Los|\\phantom{\\verb!x!}\\verb|puntos|\\phantom{\\verb!x!}\\verb|fijos|\\phantom{\\verb!x!}\\verb|son:|\\left[\\left(0,\\,1,\\,0\\right)\\right]</script></html>"
      ]
     },
     "execution_count": 7,
     "metadata": {
     },
     "output_type": "execute_result"
    },
    {
     "data": {
      "text/html": [
       "<html><script type=\"math/tex; mode=display\">\\newcommand{\\Bold}[1]{\\mathbf{#1}}\\verb|Tomamos|\\phantom{\\verb!x!}\\verb|la|\\phantom{\\verb!x!}\\verb|recta|\\phantom{\\verb!x!}\\verb|tangente|\\phantom{\\verb!x!}\\verb|(para|\\phantom{\\verb!x!}\\verb|ello|\\phantom{\\verb!x!}\\verb|necesitamos|\\phantom{\\verb!x!}\\verb|saber|\\phantom{\\verb!x!}\\verb|la|\\phantom{\\verb!x!}\\verb|matriz|\\phantom{\\verb!x!}\\verb|de|\\phantom{\\verb!x!}\\verb|la|\\phantom{\\verb!x!}\\verb|conica)|</script></html>"
      ]
     },
     "execution_count": 7,
     "metadata": {
     },
     "output_type": "execute_result"
    },
    {
     "data": {
      "text/html": [
       "<html><script type=\"math/tex; mode=display\">\\newcommand{\\Bold}[1]{\\mathbf{#1}}\\verb|La|\\phantom{\\verb!x!}\\verb|matriz|\\phantom{\\verb!x!}\\verb|de|\\phantom{\\verb!x!}\\verb|la|\\phantom{\\verb!x!}\\verb|conica|\\phantom{\\verb!x!}\\verb|que|\\phantom{\\verb!x!}\\verb|representa|\\phantom{\\verb!x!}\\verb|esta|\\phantom{\\verb!x!}\\verb|parametrizacion|\\phantom{\\verb!x!}\\verb|sera:|</script></html>"
      ]
     },
     "execution_count": 7,
     "metadata": {
     },
     "output_type": "execute_result"
    },
    {
     "data": {
      "text/html": [
       "<html><script type=\"math/tex; mode=display\">\\newcommand{\\Bold}[1]{\\mathbf{#1}}\\left(\\begin{array}{rrr}\n",
       "1 & 0 & 0 \\\\\n",
       "0 & 1 & 0 \\\\\n",
       "0 & 0 & 1\n",
       "\\end{array}\\right)\\verb|^-t|\\phantom{\\verb!x!}\\verb|*|\\left(\\begin{array}{rrr}\n",
       "0 & 1 & 0 \\\\\n",
       "0 & 0 & 1 \\\\\n",
       "1 & 0 & 0\n",
       "\\end{array}\\right)\\verb|^-t|\\phantom{\\verb!x!}\\verb|*|\\left(\\begin{array}{rrr}\n",
       "0 & 0 & -1 \\\\\n",
       "0 & 2 & 0 \\\\\n",
       "-1 & 0 & 0\n",
       "\\end{array}\\right)\\phantom{\\verb!x!}\\verb|*|\\left(\\begin{array}{rrr}\n",
       "0 & 1 & 0 \\\\\n",
       "0 & 0 & 1 \\\\\n",
       "1 & 0 & 0\n",
       "\\end{array}\\right)\\verb|^-1|\\phantom{\\verb!x!}\\verb|*|\\left(\\begin{array}{rrr}\n",
       "1 & 0 & 0 \\\\\n",
       "0 & 1 & 0 \\\\\n",
       "0 & 0 & 1\n",
       "\\end{array}\\right)\\verb|^-1|</script></html>"
      ]
     },
     "execution_count": 7,
     "metadata": {
     },
     "output_type": "execute_result"
    },
    {
     "data": {
      "text/html": [
       "<html><script type=\"math/tex; mode=display\">\\newcommand{\\Bold}[1]{\\mathbf{#1}}\\verb|La|\\phantom{\\verb!x!}\\verb|ecuacion|\\phantom{\\verb!x!}\\verb|de|\\phantom{\\verb!x!}\\verb|la|\\phantom{\\verb!x!}\\verb|recta|\\phantom{\\verb!x!}\\verb|polar|\\phantom{\\verb!x!}\\verb|a|\\phantom{\\verb!x!}\\verb|p|\\phantom{\\verb!x!}\\verb|es:|\\left(\\begin{array}{rrr}\n",
       "{x} & {y} & {z}\n",
       "\\end{array}\\right)\\left(\\begin{array}{rrr}\n",
       "2 & 0 & 0 \\\\\n",
       "0 & 0 & -1 \\\\\n",
       "0 & -1 & 0\n",
       "\\end{array}\\right)\\left(\\begin{array}{r}\n",
       "0 \\\\\n",
       "1 \\\\\n",
       "0\n",
       "\\end{array}\\right)\\phantom{\\verb!x!}\\verb|=|\\phantom{\\verb!x!}\\verb|0|</script></html>"
      ]
     },
     "execution_count": 7,
     "metadata": {
     },
     "output_type": "execute_result"
    },
    {
     "data": {
      "text/html": [
       "<html><script type=\"math/tex; mode=display\">\\newcommand{\\Bold}[1]{\\mathbf{#1}}-{z}\\phantom{\\verb!x!}\\verb|=|\\phantom{\\verb!x!}\\verb|0|</script></html>"
      ]
     },
     "execution_count": 7,
     "metadata": {
     },
     "output_type": "execute_result"
    },
    {
     "data": {
      "text/html": [
       "<html><script type=\"math/tex; mode=display\">\\newcommand{\\Bold}[1]{\\mathbf{#1}}\\verb|Obtenemos|\\phantom{\\verb!x!}\\verb|los|\\phantom{\\verb!x!}\\verb|puntos|\\phantom{\\verb!x!}\\verb|fijos|\\phantom{\\verb!x!}\\verb|de|\\phantom{\\verb!x!}\\verb|la|\\phantom{\\verb!x!}\\verb|involucion|\\phantom{\\verb!x!}\\verb|dada|\\phantom{\\verb!x!}\\verb|por|\\phantom{\\verb!x!}\\verb|el|\\phantom{\\verb!x!}\\verb|centro:|\\left(1,\\,0,\\,0\\right)\\verb|;|\\phantom{\\verb!x!}\\verb|y|\\phantom{\\verb!x!}\\verb|nos|\\phantom{\\verb!x!}\\verb|quedamos|\\phantom{\\verb!x!}\\verb|con|\\phantom{\\verb!x!}\\verb|uno|\\phantom{\\verb!x!}\\verb|que|\\phantom{\\verb!x!}\\verb|no|\\phantom{\\verb!x!}\\verb|coincida|\\phantom{\\verb!x!}\\verb|con|\\phantom{\\verb!x!}\\verb|el|\\phantom{\\verb!x!}\\verb|de|\\phantom{\\verb!x!}\\verb|esta|</script></html>"
      ]
     },
     "execution_count": 7,
     "metadata": {
     },
     "output_type": "execute_result"
    },
    {
     "data": {
      "text/html": [
       "<html><script type=\"math/tex; mode=display\">\\newcommand{\\Bold}[1]{\\mathbf{#1}}\\verb|Los|\\phantom{\\verb!x!}\\verb|puntos|\\phantom{\\verb!x!}\\verb|fijos|\\phantom{\\verb!x!}\\verb|son|\\phantom{\\verb!x!}\\verb|la|\\phantom{\\verb!x!}\\verb|interseccion|\\phantom{\\verb!x!}\\verb|del|\\phantom{\\verb!x!}\\verb|eje|\\phantom{\\verb!x!}\\verb|con|\\phantom{\\verb!x!}\\verb|la|\\phantom{\\verb!x!}\\verb|conica|</script></html>"
      ]
     },
     "execution_count": 7,
     "metadata": {
     },
     "output_type": "execute_result"
    },
    {
     "data": {
      "text/html": [
       "<html><script type=\"math/tex; mode=display\">\\newcommand{\\Bold}[1]{\\mathbf{#1}}\\verb|El|\\phantom{\\verb!x!}\\verb|eje|\\phantom{\\verb!x!}\\verb|es|\\phantom{\\verb!x!}\\verb|simplemente|\\phantom{\\verb!x!}\\verb|la|\\phantom{\\verb!x!}\\verb|polar|\\phantom{\\verb!x!}\\verb|del|\\phantom{\\verb!x!}\\verb|vertice|</script></html>"
      ]
     },
     "execution_count": 7,
     "metadata": {
     },
     "output_type": "execute_result"
    },
    {
     "data": {
      "text/html": [
       "<html><script type=\"math/tex; mode=display\">\\newcommand{\\Bold}[1]{\\mathbf{#1}}\\verb|Recuperamos|\\phantom{\\verb!x!}\\verb|la|\\phantom{\\verb!x!}\\verb|conica|\\phantom{\\verb!x!}\\verb|sin|\\phantom{\\verb!x!}\\verb|parametrizar|</script></html>"
      ]
     },
     "execution_count": 7,
     "metadata": {
     },
     "output_type": "execute_result"
    },
    {
     "data": {
      "text/html": [
       "<html><script type=\"math/tex; mode=display\">\\newcommand{\\Bold}[1]{\\mathbf{#1}}\\verb|La|\\phantom{\\verb!x!}\\verb|matriz|\\phantom{\\verb!x!}\\verb|de|\\phantom{\\verb!x!}\\verb|la|\\phantom{\\verb!x!}\\verb|conica|\\phantom{\\verb!x!}\\verb|que|\\phantom{\\verb!x!}\\verb|representa|\\phantom{\\verb!x!}\\verb|esta|\\phantom{\\verb!x!}\\verb|parametrizacion|\\phantom{\\verb!x!}\\verb|sera:|</script></html>"
      ]
     },
     "execution_count": 7,
     "metadata": {
     },
     "output_type": "execute_result"
    },
    {
     "data": {
      "text/html": [
       "<html><script type=\"math/tex; mode=display\">\\newcommand{\\Bold}[1]{\\mathbf{#1}}\\left(\\begin{array}{rrr}\n",
       "1 & 0 & 0 \\\\\n",
       "0 & 1 & 0 \\\\\n",
       "0 & 0 & 1\n",
       "\\end{array}\\right)\\verb|^-t|\\phantom{\\verb!x!}\\verb|*|\\left(\\begin{array}{rrr}\n",
       "0 & 1 & 0 \\\\\n",
       "0 & 0 & 1 \\\\\n",
       "1 & 0 & 0\n",
       "\\end{array}\\right)\\verb|^-t|\\phantom{\\verb!x!}\\verb|*|\\left(\\begin{array}{rrr}\n",
       "0 & 0 & -1 \\\\\n",
       "0 & 2 & 0 \\\\\n",
       "-1 & 0 & 0\n",
       "\\end{array}\\right)\\phantom{\\verb!x!}\\verb|*|\\left(\\begin{array}{rrr}\n",
       "0 & 1 & 0 \\\\\n",
       "0 & 0 & 1 \\\\\n",
       "1 & 0 & 0\n",
       "\\end{array}\\right)\\verb|^-1|\\phantom{\\verb!x!}\\verb|*|\\left(\\begin{array}{rrr}\n",
       "1 & 0 & 0 \\\\\n",
       "0 & 1 & 0 \\\\\n",
       "0 & 0 & 1\n",
       "\\end{array}\\right)\\verb|^-1|</script></html>"
      ]
     },
     "execution_count": 7,
     "metadata": {
     },
     "output_type": "execute_result"
    },
    {
     "data": {
      "text/html": [
       "<html><script type=\"math/tex; mode=display\">\\newcommand{\\Bold}[1]{\\mathbf{#1}}\\verb|La|\\phantom{\\verb!x!}\\verb|ecuacion|\\phantom{\\verb!x!}\\verb|de|\\phantom{\\verb!x!}\\verb|la|\\phantom{\\verb!x!}\\verb|recta|\\phantom{\\verb!x!}\\verb|polar|\\phantom{\\verb!x!}\\verb|a|\\phantom{\\verb!x!}\\verb|p|\\phantom{\\verb!x!}\\verb|es:|\\left(\\begin{array}{rrr}\n",
       "{x} & {y} & {z}\n",
       "\\end{array}\\right)\\left(\\begin{array}{rrr}\n",
       "2 & 0 & 0 \\\\\n",
       "0 & 0 & -1 \\\\\n",
       "0 & -1 & 0\n",
       "\\end{array}\\right)\\left(\\begin{array}{r}\n",
       "1 \\\\\n",
       "0 \\\\\n",
       "0\n",
       "\\end{array}\\right)\\phantom{\\verb!x!}\\verb|=|\\phantom{\\verb!x!}\\verb|0|</script></html>"
      ]
     },
     "execution_count": 7,
     "metadata": {
     },
     "output_type": "execute_result"
    },
    {
     "data": {
      "text/html": [
       "<html><script type=\"math/tex; mode=display\">\\newcommand{\\Bold}[1]{\\mathbf{#1}}2 \\, {x}\\phantom{\\verb!x!}\\verb|=|\\phantom{\\verb!x!}\\verb|0|</script></html>"
      ]
     },
     "execution_count": 7,
     "metadata": {
     },
     "output_type": "execute_result"
    },
    {
     "data": {
      "text/html": [
       "<html><script type=\"math/tex; mode=display\">\\newcommand{\\Bold}[1]{\\mathbf{#1}}\\verb|Resolvemos:|{\\theta}\\phantom{\\verb!x!}\\verb|=|\\phantom{\\verb!x!}\\verb|0|</script></html>"
      ]
     },
     "execution_count": 7,
     "metadata": {
     },
     "output_type": "execute_result"
    },
    {
     "data": {
      "text/html": [
       "<html><script type=\"math/tex; mode=display\">\\newcommand{\\Bold}[1]{\\mathbf{#1}}\\left[{\\theta} = +\\infty, {\\theta} = 0\\right]</script></html>"
      ]
     },
     "execution_count": 7,
     "metadata": {
     },
     "output_type": "execute_result"
    },
    {
     "data": {
      "text/html": [
       "<html><script type=\"math/tex; mode=display\">\\newcommand{\\Bold}[1]{\\mathbf{#1}}\\verb|Calculamos|\\phantom{\\verb!x!}\\verb|la|\\phantom{\\verb!x!}\\verb|imagen|\\phantom{\\verb!x!}\\verb|a|\\phantom{\\verb!x!}\\verb|traves|\\phantom{\\verb!x!}\\verb|de|\\phantom{\\verb!x!}\\verb|esta|\\phantom{\\verb!x!}\\verb|homografia|\\phantom{\\verb!x!}\\verb|del|\\phantom{\\verb!x!}\\verb|punto|\\phantom{\\verb!x!}\\verb|fijo|\\phantom{\\verb!x!}\\verb|de|\\phantom{\\verb!x!}\\verb|la|\\phantom{\\verb!x!}\\verb|involucion|\\phantom{\\verb!x!}\\verb|elegido:|\\phantom{\\verb!x!}\\verb|h|\\left(0,\\,0,\\,1\\right)\\phantom{\\verb!x!}\\verb|=|\\left(1,\\,1,\\,1\\right)</script></html>"
      ]
     },
     "execution_count": 7,
     "metadata": {
     },
     "output_type": "execute_result"
    },
    {
     "data": {
      "text/html": [
       "<html><script type=\"math/tex; mode=display\">\\newcommand{\\Bold}[1]{\\mathbf{#1}}\\verb|Los|\\phantom{\\verb!x!}\\verb|unimos|\\phantom{\\verb!x!}\\verb|e|\\phantom{\\verb!x!}\\verb|intersecamos|\\phantom{\\verb!x!}\\verb|con|\\phantom{\\verb!x!}\\verb|el|\\phantom{\\verb!x!}\\verb|eje|\\phantom{\\verb!x!}\\verb|para|\\phantom{\\verb!x!}\\verb|obtener|\\phantom{\\verb!x!}\\verb|el|\\phantom{\\verb!x!}\\verb|otro|\\phantom{\\verb!x!}\\verb|centro:|</script></html>"
      ]
     },
     "execution_count": 7,
     "metadata": {
     },
     "output_type": "execute_result"
    },
    {
     "data": {
      "text/html": [
       "<html><script type=\"math/tex; mode=display\">\\newcommand{\\Bold}[1]{\\mathbf{#1}}\\verb|Subespacio|\\phantom{\\verb!x!}\\verb|que|\\phantom{\\verb!x!}\\verb|contiene|\\phantom{\\verb!x!}\\verb|los|\\phantom{\\verb!x!}\\verb|puntos|\\left(\\left(0,\\,0,\\,1\\right), \\left(1,\\,1,\\,1\\right)\\right)</script></html>"
      ]
     },
     "execution_count": 7,
     "metadata": {
     },
     "output_type": "execute_result"
    },
    {
     "data": {
      "text/html": [
       "<html><script type=\"math/tex; mode=display\">\\newcommand{\\Bold}[1]{\\mathbf{#1}}\\verb|Primero|\\phantom{\\verb!x!}\\verb|reducimos|\\phantom{\\verb!x!}\\verb|a|\\phantom{\\verb!x!}\\verb|su|\\phantom{\\verb!x!}\\verb|forma|\\phantom{\\verb!x!}\\verb|normal:|\\left(\\begin{array}{rr}\n",
       "1 & 0 \\\\\n",
       "1 & 0 \\\\\n",
       "0 & 1\n",
       "\\end{array}\\right)</script></html>"
      ]
     },
     "execution_count": 7,
     "metadata": {
     },
     "output_type": "execute_result"
    },
    {
     "data": {
      "text/html": [
       "<html><script type=\"math/tex; mode=display\">\\newcommand{\\Bold}[1]{\\mathbf{#1}}\\verb|Resolvemos|\\phantom{\\verb!x!}\\verb|las|\\phantom{\\verb!x!}\\verb|siguientes|\\phantom{\\verb!x!}\\verb|ecuaciones:|</script></html>"
      ]
     },
     "execution_count": 7,
     "metadata": {
     },
     "output_type": "execute_result"
    },
    {
     "data": {
      "text/html": [
       "<html><script type=\"math/tex; mode=display\">\\newcommand{\\Bold}[1]{\\mathbf{#1}}\\verb|det|\\left(\\begin{array}{rrr}\n",
       "1 & 0 & {x_1} \\\\\n",
       "1 & 0 & {x_2} \\\\\n",
       "0 & 1 & {x_3}\n",
       "\\end{array}\\right)\\verb|=|\\phantom{\\verb!x!}\\verb|0|\\phantom{\\verb!x!}\\verb|=>|{x_1} - {x_2} = 0</script></html>"
      ]
     },
     "execution_count": 7,
     "metadata": {
     },
     "output_type": "execute_result"
    },
    {
     "data": {
      "text/html": [
       "<html><script type=\"math/tex; mode=display\">\\newcommand{\\Bold}[1]{\\mathbf{#1}}\\verb|Para|\\phantom{\\verb!x!}\\verb|intersecar|\\phantom{\\verb!x!}\\verb|unimos|\\phantom{\\verb!x!}\\verb|las|\\phantom{\\verb!x!}\\verb|ecuaciones|\\phantom{\\verb!x!}\\verb|de|\\phantom{\\verb!x!}\\verb|cada|\\phantom{\\verb!x!}\\verb|subespacio:|\\left[\\left[{x_1} - {x_2} = 0\\right], \\left[{x_3} = 0\\right]\\right]</script></html>"
      ]
     },
     "execution_count": 7,
     "metadata": {
     },
     "output_type": "execute_result"
    },
    {
     "data": {
      "text/html": [
       "<html><script type=\"math/tex; mode=display\">\\newcommand{\\Bold}[1]{\\mathbf{#1}}\\verb|Subespacio|\\phantom{\\verb!x!}\\verb|que|\\phantom{\\verb!x!}\\verb|contiene|\\phantom{\\verb!x!}\\verb|los|\\phantom{\\verb!x!}\\verb|puntos|\\left[\\left(1,\\,-1,\\,0\\right), \\left(0,\\,0,\\,1\\right)\\right]</script></html>"
      ]
     },
     "execution_count": 7,
     "metadata": {
     },
     "output_type": "execute_result"
    },
    {
     "data": {
      "text/html": [
       "<html><script type=\"math/tex; mode=display\">\\newcommand{\\Bold}[1]{\\mathbf{#1}}\\verb|Primero|\\phantom{\\verb!x!}\\verb|reducimos|\\phantom{\\verb!x!}\\verb|a|\\phantom{\\verb!x!}\\verb|su|\\phantom{\\verb!x!}\\verb|forma|\\phantom{\\verb!x!}\\verb|normal:|\\left(\\begin{array}{rr}\n",
       "1 & 0 \\\\\n",
       "-1 & 0 \\\\\n",
       "0 & 1\n",
       "\\end{array}\\right)</script></html>"
      ]
     },
     "execution_count": 7,
     "metadata": {
     },
     "output_type": "execute_result"
    },
    {
     "data": {
      "text/html": [
       "<html><script type=\"math/tex; mode=display\">\\newcommand{\\Bold}[1]{\\mathbf{#1}}\\verb|Resolvemos|\\phantom{\\verb!x!}\\verb|las|\\phantom{\\verb!x!}\\verb|siguientes|\\phantom{\\verb!x!}\\verb|ecuaciones:|</script></html>"
      ]
     },
     "execution_count": 7,
     "metadata": {
     },
     "output_type": "execute_result"
    },
    {
     "data": {
      "text/html": [
       "<html><script type=\"math/tex; mode=display\">\\newcommand{\\Bold}[1]{\\mathbf{#1}}\\verb|det|\\left(\\begin{array}{rrr}\n",
       "1 & 0 & {x_1} \\\\\n",
       "-1 & 0 & {x_2} \\\\\n",
       "0 & 1 & {x_3}\n",
       "\\end{array}\\right)\\verb|=|\\phantom{\\verb!x!}\\verb|0|\\phantom{\\verb!x!}\\verb|=>|-{x_1} - {x_2} = 0</script></html>"
      ]
     },
     "execution_count": 7,
     "metadata": {
     },
     "output_type": "execute_result"
    },
    {
     "data": {
      "text/html": [
       "<html><script type=\"math/tex; mode=display\">\\newcommand{\\Bold}[1]{\\mathbf{#1}}\\verb|Ahora|\\phantom{\\verb!x!}\\verb|obtenemos|\\phantom{\\verb!x!}\\verb|el|\\phantom{\\verb!x!}\\verb|dual|\\phantom{\\verb!x!}\\verb|del|\\phantom{\\verb!x!}\\verb|subespacio|\\phantom{\\verb!x!}\\verb|calculado|\\phantom{\\verb!x!}\\verb|(era|\\phantom{\\verb!x!}\\verb|el|\\phantom{\\verb!x!}\\verb|dual|\\phantom{\\verb!x!}\\verb|del|\\phantom{\\verb!x!}\\verb|que|\\phantom{\\verb!x!}\\verb|buscabamos):|</script></html>"
      ]
     },
     "execution_count": 7,
     "metadata": {
     },
     "output_type": "execute_result"
    },
    {
     "data": {
      "text/html": [
       "<html><script type=\"math/tex; mode=display\">\\newcommand{\\Bold}[1]{\\mathbf{#1}}\\verb|Subespacio|\\phantom{\\verb!x!}\\verb|que|\\phantom{\\verb!x!}\\verb|contiene|\\phantom{\\verb!x!}\\verb|los|\\phantom{\\verb!x!}\\verb|puntos|\\left[\\left(-1,\\,-1,\\,0\\right)\\right]</script></html>"
      ]
     },
     "execution_count": 7,
     "metadata": {
     },
     "output_type": "execute_result"
    },
    {
     "data": {
      "text/html": [
       "<html><script type=\"math/tex; mode=display\">\\newcommand{\\Bold}[1]{\\mathbf{#1}}\\verb|Primero|\\phantom{\\verb!x!}\\verb|reducimos|\\phantom{\\verb!x!}\\verb|a|\\phantom{\\verb!x!}\\verb|su|\\phantom{\\verb!x!}\\verb|forma|\\phantom{\\verb!x!}\\verb|normal:|\\left(\\begin{array}{r}\n",
       "1 \\\\\n",
       "1 \\\\\n",
       "0\n",
       "\\end{array}\\right)</script></html>"
      ]
     },
     "execution_count": 7,
     "metadata": {
     },
     "output_type": "execute_result"
    },
    {
     "data": {
      "text/html": [
       "<html><script type=\"math/tex; mode=display\">\\newcommand{\\Bold}[1]{\\mathbf{#1}}\\verb|Resolvemos|\\phantom{\\verb!x!}\\verb|las|\\phantom{\\verb!x!}\\verb|siguientes|\\phantom{\\verb!x!}\\verb|ecuaciones:|</script></html>"
      ]
     },
     "execution_count": 7,
     "metadata": {
     },
     "output_type": "execute_result"
    },
    {
     "data": {
      "text/html": [
       "<html><script type=\"math/tex; mode=display\">\\newcommand{\\Bold}[1]{\\mathbf{#1}}\\verb|det|\\left(\\begin{array}{rr}\n",
       "1 & {x_1} \\\\\n",
       "1 & {x_2}\n",
       "\\end{array}\\right)\\verb|=|\\phantom{\\verb!x!}\\verb|0|\\phantom{\\verb!x!}\\verb|=>|-{x_1} + {x_2} = 0</script></html>"
      ]
     },
     "execution_count": 7,
     "metadata": {
     },
     "output_type": "execute_result"
    },
    {
     "data": {
      "text/html": [
       "<html><script type=\"math/tex; mode=display\">\\newcommand{\\Bold}[1]{\\mathbf{#1}}\\verb|det|\\left(\\begin{array}{rr}\n",
       "1 & {x_1} \\\\\n",
       "0 & {x_3}\n",
       "\\end{array}\\right)\\verb|=|\\phantom{\\verb!x!}\\verb|0|\\phantom{\\verb!x!}\\verb|=>|{x_3} = 0</script></html>"
      ]
     },
     "execution_count": 7,
     "metadata": {
     },
     "output_type": "execute_result"
    }
   ],
   "source": [
    "# (b)\n",
    "V1 = vector([1, 0, 0])\n",
    "mostrar_procedimiento()\n",
    "(s1, s2) = h.descomponer(V1)"
   ]
  },
  {
   "cell_type": "code",
   "execution_count": 8,
   "metadata": {
    "collapsed": false
   },
   "outputs": [
    {
     "data": {
      "text/html": [
       "<html><script type=\"math/tex; mode=display\">\\newcommand{\\Bold}[1]{\\mathbf{#1}}\\left(1,\\,1,\\,0\\right)</script></html>"
      ]
     },
     "execution_count": 8,
     "metadata": {
     },
     "output_type": "execute_result"
    }
   ],
   "source": [
    "# Solución\n",
    "s2.vertice()"
   ]
  },
  {
   "cell_type": "code",
   "execution_count": 9,
   "metadata": {
    "collapsed": false
   },
   "outputs": [
    {
     "data": {
      "text/html": [
       "<html><script type=\"math/tex; mode=display\">\\newcommand{\\Bold}[1]{\\mathbf{#1}}\\verb|Subespacio|\\phantom{\\verb!x!}\\verb|que|\\phantom{\\verb!x!}\\verb|contiene|\\phantom{\\verb!x!}\\verb|los|\\phantom{\\verb!x!}\\verb|puntos|\\left(\\left(-1,\\,1,\\,1\\right), \\left(0,\\,0,\\,1\\right)\\right)</script></html>"
      ]
     },
     "execution_count": 9,
     "metadata": {
     },
     "output_type": "execute_result"
    },
    {
     "data": {
      "text/html": [
       "<html><script type=\"math/tex; mode=display\">\\newcommand{\\Bold}[1]{\\mathbf{#1}}\\verb|Primero|\\phantom{\\verb!x!}\\verb|reducimos|\\phantom{\\verb!x!}\\verb|a|\\phantom{\\verb!x!}\\verb|su|\\phantom{\\verb!x!}\\verb|forma|\\phantom{\\verb!x!}\\verb|normal:|\\left(\\begin{array}{rr}\n",
       "1 & 0 \\\\\n",
       "-1 & 0 \\\\\n",
       "0 & 1\n",
       "\\end{array}\\right)</script></html>"
      ]
     },
     "execution_count": 9,
     "metadata": {
     },
     "output_type": "execute_result"
    },
    {
     "data": {
      "text/html": [
       "<html><script type=\"math/tex; mode=display\">\\newcommand{\\Bold}[1]{\\mathbf{#1}}\\verb|Resolvemos|\\phantom{\\verb!x!}\\verb|las|\\phantom{\\verb!x!}\\verb|siguientes|\\phantom{\\verb!x!}\\verb|ecuaciones:|</script></html>"
      ]
     },
     "execution_count": 9,
     "metadata": {
     },
     "output_type": "execute_result"
    },
    {
     "data": {
      "text/html": [
       "<html><script type=\"math/tex; mode=display\">\\newcommand{\\Bold}[1]{\\mathbf{#1}}\\verb|det|\\left(\\begin{array}{rrr}\n",
       "1 & 0 & {x_1} \\\\\n",
       "-1 & 0 & {x_2} \\\\\n",
       "0 & 1 & {x_3}\n",
       "\\end{array}\\right)\\verb|=|\\phantom{\\verb!x!}\\verb|0|\\phantom{\\verb!x!}\\verb|=>|-{x_1} - {x_2} = 0</script></html>"
      ]
     },
     "execution_count": 9,
     "metadata": {
     },
     "output_type": "execute_result"
    },
    {
     "data": {
      "text/html": [
       "<html><script type=\"math/tex; mode=display\">\\newcommand{\\Bold}[1]{\\mathbf{#1}}\\verb|Subespacio|\\phantom{\\verb!x!}\\verb|que|\\phantom{\\verb!x!}\\verb|contiene|\\phantom{\\verb!x!}\\verb|los|\\phantom{\\verb!x!}\\verb|puntos|\\left[\\left(-1,\\,-1,\\,0\\right)\\right]</script></html>"
      ]
     },
     "execution_count": 9,
     "metadata": {
     },
     "output_type": "execute_result"
    },
    {
     "data": {
      "text/html": [
       "<html><script type=\"math/tex; mode=display\">\\newcommand{\\Bold}[1]{\\mathbf{#1}}\\verb|Primero|\\phantom{\\verb!x!}\\verb|reducimos|\\phantom{\\verb!x!}\\verb|a|\\phantom{\\verb!x!}\\verb|su|\\phantom{\\verb!x!}\\verb|forma|\\phantom{\\verb!x!}\\verb|normal:|\\left(\\begin{array}{r}\n",
       "1 \\\\\n",
       "1 \\\\\n",
       "0\n",
       "\\end{array}\\right)</script></html>"
      ]
     },
     "execution_count": 9,
     "metadata": {
     },
     "output_type": "execute_result"
    },
    {
     "data": {
      "text/html": [
       "<html><script type=\"math/tex; mode=display\">\\newcommand{\\Bold}[1]{\\mathbf{#1}}\\verb|Resolvemos|\\phantom{\\verb!x!}\\verb|las|\\phantom{\\verb!x!}\\verb|siguientes|\\phantom{\\verb!x!}\\verb|ecuaciones:|</script></html>"
      ]
     },
     "execution_count": 9,
     "metadata": {
     },
     "output_type": "execute_result"
    },
    {
     "data": {
      "text/html": [
       "<html><script type=\"math/tex; mode=display\">\\newcommand{\\Bold}[1]{\\mathbf{#1}}\\verb|det|\\left(\\begin{array}{rr}\n",
       "1 & {x_1} \\\\\n",
       "1 & {x_2}\n",
       "\\end{array}\\right)\\verb|=|\\phantom{\\verb!x!}\\verb|0|\\phantom{\\verb!x!}\\verb|=>|-{x_1} + {x_2} = 0</script></html>"
      ]
     },
     "execution_count": 9,
     "metadata": {
     },
     "output_type": "execute_result"
    },
    {
     "data": {
      "text/html": [
       "<html><script type=\"math/tex; mode=display\">\\newcommand{\\Bold}[1]{\\mathbf{#1}}\\verb|det|\\left(\\begin{array}{rr}\n",
       "1 & {x_1} \\\\\n",
       "0 & {x_3}\n",
       "\\end{array}\\right)\\verb|=|\\phantom{\\verb!x!}\\verb|0|\\phantom{\\verb!x!}\\verb|=>|{x_3} = 0</script></html>"
      ]
     },
     "execution_count": 9,
     "metadata": {
     },
     "output_type": "execute_result"
    },
    {
     "data": {
      "text/html": [
       "<html><script type=\"math/tex; mode=display\">\\newcommand{\\Bold}[1]{\\mathbf{#1}}\\left(1,\\,1,\\,0\\right)</script></html>"
      ]
     },
     "execution_count": 9,
     "metadata": {
     },
     "output_type": "execute_result"
    }
   ],
   "source": [
    "# (c)\n",
    "# Habrá formas mejores de hacerlo pero no está implementado\n",
    "P = subespacio(A1, A2).dual().punto()\n",
    "P"
   ]
  },
  {
   "cell_type": "code",
   "execution_count": 10,
   "metadata": {
    "collapsed": false
   },
   "outputs": [
    {
     "data": {
      "text/html": [
       "<html><script type=\"math/tex; mode=display\">\\newcommand{\\Bold}[1]{\\mathbf{#1}}\\verb|Subespacio|\\phantom{\\verb!x!}\\verb|que|\\phantom{\\verb!x!}\\verb|contiene|\\phantom{\\verb!x!}\\verb|los|\\phantom{\\verb!x!}\\verb|puntos|\\left(\\left(1,\\,1,\\,1\\right), \\left(2,\\,4,\\,1\\right)\\right)</script></html>"
      ]
     },
     "execution_count": 10,
     "metadata": {
     },
     "output_type": "execute_result"
    },
    {
     "data": {
      "text/html": [
       "<html><script type=\"math/tex; mode=display\">\\newcommand{\\Bold}[1]{\\mathbf{#1}}\\verb|Primero|\\phantom{\\verb!x!}\\verb|reducimos|\\phantom{\\verb!x!}\\verb|a|\\phantom{\\verb!x!}\\verb|su|\\phantom{\\verb!x!}\\verb|forma|\\phantom{\\verb!x!}\\verb|normal:|\\left(\\begin{array}{rr}\n",
       "1 & 0 \\\\\n",
       "0 & 1 \\\\\n",
       "\\frac{3}{2} & -\\frac{1}{2}\n",
       "\\end{array}\\right)</script></html>"
      ]
     },
     "execution_count": 10,
     "metadata": {
     },
     "output_type": "execute_result"
    },
    {
     "data": {
      "text/html": [
       "<html><script type=\"math/tex; mode=display\">\\newcommand{\\Bold}[1]{\\mathbf{#1}}\\verb|Resolvemos|\\phantom{\\verb!x!}\\verb|las|\\phantom{\\verb!x!}\\verb|siguientes|\\phantom{\\verb!x!}\\verb|ecuaciones:|</script></html>"
      ]
     },
     "execution_count": 10,
     "metadata": {
     },
     "output_type": "execute_result"
    },
    {
     "data": {
      "text/html": [
       "<html><script type=\"math/tex; mode=display\">\\newcommand{\\Bold}[1]{\\mathbf{#1}}\\verb|det|\\left(\\begin{array}{rrr}\n",
       "1 & 0 & {x_1} \\\\\n",
       "0 & 1 & {x_2} \\\\\n",
       "\\frac{3}{2} & -\\frac{1}{2} & {x_3}\n",
       "\\end{array}\\right)\\verb|=|\\phantom{\\verb!x!}\\verb|0|\\phantom{\\verb!x!}\\verb|=>|-\\frac{3}{2} \\, {x_1} + \\frac{1}{2} \\, {x_2} + {x_3} = 0</script></html>"
      ]
     },
     "execution_count": 10,
     "metadata": {
     },
     "output_type": "execute_result"
    },
    {
     "data": {
      "text/html": [
       "<html><script type=\"math/tex; mode=display\">\\newcommand{\\Bold}[1]{\\mathbf{#1}}\\verb|Subespacio|\\phantom{\\verb!x!}\\verb|que|\\phantom{\\verb!x!}\\verb|contiene|\\phantom{\\verb!x!}\\verb|los|\\phantom{\\verb!x!}\\verb|puntos|\\left[\\left(-\\frac{3}{2},\\,\\frac{1}{2},\\,1\\right)\\right]</script></html>"
      ]
     },
     "execution_count": 10,
     "metadata": {
     },
     "output_type": "execute_result"
    },
    {
     "data": {
      "text/html": [
       "<html><script type=\"math/tex; mode=display\">\\newcommand{\\Bold}[1]{\\mathbf{#1}}\\verb|Primero|\\phantom{\\verb!x!}\\verb|reducimos|\\phantom{\\verb!x!}\\verb|a|\\phantom{\\verb!x!}\\verb|su|\\phantom{\\verb!x!}\\verb|forma|\\phantom{\\verb!x!}\\verb|normal:|\\left(\\begin{array}{r}\n",
       "1 \\\\\n",
       "-\\frac{1}{3} \\\\\n",
       "-\\frac{2}{3}\n",
       "\\end{array}\\right)</script></html>"
      ]
     },
     "execution_count": 10,
     "metadata": {
     },
     "output_type": "execute_result"
    },
    {
     "data": {
      "text/html": [
       "<html><script type=\"math/tex; mode=display\">\\newcommand{\\Bold}[1]{\\mathbf{#1}}\\verb|Resolvemos|\\phantom{\\verb!x!}\\verb|las|\\phantom{\\verb!x!}\\verb|siguientes|\\phantom{\\verb!x!}\\verb|ecuaciones:|</script></html>"
      ]
     },
     "execution_count": 10,
     "metadata": {
     },
     "output_type": "execute_result"
    },
    {
     "data": {
      "text/html": [
       "<html><script type=\"math/tex; mode=display\">\\newcommand{\\Bold}[1]{\\mathbf{#1}}\\verb|det|\\left(\\begin{array}{rr}\n",
       "1 & {x_1} \\\\\n",
       "-\\frac{1}{3} & {x_2}\n",
       "\\end{array}\\right)\\verb|=|\\phantom{\\verb!x!}\\verb|0|\\phantom{\\verb!x!}\\verb|=>|\\frac{1}{3} \\, {x_1} + {x_2} = 0</script></html>"
      ]
     },
     "execution_count": 10,
     "metadata": {
     },
     "output_type": "execute_result"
    },
    {
     "data": {
      "text/html": [
       "<html><script type=\"math/tex; mode=display\">\\newcommand{\\Bold}[1]{\\mathbf{#1}}\\verb|det|\\left(\\begin{array}{rr}\n",
       "1 & {x_1} \\\\\n",
       "-\\frac{2}{3} & {x_3}\n",
       "\\end{array}\\right)\\verb|=|\\phantom{\\verb!x!}\\verb|0|\\phantom{\\verb!x!}\\verb|=>|\\frac{2}{3} \\, {x_1} + {x_3} = 0</script></html>"
      ]
     },
     "execution_count": 10,
     "metadata": {
     },
     "output_type": "execute_result"
    },
    {
     "data": {
      "text/html": [
       "<html><script type=\"math/tex; mode=display\">\\newcommand{\\Bold}[1]{\\mathbf{#1}}\\left(1,\\,-\\frac{1}{3},\\,-\\frac{2}{3}\\right)</script></html>"
      ]
     },
     "execution_count": 10,
     "metadata": {
     },
     "output_type": "execute_result"
    }
   ],
   "source": [
    "B1 = p[1]\n",
    "B2 = p[h(1)]\n",
    "Q = subespacio(B1, B2).dual().punto()\n",
    "Q"
   ]
  },
  {
   "cell_type": "code",
   "execution_count": 11,
   "metadata": {
    "collapsed": false
   },
   "outputs": [
    {
     "data": {
      "text/html": [
       "<html><script type=\"math/tex; mode=display\">\\newcommand{\\Bold}[1]{\\mathbf{#1}}\\verb|Subespacio|\\phantom{\\verb!x!}\\verb|que|\\phantom{\\verb!x!}\\verb|contiene|\\phantom{\\verb!x!}\\verb|los|\\phantom{\\verb!x!}\\verb|puntos|\\left(\\left(0,\\,0,\\,1\\right), \\left(1,\\,1,\\,1\\right)\\right)</script></html>"
      ]
     },
     "execution_count": 11,
     "metadata": {
     },
     "output_type": "execute_result"
    },
    {
     "data": {
      "text/html": [
       "<html><script type=\"math/tex; mode=display\">\\newcommand{\\Bold}[1]{\\mathbf{#1}}\\verb|Primero|\\phantom{\\verb!x!}\\verb|reducimos|\\phantom{\\verb!x!}\\verb|a|\\phantom{\\verb!x!}\\verb|su|\\phantom{\\verb!x!}\\verb|forma|\\phantom{\\verb!x!}\\verb|normal:|\\left(\\begin{array}{rr}\n",
       "1 & 0 \\\\\n",
       "1 & 0 \\\\\n",
       "0 & 1\n",
       "\\end{array}\\right)</script></html>"
      ]
     },
     "execution_count": 11,
     "metadata": {
     },
     "output_type": "execute_result"
    },
    {
     "data": {
      "text/html": [
       "<html><script type=\"math/tex; mode=display\">\\newcommand{\\Bold}[1]{\\mathbf{#1}}\\verb|Resolvemos|\\phantom{\\verb!x!}\\verb|las|\\phantom{\\verb!x!}\\verb|siguientes|\\phantom{\\verb!x!}\\verb|ecuaciones:|</script></html>"
      ]
     },
     "execution_count": 11,
     "metadata": {
     },
     "output_type": "execute_result"
    },
    {
     "data": {
      "text/html": [
       "<html><script type=\"math/tex; mode=display\">\\newcommand{\\Bold}[1]{\\mathbf{#1}}\\verb|det|\\left(\\begin{array}{rrr}\n",
       "1 & 0 & {x_1} \\\\\n",
       "1 & 0 & {x_2} \\\\\n",
       "0 & 1 & {x_3}\n",
       "\\end{array}\\right)\\verb|=|\\phantom{\\verb!x!}\\verb|0|\\phantom{\\verb!x!}\\verb|=>|{x_1} - {x_2} = 0</script></html>"
      ]
     },
     "execution_count": 11,
     "metadata": {
     },
     "output_type": "execute_result"
    },
    {
     "data": {
      "text/html": [
       "<html><script type=\"math/tex; mode=display\">\\newcommand{\\Bold}[1]{\\mathbf{#1}}\\verb|Subespacio|\\phantom{\\verb!x!}\\verb|que|\\phantom{\\verb!x!}\\verb|contiene|\\phantom{\\verb!x!}\\verb|los|\\phantom{\\verb!x!}\\verb|puntos|\\left[\\left(1,\\,-1,\\,0\\right)\\right]</script></html>"
      ]
     },
     "execution_count": 11,
     "metadata": {
     },
     "output_type": "execute_result"
    },
    {
     "data": {
      "text/html": [
       "<html><script type=\"math/tex; mode=display\">\\newcommand{\\Bold}[1]{\\mathbf{#1}}\\verb|Primero|\\phantom{\\verb!x!}\\verb|reducimos|\\phantom{\\verb!x!}\\verb|a|\\phantom{\\verb!x!}\\verb|su|\\phantom{\\verb!x!}\\verb|forma|\\phantom{\\verb!x!}\\verb|normal:|\\left(\\begin{array}{r}\n",
       "1 \\\\\n",
       "-1 \\\\\n",
       "0\n",
       "\\end{array}\\right)</script></html>"
      ]
     },
     "execution_count": 11,
     "metadata": {
     },
     "output_type": "execute_result"
    },
    {
     "data": {
      "text/html": [
       "<html><script type=\"math/tex; mode=display\">\\newcommand{\\Bold}[1]{\\mathbf{#1}}\\verb|Resolvemos|\\phantom{\\verb!x!}\\verb|las|\\phantom{\\verb!x!}\\verb|siguientes|\\phantom{\\verb!x!}\\verb|ecuaciones:|</script></html>"
      ]
     },
     "execution_count": 11,
     "metadata": {
     },
     "output_type": "execute_result"
    },
    {
     "data": {
      "text/html": [
       "<html><script type=\"math/tex; mode=display\">\\newcommand{\\Bold}[1]{\\mathbf{#1}}\\verb|det|\\left(\\begin{array}{rr}\n",
       "1 & {x_1} \\\\\n",
       "-1 & {x_2}\n",
       "\\end{array}\\right)\\verb|=|\\phantom{\\verb!x!}\\verb|0|\\phantom{\\verb!x!}\\verb|=>|{x_1} + {x_2} = 0</script></html>"
      ]
     },
     "execution_count": 11,
     "metadata": {
     },
     "output_type": "execute_result"
    },
    {
     "data": {
      "text/html": [
       "<html><script type=\"math/tex; mode=display\">\\newcommand{\\Bold}[1]{\\mathbf{#1}}\\verb|det|\\left(\\begin{array}{rr}\n",
       "1 & {x_1} \\\\\n",
       "0 & {x_3}\n",
       "\\end{array}\\right)\\verb|=|\\phantom{\\verb!x!}\\verb|0|\\phantom{\\verb!x!}\\verb|=>|{x_3} = 0</script></html>"
      ]
     },
     "execution_count": 11,
     "metadata": {
     },
     "output_type": "execute_result"
    },
    {
     "data": {
      "text/html": [
       "<html><script type=\"math/tex; mode=display\">\\newcommand{\\Bold}[1]{\\mathbf{#1}}\\left(1,\\,-1,\\,0\\right)</script></html>"
      ]
     },
     "execution_count": 11,
     "metadata": {
     },
     "output_type": "execute_result"
    }
   ],
   "source": [
    "C1 = p[0]\n",
    "C2 = p[h(0)]\n",
    "R = subespacio(C1, C2).dual().punto()\n",
    "R"
   ]
  },
  {
   "cell_type": "code",
   "execution_count": 12,
   "metadata": {
    "collapsed": false
   },
   "outputs": [
    {
     "data": {
      "text/html": [
       "<html><script type=\"math/tex; mode=display\">\\newcommand{\\Bold}[1]{\\mathbf{#1}}\\verb|Subespacio|\\phantom{\\verb!x!}\\verb|que|\\phantom{\\verb!x!}\\verb|contiene|\\phantom{\\verb!x!}\\verb|los|\\phantom{\\verb!x!}\\verb|puntos|\\left(\\left(2,\\,4,\\,1\\right), \\left(3,\\,9,\\,1\\right)\\right)</script></html>"
      ]
     },
     "execution_count": 12,
     "metadata": {
     },
     "output_type": "execute_result"
    },
    {
     "data": {
      "text/html": [
       "<html><script type=\"math/tex; mode=display\">\\newcommand{\\Bold}[1]{\\mathbf{#1}}\\verb|Primero|\\phantom{\\verb!x!}\\verb|reducimos|\\phantom{\\verb!x!}\\verb|a|\\phantom{\\verb!x!}\\verb|su|\\phantom{\\verb!x!}\\verb|forma|\\phantom{\\verb!x!}\\verb|normal:|\\left(\\begin{array}{rr}\n",
       "1 & 0 \\\\\n",
       "0 & 1 \\\\\n",
       "\\frac{5}{6} & -\\frac{1}{6}\n",
       "\\end{array}\\right)</script></html>"
      ]
     },
     "execution_count": 12,
     "metadata": {
     },
     "output_type": "execute_result"
    },
    {
     "data": {
      "text/html": [
       "<html><script type=\"math/tex; mode=display\">\\newcommand{\\Bold}[1]{\\mathbf{#1}}\\verb|Resolvemos|\\phantom{\\verb!x!}\\verb|las|\\phantom{\\verb!x!}\\verb|siguientes|\\phantom{\\verb!x!}\\verb|ecuaciones:|</script></html>"
      ]
     },
     "execution_count": 12,
     "metadata": {
     },
     "output_type": "execute_result"
    },
    {
     "data": {
      "text/html": [
       "<html><script type=\"math/tex; mode=display\">\\newcommand{\\Bold}[1]{\\mathbf{#1}}\\verb|det|\\left(\\begin{array}{rrr}\n",
       "1 & 0 & {x_1} \\\\\n",
       "0 & 1 & {x_2} \\\\\n",
       "\\frac{5}{6} & -\\frac{1}{6} & {x_3}\n",
       "\\end{array}\\right)\\verb|=|\\phantom{\\verb!x!}\\verb|0|\\phantom{\\verb!x!}\\verb|=>|-\\frac{5}{6} \\, {x_1} + \\frac{1}{6} \\, {x_2} + {x_3} = 0</script></html>"
      ]
     },
     "execution_count": 12,
     "metadata": {
     },
     "output_type": "execute_result"
    },
    {
     "data": {
      "text/html": [
       "<html><script type=\"math/tex; mode=display\">\\newcommand{\\Bold}[1]{\\mathbf{#1}}\\verb|Subespacio|\\phantom{\\verb!x!}\\verb|que|\\phantom{\\verb!x!}\\verb|contiene|\\phantom{\\verb!x!}\\verb|los|\\phantom{\\verb!x!}\\verb|puntos|\\left[\\left(-\\frac{5}{6},\\,\\frac{1}{6},\\,1\\right)\\right]</script></html>"
      ]
     },
     "execution_count": 12,
     "metadata": {
     },
     "output_type": "execute_result"
    },
    {
     "data": {
      "text/html": [
       "<html><script type=\"math/tex; mode=display\">\\newcommand{\\Bold}[1]{\\mathbf{#1}}\\verb|Primero|\\phantom{\\verb!x!}\\verb|reducimos|\\phantom{\\verb!x!}\\verb|a|\\phantom{\\verb!x!}\\verb|su|\\phantom{\\verb!x!}\\verb|forma|\\phantom{\\verb!x!}\\verb|normal:|\\left(\\begin{array}{r}\n",
       "1 \\\\\n",
       "-\\frac{1}{5} \\\\\n",
       "-\\frac{6}{5}\n",
       "\\end{array}\\right)</script></html>"
      ]
     },
     "execution_count": 12,
     "metadata": {
     },
     "output_type": "execute_result"
    },
    {
     "data": {
      "text/html": [
       "<html><script type=\"math/tex; mode=display\">\\newcommand{\\Bold}[1]{\\mathbf{#1}}\\verb|Resolvemos|\\phantom{\\verb!x!}\\verb|las|\\phantom{\\verb!x!}\\verb|siguientes|\\phantom{\\verb!x!}\\verb|ecuaciones:|</script></html>"
      ]
     },
     "execution_count": 12,
     "metadata": {
     },
     "output_type": "execute_result"
    },
    {
     "data": {
      "text/html": [
       "<html><script type=\"math/tex; mode=display\">\\newcommand{\\Bold}[1]{\\mathbf{#1}}\\verb|det|\\left(\\begin{array}{rr}\n",
       "1 & {x_1} \\\\\n",
       "-\\frac{1}{5} & {x_2}\n",
       "\\end{array}\\right)\\verb|=|\\phantom{\\verb!x!}\\verb|0|\\phantom{\\verb!x!}\\verb|=>|\\frac{1}{5} \\, {x_1} + {x_2} = 0</script></html>"
      ]
     },
     "execution_count": 12,
     "metadata": {
     },
     "output_type": "execute_result"
    },
    {
     "data": {
      "text/html": [
       "<html><script type=\"math/tex; mode=display\">\\newcommand{\\Bold}[1]{\\mathbf{#1}}\\verb|det|\\left(\\begin{array}{rr}\n",
       "1 & {x_1} \\\\\n",
       "-\\frac{6}{5} & {x_3}\n",
       "\\end{array}\\right)\\verb|=|\\phantom{\\verb!x!}\\verb|0|\\phantom{\\verb!x!}\\verb|=>|\\frac{6}{5} \\, {x_1} + {x_3} = 0</script></html>"
      ]
     },
     "execution_count": 12,
     "metadata": {
     },
     "output_type": "execute_result"
    },
    {
     "data": {
      "text/html": [
       "<html><script type=\"math/tex; mode=display\">\\newcommand{\\Bold}[1]{\\mathbf{#1}}\\left(1,\\,-\\frac{1}{5},\\,-\\frac{6}{5}\\right)</script></html>"
      ]
     },
     "execution_count": 12,
     "metadata": {
     },
     "output_type": "execute_result"
    }
   ],
   "source": [
    "D1 = p[2]\n",
    "D2 = p[h(2)]\n",
    "S = subespacio(D1, D2).dual().punto()\n",
    "S"
   ]
  },
  {
   "cell_type": "code",
   "execution_count": 13,
   "metadata": {
    "collapsed": false
   },
   "outputs": [
    {
     "data": {
      "text/html": [
       "<html><script type=\"math/tex; mode=display\">\\newcommand{\\Bold}[1]{\\mathbf{#1}}\\verb|Subespacio|\\phantom{\\verb!x!}\\verb|que|\\phantom{\\verb!x!}\\verb|contiene|\\phantom{\\verb!x!}\\verb|los|\\phantom{\\verb!x!}\\verb|puntos|\\left(\\left(-2,\\,4,\\,1\\right), \\left(-1,\\,1,\\,1\\right)\\right)</script></html>"
      ]
     },
     "execution_count": 13,
     "metadata": {
     },
     "output_type": "execute_result"
    },
    {
     "data": {
      "text/html": [
       "<html><script type=\"math/tex; mode=display\">\\newcommand{\\Bold}[1]{\\mathbf{#1}}\\verb|Primero|\\phantom{\\verb!x!}\\verb|reducimos|\\phantom{\\verb!x!}\\verb|a|\\phantom{\\verb!x!}\\verb|su|\\phantom{\\verb!x!}\\verb|forma|\\phantom{\\verb!x!}\\verb|normal:|\\left(\\begin{array}{rr}\n",
       "1 & 0 \\\\\n",
       "0 & 1 \\\\\n",
       "-\\frac{3}{2} & -\\frac{1}{2}\n",
       "\\end{array}\\right)</script></html>"
      ]
     },
     "execution_count": 13,
     "metadata": {
     },
     "output_type": "execute_result"
    },
    {
     "data": {
      "text/html": [
       "<html><script type=\"math/tex; mode=display\">\\newcommand{\\Bold}[1]{\\mathbf{#1}}\\verb|Resolvemos|\\phantom{\\verb!x!}\\verb|las|\\phantom{\\verb!x!}\\verb|siguientes|\\phantom{\\verb!x!}\\verb|ecuaciones:|</script></html>"
      ]
     },
     "execution_count": 13,
     "metadata": {
     },
     "output_type": "execute_result"
    },
    {
     "data": {
      "text/html": [
       "<html><script type=\"math/tex; mode=display\">\\newcommand{\\Bold}[1]{\\mathbf{#1}}\\verb|det|\\left(\\begin{array}{rrr}\n",
       "1 & 0 & {x_1} \\\\\n",
       "0 & 1 & {x_2} \\\\\n",
       "-\\frac{3}{2} & -\\frac{1}{2} & {x_3}\n",
       "\\end{array}\\right)\\verb|=|\\phantom{\\verb!x!}\\verb|0|\\phantom{\\verb!x!}\\verb|=>|\\frac{3}{2} \\, {x_1} + \\frac{1}{2} \\, {x_2} + {x_3} = 0</script></html>"
      ]
     },
     "execution_count": 13,
     "metadata": {
     },
     "output_type": "execute_result"
    },
    {
     "data": {
      "text/html": [
       "<html><script type=\"math/tex; mode=display\">\\newcommand{\\Bold}[1]{\\mathbf{#1}}\\verb|Subespacio|\\phantom{\\verb!x!}\\verb|que|\\phantom{\\verb!x!}\\verb|contiene|\\phantom{\\verb!x!}\\verb|los|\\phantom{\\verb!x!}\\verb|puntos|\\left[\\left(\\frac{3}{2},\\,\\frac{1}{2},\\,1\\right)\\right]</script></html>"
      ]
     },
     "execution_count": 13,
     "metadata": {
     },
     "output_type": "execute_result"
    },
    {
     "data": {
      "text/html": [
       "<html><script type=\"math/tex; mode=display\">\\newcommand{\\Bold}[1]{\\mathbf{#1}}\\verb|Primero|\\phantom{\\verb!x!}\\verb|reducimos|\\phantom{\\verb!x!}\\verb|a|\\phantom{\\verb!x!}\\verb|su|\\phantom{\\verb!x!}\\verb|forma|\\phantom{\\verb!x!}\\verb|normal:|\\left(\\begin{array}{r}\n",
       "1 \\\\\n",
       "\\frac{1}{3} \\\\\n",
       "\\frac{2}{3}\n",
       "\\end{array}\\right)</script></html>"
      ]
     },
     "execution_count": 13,
     "metadata": {
     },
     "output_type": "execute_result"
    },
    {
     "data": {
      "text/html": [
       "<html><script type=\"math/tex; mode=display\">\\newcommand{\\Bold}[1]{\\mathbf{#1}}\\verb|Resolvemos|\\phantom{\\verb!x!}\\verb|las|\\phantom{\\verb!x!}\\verb|siguientes|\\phantom{\\verb!x!}\\verb|ecuaciones:|</script></html>"
      ]
     },
     "execution_count": 13,
     "metadata": {
     },
     "output_type": "execute_result"
    },
    {
     "data": {
      "text/html": [
       "<html><script type=\"math/tex; mode=display\">\\newcommand{\\Bold}[1]{\\mathbf{#1}}\\verb|det|\\left(\\begin{array}{rr}\n",
       "1 & {x_1} \\\\\n",
       "\\frac{1}{3} & {x_2}\n",
       "\\end{array}\\right)\\verb|=|\\phantom{\\verb!x!}\\verb|0|\\phantom{\\verb!x!}\\verb|=>|-\\frac{1}{3} \\, {x_1} + {x_2} = 0</script></html>"
      ]
     },
     "execution_count": 13,
     "metadata": {
     },
     "output_type": "execute_result"
    },
    {
     "data": {
      "text/html": [
       "<html><script type=\"math/tex; mode=display\">\\newcommand{\\Bold}[1]{\\mathbf{#1}}\\verb|det|\\left(\\begin{array}{rr}\n",
       "1 & {x_1} \\\\\n",
       "\\frac{2}{3} & {x_3}\n",
       "\\end{array}\\right)\\verb|=|\\phantom{\\verb!x!}\\verb|0|\\phantom{\\verb!x!}\\verb|=>|-\\frac{2}{3} \\, {x_1} + {x_3} = 0</script></html>"
      ]
     },
     "execution_count": 13,
     "metadata": {
     },
     "output_type": "execute_result"
    },
    {
     "data": {
      "text/html": [
       "<html><script type=\"math/tex; mode=display\">\\newcommand{\\Bold}[1]{\\mathbf{#1}}\\left(1,\\,\\frac{1}{3},\\,\\frac{2}{3}\\right)</script></html>"
      ]
     },
     "execution_count": 13,
     "metadata": {
     },
     "output_type": "execute_result"
    }
   ],
   "source": [
    "E1 = p[-2]\n",
    "E2 = p[h(-2)]\n",
    "T = subespacio(E1, E2).dual().punto()\n",
    "T"
   ]
  },
  {
   "cell_type": "code",
   "execution_count": 14,
   "metadata": {
    "collapsed": false
   },
   "outputs": [
    {
     "data": {
      "text/html": [
       "<html><script type=\"math/tex; mode=display\">\\newcommand{\\Bold}[1]{\\mathbf{#1}}\\verb|Creamos|\\phantom{\\verb!x!}\\verb|las|\\phantom{\\verb!x!}\\verb|conicas|\\phantom{\\verb!x!}\\verb|degeneradas|\\phantom{\\verb!x!}\\verb|AB*CD|\\phantom{\\verb!x!}\\verb|y|\\phantom{\\verb!x!}\\verb|AC*BD|\\phantom{\\verb!x!}\\verb|y|\\phantom{\\verb!x!}\\verb|generamos|\\phantom{\\verb!x!}\\verb|el|\\phantom{\\verb!x!}\\verb|haz:|</script></html>"
      ]
     },
     "execution_count": 14,
     "metadata": {
     },
     "output_type": "execute_result"
    },
    {
     "data": {
      "text/html": [
       "<html><script type=\"math/tex; mode=display\">\\newcommand{\\Bold}[1]{\\mathbf{#1}}\\verb|(|\\frac{1}{2} \\, {x_1} - \\frac{1}{2} \\, {x_2} + {x_3}\\verb|)(|\\frac{3}{2} \\, {x_1} + \\frac{3}{2} \\, {x_2} + {x_3}\\verb|)|\\phantom{\\verb!x!}\\verb|+|\\phantom{\\verb!x!}\\verb|lambda|\\phantom{\\verb!x!}\\verb|*|\\phantom{\\verb!x!}\\verb|(|{x_3}\\verb|)(|2 \\, {x_1} + 4 \\, {x_2} + {x_3}\\verb|)|\\phantom{\\verb!x!}\\verb|=|\\phantom{\\verb!x!}\\verb|0|</script></html>"
      ]
     },
     "execution_count": 14,
     "metadata": {
     },
     "output_type": "execute_result"
    },
    {
     "data": {
      "text/html": [
       "<html><script type=\"math/tex; mode=display\">\\newcommand{\\Bold}[1]{\\mathbf{#1}}\\verb|Por|\\phantom{\\verb!x!}\\verb|ultimo,|\\phantom{\\verb!x!}\\verb|forzamos|\\phantom{\\verb!x!}\\verb|que|\\phantom{\\verb!x!}\\verb|pase|\\phantom{\\verb!x!}\\verb|por|\\phantom{\\verb!x!}\\verb|E|\\phantom{\\verb!x!}\\verb|=|\\left(1,\\,\\frac{1}{3},\\,\\frac{2}{3}\\right)\\verb|,|\\phantom{\\verb!x!}\\verb|y|\\phantom{\\verb!x!}\\verb|despejamos|\\phantom{\\verb!x!}\\verb|lambda|</script></html>"
      ]
     },
     "execution_count": 14,
     "metadata": {
     },
     "output_type": "execute_result"
    },
    {
     "data": {
      "text/html": [
       "<html><script type=\"math/tex; mode=display\">\\newcommand{\\Bold}[1]{\\mathbf{#1}}{x}^{2} - {y}^{2} - 4 \\, {y} {z} = 0</script></html>"
      ]
     },
     "execution_count": 14,
     "metadata": {
     },
     "output_type": "execute_result"
    }
   ],
   "source": [
    "# Calculamos la cónica dual que pasa por los puntos (rectas) calculados\n",
    "d = conica_cinco_puntos(P, Q, R, S, T)\n",
    "# Solución (entendemos que (x : y : z) = (u : v : w))\n",
    "d.ecuacion() / 2"
   ]
  }
 ],
 "metadata": {
  "kernelspec": {
   "display_name": "SageMath (stable)",
   "language": "sagemath",
   "name": "sagemath"
  },
  "language_info": {
   "codemirror_mode": {
    "name": "ipython",
    "version": 2
   },
   "file_extension": ".py",
   "mimetype": "text/x-python",
   "name": "python",
   "nbconvert_exporter": "python",
   "pygments_lexer": "ipython2",
   "version": "2.7.15"
  }
 },
 "nbformat": 4,
 "nbformat_minor": 0
}