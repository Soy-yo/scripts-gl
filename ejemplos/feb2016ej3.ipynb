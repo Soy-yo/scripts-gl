{
 "cells": [
  {
   "cell_type": "code",
   "execution_count": 1,
   "metadata": {
    "collapsed": false
   },
   "outputs": [
   ],
   "source": [
    "# Meter en carpeta anterior a scripts para poder cargarlos\n",
    "load('scripts/scripts_gl.sage')\n",
    "# Nos muestra resultados en LaTeX\n",
    "pretty_print_default(True)\n",
    "# True/False para mostrar procedimientos\n",
    "mostrar_procedimiento(True)"
   ]
  },
  {
   "cell_type": "code",
   "execution_count": 2,
   "metadata": {
    "collapsed": false
   },
   "outputs": [
    {
     "data": {
      "text/html": [
       "<html><script type=\"math/tex; mode=display\">\\newcommand{\\Bold}[1]{\\mathbf{#1}}{x_1} + 2 \\, {x_2} + 5 \\, {x_3} = 0</script></html>"
      ]
     },
     "execution_count": 2,
     "metadata": {
     },
     "output_type": "execute_result"
    }
   ],
   "source": [
    "mostrar_procedimiento(False)\n",
    "r = subespacio(vector([1, 2, 5])).dual()\n",
    "r.implicitas()[0] * 5"
   ]
  },
  {
   "cell_type": "code",
   "execution_count": 3,
   "metadata": {
    "collapsed": false
   },
   "outputs": [
    {
     "data": {
      "text/html": [
       "<html><script type=\"math/tex; mode=display\">\\newcommand{\\Bold}[1]{\\mathbf{#1}}\\verb|<Espacio|\\phantom{\\verb!x!}\\verb|afin|\\phantom{\\verb!x!}\\verb|de|\\phantom{\\verb!x!}\\verb|dimension|\\phantom{\\verb!x!}\\verb|2|\\phantom{\\verb!x!}\\verb|con|\\phantom{\\verb!x!}\\verb|hiperplano|\\phantom{\\verb!x!}\\verb|del|\\phantom{\\verb!x!}\\verb|infinito|\\phantom{\\verb!x!}\\verb|de|\\phantom{\\verb!x!}\\verb|ecuacion|\\phantom{\\verb!x!}\\verb|1/5*x_var1|\\phantom{\\verb!x!}\\verb|+|\\phantom{\\verb!x!}\\verb|2/5*x_var2|\\phantom{\\verb!x!}\\verb|+|\\phantom{\\verb!x!}\\verb|x_var3|\\phantom{\\verb!x!}\\verb|==|\\phantom{\\verb!x!}\\verb|0>|</script></html>"
      ]
     },
     "execution_count": 3,
     "metadata": {
     },
     "output_type": "execute_result"
    }
   ],
   "source": [
    "E = espacio_afin(r)\n",
    "E"
   ]
  },
  {
   "cell_type": "code",
   "execution_count": 4,
   "metadata": {
    "collapsed": false
   },
   "outputs": [
   ],
   "source": [
    "A = vector([1, -4, 1])\n",
    "B = vector([9, -8, 1])\n",
    "C = vector([11, 6, -5])"
   ]
  },
  {
   "cell_type": "code",
   "execution_count": 5,
   "metadata": {
    "collapsed": false
   },
   "outputs": [
    {
     "data": {
      "text/html": [
       "<html><script type=\"math/tex; mode=display\">\\newcommand{\\Bold}[1]{\\mathbf{#1}}\\verb|Obtenemos|\\phantom{\\verb!x!}\\verb|la|\\phantom{\\verb!x!}\\verb|recta|\\phantom{\\verb!x!}\\verb|por|\\phantom{\\verb!x!}\\verb|la|\\phantom{\\verb!x!}\\verb|que|\\phantom{\\verb!x!}\\verb|pasan|\\phantom{\\verb!x!}\\verb|los|\\phantom{\\verb!x!}\\verb|puntos:|</script></html>"
      ]
     },
     "execution_count": 5,
     "metadata": {
     },
     "output_type": "execute_result"
    },
    {
     "data": {
      "text/html": [
       "<html><script type=\"math/tex; mode=display\">\\newcommand{\\Bold}[1]{\\mathbf{#1}}\\verb|Subespacio|\\phantom{\\verb!x!}\\verb|que|\\phantom{\\verb!x!}\\verb|contiene|\\phantom{\\verb!x!}\\verb|los|\\phantom{\\verb!x!}\\verb|puntos|\\left(\\left(1,\\,-4,\\,1\\right), \\left(9,\\,-8,\\,1\\right)\\right)</script></html>"
      ]
     },
     "execution_count": 5,
     "metadata": {
     },
     "output_type": "execute_result"
    },
    {
     "data": {
      "text/html": [
       "<html><script type=\"math/tex; mode=display\">\\newcommand{\\Bold}[1]{\\mathbf{#1}}\\verb|Primero|\\phantom{\\verb!x!}\\verb|reducimos|\\phantom{\\verb!x!}\\verb|a|\\phantom{\\verb!x!}\\verb|su|\\phantom{\\verb!x!}\\verb|forma|\\phantom{\\verb!x!}\\verb|normal:|\\left(\\begin{array}{rr}\n",
       "1 & 0 \\\\\n",
       "24 & 28 \\\\\n",
       "-7 & -8\n",
       "\\end{array}\\right)</script></html>"
      ]
     },
     "execution_count": 5,
     "metadata": {
     },
     "output_type": "execute_result"
    },
    {
     "data": {
      "text/html": [
       "<html><script type=\"math/tex; mode=display\">\\newcommand{\\Bold}[1]{\\mathbf{#1}}\\verb|Resolvemos|\\phantom{\\verb!x!}\\verb|las|\\phantom{\\verb!x!}\\verb|siguientes|\\phantom{\\verb!x!}\\verb|ecuaciones:|</script></html>"
      ]
     },
     "execution_count": 5,
     "metadata": {
     },
     "output_type": "execute_result"
    },
    {
     "data": {
      "text/html": [
       "<html><script type=\"math/tex; mode=display\">\\newcommand{\\Bold}[1]{\\mathbf{#1}}\\verb|det|\\left(\\begin{array}{rrr}\n",
       "1 & 0 & {x_1} \\\\\n",
       "24 & 28 & {x_2} \\\\\n",
       "-7 & -8 & {x_3}\n",
       "\\end{array}\\right)\\verb|=|\\phantom{\\verb!x!}\\verb|0|\\phantom{\\verb!x!}\\verb|=>|4 \\, {x_1} + 8 \\, {x_2} + 28 \\, {x_3} = 0</script></html>"
      ]
     },
     "execution_count": 5,
     "metadata": {
     },
     "output_type": "execute_result"
    },
    {
     "data": {
      "text/html": [
       "<html><script type=\"math/tex; mode=display\">\\newcommand{\\Bold}[1]{\\mathbf{#1}}\\verb|Intersecamos|\\phantom{\\verb!x!}\\verb|con|\\phantom{\\verb!x!}\\verb|el|\\phantom{\\verb!x!}\\verb|hiperplano|\\phantom{\\verb!x!}\\verb|del|\\phantom{\\verb!x!}\\verb|infinito:|\\frac{1}{5} \\, {x_1} + \\frac{2}{5} \\, {x_2} + {x_3} = 0</script></html>"
      ]
     },
     "execution_count": 5,
     "metadata": {
     },
     "output_type": "execute_result"
    },
    {
     "data": {
      "text/html": [
       "<html><script type=\"math/tex; mode=display\">\\newcommand{\\Bold}[1]{\\mathbf{#1}}\\verb|Para|\\phantom{\\verb!x!}\\verb|intersecar|\\phantom{\\verb!x!}\\verb|unimos|\\phantom{\\verb!x!}\\verb|las|\\phantom{\\verb!x!}\\verb|ecuaciones|\\phantom{\\verb!x!}\\verb|de|\\phantom{\\verb!x!}\\verb|cada|\\phantom{\\verb!x!}\\verb|subespacio:|\\left[\\left[4 \\, {x_1} + 8 \\, {x_2} + 28 \\, {x_3} = 0\\right], \\left[\\frac{1}{5} \\, {x_1} + \\frac{2}{5} \\, {x_2} + {x_3} = 0\\right]\\right]</script></html>"
      ]
     },
     "execution_count": 5,
     "metadata": {
     },
     "output_type": "execute_result"
    },
    {
     "data": {
      "text/html": [
       "<html><script type=\"math/tex; mode=display\">\\newcommand{\\Bold}[1]{\\mathbf{#1}}\\verb|Subespacio|\\phantom{\\verb!x!}\\verb|que|\\phantom{\\verb!x!}\\verb|contiene|\\phantom{\\verb!x!}\\verb|los|\\phantom{\\verb!x!}\\verb|puntos|\\left[\\left(1,\\,2,\\,7\\right), \\left(1,\\,2,\\,5\\right)\\right]</script></html>"
      ]
     },
     "execution_count": 5,
     "metadata": {
     },
     "output_type": "execute_result"
    },
    {
     "data": {
      "text/html": [
       "<html><script type=\"math/tex; mode=display\">\\newcommand{\\Bold}[1]{\\mathbf{#1}}\\verb|Primero|\\phantom{\\verb!x!}\\verb|reducimos|\\phantom{\\verb!x!}\\verb|a|\\phantom{\\verb!x!}\\verb|su|\\phantom{\\verb!x!}\\verb|forma|\\phantom{\\verb!x!}\\verb|normal:|\\left(\\begin{array}{rr}\n",
       "1 & 0 \\\\\n",
       "2 & 0 \\\\\n",
       "0 & 1\n",
       "\\end{array}\\right)</script></html>"
      ]
     },
     "execution_count": 5,
     "metadata": {
     },
     "output_type": "execute_result"
    },
    {
     "data": {
      "text/html": [
       "<html><script type=\"math/tex; mode=display\">\\newcommand{\\Bold}[1]{\\mathbf{#1}}\\verb|Resolvemos|\\phantom{\\verb!x!}\\verb|las|\\phantom{\\verb!x!}\\verb|siguientes|\\phantom{\\verb!x!}\\verb|ecuaciones:|</script></html>"
      ]
     },
     "execution_count": 5,
     "metadata": {
     },
     "output_type": "execute_result"
    },
    {
     "data": {
      "text/html": [
       "<html><script type=\"math/tex; mode=display\">\\newcommand{\\Bold}[1]{\\mathbf{#1}}\\verb|det|\\left(\\begin{array}{rrr}\n",
       "1 & 0 & {x_1} \\\\\n",
       "2 & 0 & {x_2} \\\\\n",
       "0 & 1 & {x_3}\n",
       "\\end{array}\\right)\\verb|=|\\phantom{\\verb!x!}\\verb|0|\\phantom{\\verb!x!}\\verb|=>|2 \\, {x_1} - {x_2} = 0</script></html>"
      ]
     },
     "execution_count": 5,
     "metadata": {
     },
     "output_type": "execute_result"
    },
    {
     "data": {
      "text/html": [
       "<html><script type=\"math/tex; mode=display\">\\newcommand{\\Bold}[1]{\\mathbf{#1}}\\verb|Ahora|\\phantom{\\verb!x!}\\verb|obtenemos|\\phantom{\\verb!x!}\\verb|el|\\phantom{\\verb!x!}\\verb|dual|\\phantom{\\verb!x!}\\verb|del|\\phantom{\\verb!x!}\\verb|subespacio|\\phantom{\\verb!x!}\\verb|calculado|\\phantom{\\verb!x!}\\verb|(era|\\phantom{\\verb!x!}\\verb|el|\\phantom{\\verb!x!}\\verb|dual|\\phantom{\\verb!x!}\\verb|del|\\phantom{\\verb!x!}\\verb|que|\\phantom{\\verb!x!}\\verb|buscabamos):|</script></html>"
      ]
     },
     "execution_count": 5,
     "metadata": {
     },
     "output_type": "execute_result"
    },
    {
     "data": {
      "text/html": [
       "<html><script type=\"math/tex; mode=display\">\\newcommand{\\Bold}[1]{\\mathbf{#1}}\\verb|Subespacio|\\phantom{\\verb!x!}\\verb|que|\\phantom{\\verb!x!}\\verb|contiene|\\phantom{\\verb!x!}\\verb|los|\\phantom{\\verb!x!}\\verb|puntos|\\left[\\left(2,\\,-1,\\,0\\right)\\right]</script></html>"
      ]
     },
     "execution_count": 5,
     "metadata": {
     },
     "output_type": "execute_result"
    },
    {
     "data": {
      "text/html": [
       "<html><script type=\"math/tex; mode=display\">\\newcommand{\\Bold}[1]{\\mathbf{#1}}\\verb|Primero|\\phantom{\\verb!x!}\\verb|reducimos|\\phantom{\\verb!x!}\\verb|a|\\phantom{\\verb!x!}\\verb|su|\\phantom{\\verb!x!}\\verb|forma|\\phantom{\\verb!x!}\\verb|normal:|\\left(\\begin{array}{r}\n",
       "1 \\\\\n",
       "-\\frac{1}{2} \\\\\n",
       "0\n",
       "\\end{array}\\right)</script></html>"
      ]
     },
     "execution_count": 5,
     "metadata": {
     },
     "output_type": "execute_result"
    },
    {
     "data": {
      "text/html": [
       "<html><script type=\"math/tex; mode=display\">\\newcommand{\\Bold}[1]{\\mathbf{#1}}\\verb|Resolvemos|\\phantom{\\verb!x!}\\verb|las|\\phantom{\\verb!x!}\\verb|siguientes|\\phantom{\\verb!x!}\\verb|ecuaciones:|</script></html>"
      ]
     },
     "execution_count": 5,
     "metadata": {
     },
     "output_type": "execute_result"
    },
    {
     "data": {
      "text/html": [
       "<html><script type=\"math/tex; mode=display\">\\newcommand{\\Bold}[1]{\\mathbf{#1}}\\verb|det|\\left(\\begin{array}{rr}\n",
       "1 & {x_1} \\\\\n",
       "-\\frac{1}{2} & {x_2}\n",
       "\\end{array}\\right)\\verb|=|\\phantom{\\verb!x!}\\verb|0|\\phantom{\\verb!x!}\\verb|=>|\\frac{1}{2} \\, {x_1} + {x_2} = 0</script></html>"
      ]
     },
     "execution_count": 5,
     "metadata": {
     },
     "output_type": "execute_result"
    },
    {
     "data": {
      "text/html": [
       "<html><script type=\"math/tex; mode=display\">\\newcommand{\\Bold}[1]{\\mathbf{#1}}\\verb|det|\\left(\\begin{array}{rr}\n",
       "1 & {x_1} \\\\\n",
       "0 & {x_3}\n",
       "\\end{array}\\right)\\verb|=|\\phantom{\\verb!x!}\\verb|0|\\phantom{\\verb!x!}\\verb|=>|{x_3} = 0</script></html>"
      ]
     },
     "execution_count": 5,
     "metadata": {
     },
     "output_type": "execute_result"
    },
    {
     "data": {
      "text/html": [
       "<html><script type=\"math/tex; mode=display\">\\newcommand{\\Bold}[1]{\\mathbf{#1}}\\verb|El|\\phantom{\\verb!x!}\\verb|punto|\\phantom{\\verb!x!}\\verb|del|\\phantom{\\verb!x!}\\verb|infinito|\\phantom{\\verb!x!}\\verb|es:|\\left(1,\\,-\\frac{1}{2},\\,0\\right)\\verb|;|\\phantom{\\verb!x!}\\verb|calculamos|\\phantom{\\verb!x!}\\verb|su|\\phantom{\\verb!x!}\\verb|conjugado|\\phantom{\\verb!x!}\\verb|armonico|\\phantom{\\verb!x!}\\verb|respecto|\\phantom{\\verb!x!}\\verb|de|\\phantom{\\verb!x!}\\verb|los|\\phantom{\\verb!x!}\\verb|otros|\\phantom{\\verb!x!}\\verb|dos:|</script></html>"
      ]
     },
     "execution_count": 5,
     "metadata": {
     },
     "output_type": "execute_result"
    },
    {
     "data": {
      "text/html": [
       "<html><script type=\"math/tex; mode=display\">\\newcommand{\\Bold}[1]{\\mathbf{#1}}\\verb|Montamos|\\phantom{\\verb!x!}\\verb|la|\\phantom{\\verb!x!}\\verb|recta|\\phantom{\\verb!x!}\\verb|con|\\phantom{\\verb!x!}\\verb|la|\\phantom{\\verb!x!}\\verb|referencia|\\phantom{\\verb!x!}\\verb|{P0=|\\left(1,\\,-4,\\,1\\right)\\verb|,|\\phantom{\\verb!x!}\\verb|P1=|\\left(9,\\,-8,\\,1\\right)\\verb|;|\\phantom{\\verb!x!}\\verb|P2=|\\left(1,\\,-\\frac{1}{2},\\,0\\right)\\verb|}|</script></html>"
      ]
     },
     "execution_count": 5,
     "metadata": {
     },
     "output_type": "execute_result"
    },
    {
     "data": {
      "text/html": [
       "<html><script type=\"math/tex; mode=display\">\\newcommand{\\Bold}[1]{\\mathbf{#1}}\\verb|Asi,|\\phantom{\\verb!x!}\\verb|P0:|\\phantom{\\verb!x!}\\verb|theta|\\phantom{\\verb!x!}\\verb|=|\\phantom{\\verb!x!}\\verb|Infinity,|\\phantom{\\verb!x!}\\verb|P1:|\\phantom{\\verb!x!}\\verb|theta|\\phantom{\\verb!x!}\\verb|=|\\phantom{\\verb!x!}\\verb|0,|\\phantom{\\verb!x!}\\verb|P2:|\\phantom{\\verb!x!}\\verb|theta|\\phantom{\\verb!x!}\\verb|=|\\phantom{\\verb!x!}\\verb|1|\\phantom{\\verb!x!}\\verb|y|\\phantom{\\verb!x!}\\verb|sustituimos|\\phantom{\\verb!x!}\\verb|en|\\phantom{\\verb!x!}\\verb|-1|</script></html>"
      ]
     },
     "execution_count": 5,
     "metadata": {
     },
     "output_type": "execute_result"
    },
    {
     "data": {
      "text/html": [
       "<html><script type=\"math/tex; mode=display\">\\newcommand{\\Bold}[1]{\\mathbf{#1}}\\verb|Forzamos|\\phantom{\\verb!x!}\\verb|P2:|\\phantom{\\verb!x!}\\verb|theta|\\phantom{\\verb!x!}\\verb|=|\\phantom{\\verb!x!}\\verb|1:|</script></html>"
      ]
     },
     "execution_count": 5,
     "metadata": {
     },
     "output_type": "execute_result"
    },
    {
     "data": {
      "text/html": [
       "<html><script type=\"math/tex; mode=display\">\\newcommand{\\Bold}[1]{\\mathbf{#1}}{a}\\verb|*|\\left(1,\\,-4,\\,1\\right)\\phantom{\\verb!x!}\\verb|+|{b}\\verb|*|\\left(9,\\,-8,\\,1\\right)\\phantom{\\verb!x!}\\verb|=|\\left({a} + 9 \\, {b},\\,-4 \\, {a} - 8 \\, {b},\\,{a} + {b}\\right)\\phantom{\\verb!x!}\\verb|=|\\left(1,\\,-\\frac{1}{2},\\,0\\right)</script></html>"
      ]
     },
     "execution_count": 5,
     "metadata": {
     },
     "output_type": "execute_result"
    },
    {
     "data": {
      "text/html": [
       "<html><script type=\"math/tex; mode=display\">\\newcommand{\\Bold}[1]{\\mathbf{#1}}\\left[{a} = \\left(-\\frac{1}{8}\\right), {b} = \\left(\\frac{1}{8}\\right)\\right]</script></html>"
      ]
     },
     "execution_count": 5,
     "metadata": {
     },
     "output_type": "execute_result"
    },
    {
     "data": {
      "text/html": [
       "<html><script type=\"math/tex; mode=display\">\\newcommand{\\Bold}[1]{\\mathbf{#1}}\\verb|Sustituimos|\\phantom{\\verb!x!}\\verb|y|\\phantom{\\verb!x!}\\verb|combinamos|\\phantom{\\verb!x!}\\verb|con|\\phantom{\\verb!x!}\\verb|theta:|\\left(-\\frac{1}{8} \\, {\\theta} + \\frac{9}{8},\\,\\frac{1}{2} \\, {\\theta} - 1,\\,-\\frac{1}{8} \\, {\\theta} + \\frac{1}{8}\\right)</script></html>"
      ]
     },
     "execution_count": 5,
     "metadata": {
     },
     "output_type": "execute_result"
    },
    {
     "data": {
      "text/html": [
       "<html><script type=\"math/tex; mode=display\">\\newcommand{\\Bold}[1]{\\mathbf{#1}}\\left(5,\\,-6,\\,1\\right)</script></html>"
      ]
     },
     "execution_count": 5,
     "metadata": {
     },
     "output_type": "execute_result"
    }
   ],
   "source": [
    "mostrar_procedimiento()\n",
    "M1 = E.punto_medio(A, B) * 4\n",
    "M1"
   ]
  },
  {
   "cell_type": "code",
   "execution_count": 6,
   "metadata": {
    "collapsed": false
   },
   "outputs": [
    {
     "data": {
      "text/html": [
       "<html><script type=\"math/tex; mode=display\">\\newcommand{\\Bold}[1]{\\mathbf{#1}}\\verb|Obtenemos|\\phantom{\\verb!x!}\\verb|la|\\phantom{\\verb!x!}\\verb|recta|\\phantom{\\verb!x!}\\verb|por|\\phantom{\\verb!x!}\\verb|la|\\phantom{\\verb!x!}\\verb|que|\\phantom{\\verb!x!}\\verb|pasan|\\phantom{\\verb!x!}\\verb|los|\\phantom{\\verb!x!}\\verb|puntos:|</script></html>"
      ]
     },
     "execution_count": 6,
     "metadata": {
     },
     "output_type": "execute_result"
    },
    {
     "data": {
      "text/html": [
       "<html><script type=\"math/tex; mode=display\">\\newcommand{\\Bold}[1]{\\mathbf{#1}}\\verb|Subespacio|\\phantom{\\verb!x!}\\verb|que|\\phantom{\\verb!x!}\\verb|contiene|\\phantom{\\verb!x!}\\verb|los|\\phantom{\\verb!x!}\\verb|puntos|\\left(\\left(1,\\,-4,\\,1\\right), \\left(11,\\,6,\\,-5\\right)\\right)</script></html>"
      ]
     },
     "execution_count": 6,
     "metadata": {
     },
     "output_type": "execute_result"
    },
    {
     "data": {
      "text/html": [
       "<html><script type=\"math/tex; mode=display\">\\newcommand{\\Bold}[1]{\\mathbf{#1}}\\verb|Primero|\\phantom{\\verb!x!}\\verb|reducimos|\\phantom{\\verb!x!}\\verb|a|\\phantom{\\verb!x!}\\verb|su|\\phantom{\\verb!x!}\\verb|forma|\\phantom{\\verb!x!}\\verb|normal:|\\left(\\begin{array}{rr}\n",
       "1 & 0 \\\\\n",
       "46 & 50 \\\\\n",
       "-15 & -16\n",
       "\\end{array}\\right)</script></html>"
      ]
     },
     "execution_count": 6,
     "metadata": {
     },
     "output_type": "execute_result"
    },
    {
     "data": {
      "text/html": [
       "<html><script type=\"math/tex; mode=display\">\\newcommand{\\Bold}[1]{\\mathbf{#1}}\\verb|Resolvemos|\\phantom{\\verb!x!}\\verb|las|\\phantom{\\verb!x!}\\verb|siguientes|\\phantom{\\verb!x!}\\verb|ecuaciones:|</script></html>"
      ]
     },
     "execution_count": 6,
     "metadata": {
     },
     "output_type": "execute_result"
    },
    {
     "data": {
      "text/html": [
       "<html><script type=\"math/tex; mode=display\">\\newcommand{\\Bold}[1]{\\mathbf{#1}}\\verb|det|\\left(\\begin{array}{rrr}\n",
       "1 & 0 & {x_1} \\\\\n",
       "46 & 50 & {x_2} \\\\\n",
       "-15 & -16 & {x_3}\n",
       "\\end{array}\\right)\\verb|=|\\phantom{\\verb!x!}\\verb|0|\\phantom{\\verb!x!}\\verb|=>|14 \\, {x_1} + 16 \\, {x_2} + 50 \\, {x_3} = 0</script></html>"
      ]
     },
     "execution_count": 6,
     "metadata": {
     },
     "output_type": "execute_result"
    },
    {
     "data": {
      "text/html": [
       "<html><script type=\"math/tex; mode=display\">\\newcommand{\\Bold}[1]{\\mathbf{#1}}\\verb|Intersecamos|\\phantom{\\verb!x!}\\verb|con|\\phantom{\\verb!x!}\\verb|el|\\phantom{\\verb!x!}\\verb|hiperplano|\\phantom{\\verb!x!}\\verb|del|\\phantom{\\verb!x!}\\verb|infinito:|\\frac{1}{5} \\, {x_1} + \\frac{2}{5} \\, {x_2} + {x_3} = 0</script></html>"
      ]
     },
     "execution_count": 6,
     "metadata": {
     },
     "output_type": "execute_result"
    },
    {
     "data": {
      "text/html": [
       "<html><script type=\"math/tex; mode=display\">\\newcommand{\\Bold}[1]{\\mathbf{#1}}\\verb|Para|\\phantom{\\verb!x!}\\verb|intersecar|\\phantom{\\verb!x!}\\verb|unimos|\\phantom{\\verb!x!}\\verb|las|\\phantom{\\verb!x!}\\verb|ecuaciones|\\phantom{\\verb!x!}\\verb|de|\\phantom{\\verb!x!}\\verb|cada|\\phantom{\\verb!x!}\\verb|subespacio:|\\left[\\left[14 \\, {x_1} + 16 \\, {x_2} + 50 \\, {x_3} = 0\\right], \\left[\\frac{1}{5} \\, {x_1} + \\frac{2}{5} \\, {x_2} + {x_3} = 0\\right]\\right]</script></html>"
      ]
     },
     "execution_count": 6,
     "metadata": {
     },
     "output_type": "execute_result"
    },
    {
     "data": {
      "text/html": [
       "<html><script type=\"math/tex; mode=display\">\\newcommand{\\Bold}[1]{\\mathbf{#1}}\\verb|Subespacio|\\phantom{\\verb!x!}\\verb|que|\\phantom{\\verb!x!}\\verb|contiene|\\phantom{\\verb!x!}\\verb|los|\\phantom{\\verb!x!}\\verb|puntos|\\left[\\left(1,\\,\\frac{8}{7},\\,\\frac{25}{7}\\right), \\left(1,\\,2,\\,5\\right)\\right]</script></html>"
      ]
     },
     "execution_count": 6,
     "metadata": {
     },
     "output_type": "execute_result"
    },
    {
     "data": {
      "text/html": [
       "<html><script type=\"math/tex; mode=display\">\\newcommand{\\Bold}[1]{\\mathbf{#1}}\\verb|Primero|\\phantom{\\verb!x!}\\verb|reducimos|\\phantom{\\verb!x!}\\verb|a|\\phantom{\\verb!x!}\\verb|su|\\phantom{\\verb!x!}\\verb|forma|\\phantom{\\verb!x!}\\verb|normal:|\\left(\\begin{array}{rr}\n",
       "1 & 0 \\\\\n",
       "0 & 1 \\\\\n",
       "\\frac{5}{3} & \\frac{5}{3}\n",
       "\\end{array}\\right)</script></html>"
      ]
     },
     "execution_count": 6,
     "metadata": {
     },
     "output_type": "execute_result"
    },
    {
     "data": {
      "text/html": [
       "<html><script type=\"math/tex; mode=display\">\\newcommand{\\Bold}[1]{\\mathbf{#1}}\\verb|Resolvemos|\\phantom{\\verb!x!}\\verb|las|\\phantom{\\verb!x!}\\verb|siguientes|\\phantom{\\verb!x!}\\verb|ecuaciones:|</script></html>"
      ]
     },
     "execution_count": 6,
     "metadata": {
     },
     "output_type": "execute_result"
    },
    {
     "data": {
      "text/html": [
       "<html><script type=\"math/tex; mode=display\">\\newcommand{\\Bold}[1]{\\mathbf{#1}}\\verb|det|\\left(\\begin{array}{rrr}\n",
       "1 & 0 & {x_1} \\\\\n",
       "0 & 1 & {x_2} \\\\\n",
       "\\frac{5}{3} & \\frac{5}{3} & {x_3}\n",
       "\\end{array}\\right)\\verb|=|\\phantom{\\verb!x!}\\verb|0|\\phantom{\\verb!x!}\\verb|=>|-\\frac{5}{3} \\, {x_1} - \\frac{5}{3} \\, {x_2} + {x_3} = 0</script></html>"
      ]
     },
     "execution_count": 6,
     "metadata": {
     },
     "output_type": "execute_result"
    },
    {
     "data": {
      "text/html": [
       "<html><script type=\"math/tex; mode=display\">\\newcommand{\\Bold}[1]{\\mathbf{#1}}\\verb|Ahora|\\phantom{\\verb!x!}\\verb|obtenemos|\\phantom{\\verb!x!}\\verb|el|\\phantom{\\verb!x!}\\verb|dual|\\phantom{\\verb!x!}\\verb|del|\\phantom{\\verb!x!}\\verb|subespacio|\\phantom{\\verb!x!}\\verb|calculado|\\phantom{\\verb!x!}\\verb|(era|\\phantom{\\verb!x!}\\verb|el|\\phantom{\\verb!x!}\\verb|dual|\\phantom{\\verb!x!}\\verb|del|\\phantom{\\verb!x!}\\verb|que|\\phantom{\\verb!x!}\\verb|buscabamos):|</script></html>"
      ]
     },
     "execution_count": 6,
     "metadata": {
     },
     "output_type": "execute_result"
    },
    {
     "data": {
      "text/html": [
       "<html><script type=\"math/tex; mode=display\">\\newcommand{\\Bold}[1]{\\mathbf{#1}}\\verb|Subespacio|\\phantom{\\verb!x!}\\verb|que|\\phantom{\\verb!x!}\\verb|contiene|\\phantom{\\verb!x!}\\verb|los|\\phantom{\\verb!x!}\\verb|puntos|\\left[\\left(-\\frac{5}{3},\\,-\\frac{5}{3},\\,1\\right)\\right]</script></html>"
      ]
     },
     "execution_count": 6,
     "metadata": {
     },
     "output_type": "execute_result"
    },
    {
     "data": {
      "text/html": [
       "<html><script type=\"math/tex; mode=display\">\\newcommand{\\Bold}[1]{\\mathbf{#1}}\\verb|Primero|\\phantom{\\verb!x!}\\verb|reducimos|\\phantom{\\verb!x!}\\verb|a|\\phantom{\\verb!x!}\\verb|su|\\phantom{\\verb!x!}\\verb|forma|\\phantom{\\verb!x!}\\verb|normal:|\\left(\\begin{array}{r}\n",
       "1 \\\\\n",
       "1 \\\\\n",
       "-\\frac{3}{5}\n",
       "\\end{array}\\right)</script></html>"
      ]
     },
     "execution_count": 6,
     "metadata": {
     },
     "output_type": "execute_result"
    },
    {
     "data": {
      "text/html": [
       "<html><script type=\"math/tex; mode=display\">\\newcommand{\\Bold}[1]{\\mathbf{#1}}\\verb|Resolvemos|\\phantom{\\verb!x!}\\verb|las|\\phantom{\\verb!x!}\\verb|siguientes|\\phantom{\\verb!x!}\\verb|ecuaciones:|</script></html>"
      ]
     },
     "execution_count": 6,
     "metadata": {
     },
     "output_type": "execute_result"
    },
    {
     "data": {
      "text/html": [
       "<html><script type=\"math/tex; mode=display\">\\newcommand{\\Bold}[1]{\\mathbf{#1}}\\verb|det|\\left(\\begin{array}{rr}\n",
       "1 & {x_1} \\\\\n",
       "1 & {x_2}\n",
       "\\end{array}\\right)\\verb|=|\\phantom{\\verb!x!}\\verb|0|\\phantom{\\verb!x!}\\verb|=>|-{x_1} + {x_2} = 0</script></html>"
      ]
     },
     "execution_count": 6,
     "metadata": {
     },
     "output_type": "execute_result"
    },
    {
     "data": {
      "text/html": [
       "<html><script type=\"math/tex; mode=display\">\\newcommand{\\Bold}[1]{\\mathbf{#1}}\\verb|det|\\left(\\begin{array}{rr}\n",
       "1 & {x_1} \\\\\n",
       "-\\frac{3}{5} & {x_3}\n",
       "\\end{array}\\right)\\verb|=|\\phantom{\\verb!x!}\\verb|0|\\phantom{\\verb!x!}\\verb|=>|\\frac{3}{5} \\, {x_1} + {x_3} = 0</script></html>"
      ]
     },
     "execution_count": 6,
     "metadata": {
     },
     "output_type": "execute_result"
    },
    {
     "data": {
      "text/html": [
       "<html><script type=\"math/tex; mode=display\">\\newcommand{\\Bold}[1]{\\mathbf{#1}}\\verb|El|\\phantom{\\verb!x!}\\verb|punto|\\phantom{\\verb!x!}\\verb|del|\\phantom{\\verb!x!}\\verb|infinito|\\phantom{\\verb!x!}\\verb|es:|\\left(1,\\,1,\\,-\\frac{3}{5}\\right)\\verb|;|\\phantom{\\verb!x!}\\verb|calculamos|\\phantom{\\verb!x!}\\verb|su|\\phantom{\\verb!x!}\\verb|conjugado|\\phantom{\\verb!x!}\\verb|armonico|\\phantom{\\verb!x!}\\verb|respecto|\\phantom{\\verb!x!}\\verb|de|\\phantom{\\verb!x!}\\verb|los|\\phantom{\\verb!x!}\\verb|otros|\\phantom{\\verb!x!}\\verb|dos:|</script></html>"
      ]
     },
     "execution_count": 6,
     "metadata": {
     },
     "output_type": "execute_result"
    },
    {
     "data": {
      "text/html": [
       "<html><script type=\"math/tex; mode=display\">\\newcommand{\\Bold}[1]{\\mathbf{#1}}\\verb|Montamos|\\phantom{\\verb!x!}\\verb|la|\\phantom{\\verb!x!}\\verb|recta|\\phantom{\\verb!x!}\\verb|con|\\phantom{\\verb!x!}\\verb|la|\\phantom{\\verb!x!}\\verb|referencia|\\phantom{\\verb!x!}\\verb|{P0=|\\left(1,\\,-4,\\,1\\right)\\verb|,|\\phantom{\\verb!x!}\\verb|P1=|\\left(11,\\,6,\\,-5\\right)\\verb|;|\\phantom{\\verb!x!}\\verb|P2=|\\left(1,\\,1,\\,-\\frac{3}{5}\\right)\\verb|}|</script></html>"
      ]
     },
     "execution_count": 6,
     "metadata": {
     },
     "output_type": "execute_result"
    },
    {
     "data": {
      "text/html": [
       "<html><script type=\"math/tex; mode=display\">\\newcommand{\\Bold}[1]{\\mathbf{#1}}\\verb|Asi,|\\phantom{\\verb!x!}\\verb|P0:|\\phantom{\\verb!x!}\\verb|theta|\\phantom{\\verb!x!}\\verb|=|\\phantom{\\verb!x!}\\verb|Infinity,|\\phantom{\\verb!x!}\\verb|P1:|\\phantom{\\verb!x!}\\verb|theta|\\phantom{\\verb!x!}\\verb|=|\\phantom{\\verb!x!}\\verb|0,|\\phantom{\\verb!x!}\\verb|P2:|\\phantom{\\verb!x!}\\verb|theta|\\phantom{\\verb!x!}\\verb|=|\\phantom{\\verb!x!}\\verb|1|\\phantom{\\verb!x!}\\verb|y|\\phantom{\\verb!x!}\\verb|sustituimos|\\phantom{\\verb!x!}\\verb|en|\\phantom{\\verb!x!}\\verb|-1|</script></html>"
      ]
     },
     "execution_count": 6,
     "metadata": {
     },
     "output_type": "execute_result"
    },
    {
     "data": {
      "text/html": [
       "<html><script type=\"math/tex; mode=display\">\\newcommand{\\Bold}[1]{\\mathbf{#1}}\\verb|Forzamos|\\phantom{\\verb!x!}\\verb|P2:|\\phantom{\\verb!x!}\\verb|theta|\\phantom{\\verb!x!}\\verb|=|\\phantom{\\verb!x!}\\verb|1:|</script></html>"
      ]
     },
     "execution_count": 6,
     "metadata": {
     },
     "output_type": "execute_result"
    },
    {
     "data": {
      "text/html": [
       "<html><script type=\"math/tex; mode=display\">\\newcommand{\\Bold}[1]{\\mathbf{#1}}{a}\\verb|*|\\left(1,\\,-4,\\,1\\right)\\phantom{\\verb!x!}\\verb|+|{b}\\verb|*|\\left(11,\\,6,\\,-5\\right)\\phantom{\\verb!x!}\\verb|=|\\left({a} + 11 \\, {b},\\,-4 \\, {a} + 6 \\, {b},\\,{a} - 5 \\, {b}\\right)\\phantom{\\verb!x!}\\verb|=|\\left(1,\\,1,\\,-\\frac{3}{5}\\right)</script></html>"
      ]
     },
     "execution_count": 6,
     "metadata": {
     },
     "output_type": "execute_result"
    },
    {
     "data": {
      "text/html": [
       "<html><script type=\"math/tex; mode=display\">\\newcommand{\\Bold}[1]{\\mathbf{#1}}\\left[{a} = \\left(-\\frac{1}{10}\\right), {b} = \\left(\\frac{1}{10}\\right)\\right]</script></html>"
      ]
     },
     "execution_count": 6,
     "metadata": {
     },
     "output_type": "execute_result"
    },
    {
     "data": {
      "text/html": [
       "<html><script type=\"math/tex; mode=display\">\\newcommand{\\Bold}[1]{\\mathbf{#1}}\\verb|Sustituimos|\\phantom{\\verb!x!}\\verb|y|\\phantom{\\verb!x!}\\verb|combinamos|\\phantom{\\verb!x!}\\verb|con|\\phantom{\\verb!x!}\\verb|theta:|\\left(-\\frac{1}{10} \\, {\\theta} + \\frac{11}{10},\\,\\frac{2}{5} \\, {\\theta} + \\frac{3}{5},\\,-\\frac{1}{10} \\, {\\theta} - \\frac{1}{2}\\right)</script></html>"
      ]
     },
     "execution_count": 6,
     "metadata": {
     },
     "output_type": "execute_result"
    },
    {
     "data": {
      "text/html": [
       "<html><script type=\"math/tex; mode=display\">\\newcommand{\\Bold}[1]{\\mathbf{#1}}\\left(6,\\,1,\\,-2\\right)</script></html>"
      ]
     },
     "execution_count": 6,
     "metadata": {
     },
     "output_type": "execute_result"
    }
   ],
   "source": [
    "M2 = E.punto_medio(A, C) * 5\n",
    "M2"
   ]
  },
  {
   "cell_type": "code",
   "execution_count": 7,
   "metadata": {
    "collapsed": false
   },
   "outputs": [
    {
     "data": {
      "text/html": [
       "<html><script type=\"math/tex; mode=display\">\\newcommand{\\Bold}[1]{\\mathbf{#1}}\\left(10,\\,-1,\\,-2\\right)</script></html>"
      ]
     },
     "execution_count": 7,
     "metadata": {
     },
     "output_type": "execute_result"
    }
   ],
   "source": [
    "# Esto ya no es necesario, pero se comprueba que todas las medianas son concurrentes\n",
    "mostrar_procedimiento(False)\n",
    "M3 = E.punto_medio(B, C)\n",
    "M3"
   ]
  },
  {
   "cell_type": "code",
   "execution_count": 8,
   "metadata": {
    "collapsed": false
   },
   "outputs": [
    {
     "data": {
      "text/html": [
       "<html><script type=\"math/tex; mode=display\">\\newcommand{\\Bold}[1]{\\mathbf{#1}}\\verb|Subespacio|\\phantom{\\verb!x!}\\verb|que|\\phantom{\\verb!x!}\\verb|contiene|\\phantom{\\verb!x!}\\verb|los|\\phantom{\\verb!x!}\\verb|puntos|\\left(\\left(11,\\,6,\\,-5\\right), \\left(5,\\,-6,\\,1\\right)\\right)</script></html>"
      ]
     },
     "execution_count": 8,
     "metadata": {
     },
     "output_type": "execute_result"
    },
    {
     "data": {
      "text/html": [
       "<html><script type=\"math/tex; mode=display\">\\newcommand{\\Bold}[1]{\\mathbf{#1}}\\verb|Primero|\\phantom{\\verb!x!}\\verb|reducimos|\\phantom{\\verb!x!}\\verb|a|\\phantom{\\verb!x!}\\verb|su|\\phantom{\\verb!x!}\\verb|forma|\\phantom{\\verb!x!}\\verb|normal:|\\left(\\begin{array}{rr}\n",
       "1 & 0 \\\\\n",
       "0 & 1 \\\\\n",
       "-\\frac{1}{4} & -\\frac{3}{8}\n",
       "\\end{array}\\right)</script></html>"
      ]
     },
     "execution_count": 8,
     "metadata": {
     },
     "output_type": "execute_result"
    },
    {
     "data": {
      "text/html": [
       "<html><script type=\"math/tex; mode=display\">\\newcommand{\\Bold}[1]{\\mathbf{#1}}\\verb|Resolvemos|\\phantom{\\verb!x!}\\verb|las|\\phantom{\\verb!x!}\\verb|siguientes|\\phantom{\\verb!x!}\\verb|ecuaciones:|</script></html>"
      ]
     },
     "execution_count": 8,
     "metadata": {
     },
     "output_type": "execute_result"
    },
    {
     "data": {
      "text/html": [
       "<html><script type=\"math/tex; mode=display\">\\newcommand{\\Bold}[1]{\\mathbf{#1}}\\verb|det|\\left(\\begin{array}{rrr}\n",
       "1 & 0 & {x_1} \\\\\n",
       "0 & 1 & {x_2} \\\\\n",
       "-\\frac{1}{4} & -\\frac{3}{8} & {x_3}\n",
       "\\end{array}\\right)\\verb|=|\\phantom{\\verb!x!}\\verb|0|\\phantom{\\verb!x!}\\verb|=>|\\frac{1}{4} \\, {x_1} + \\frac{3}{8} \\, {x_2} + {x_3} = 0</script></html>"
      ]
     },
     "execution_count": 8,
     "metadata": {
     },
     "output_type": "execute_result"
    },
    {
     "data": {
      "text/html": [
       "<html><script type=\"math/tex; mode=display\">\\newcommand{\\Bold}[1]{\\mathbf{#1}}\\frac{1}{4} \\, {x_1} + \\frac{3}{8} \\, {x_2} + {x_3} = 0</script></html>"
      ]
     },
     "execution_count": 8,
     "metadata": {
     },
     "output_type": "execute_result"
    }
   ],
   "source": [
    "mostrar_procedimiento()\n",
    "c = subespacio(C, M1)\n",
    "c.implicitas()[0]"
   ]
  },
  {
   "cell_type": "code",
   "execution_count": 9,
   "metadata": {
    "collapsed": false
   },
   "outputs": [
    {
     "data": {
      "text/html": [
       "<html><script type=\"math/tex; mode=display\">\\newcommand{\\Bold}[1]{\\mathbf{#1}}\\verb|Subespacio|\\phantom{\\verb!x!}\\verb|que|\\phantom{\\verb!x!}\\verb|contiene|\\phantom{\\verb!x!}\\verb|los|\\phantom{\\verb!x!}\\verb|puntos|\\left(\\left(9,\\,-8,\\,1\\right), \\left(6,\\,1,\\,-2\\right)\\right)</script></html>"
      ]
     },
     "execution_count": 9,
     "metadata": {
     },
     "output_type": "execute_result"
    },
    {
     "data": {
      "text/html": [
       "<html><script type=\"math/tex; mode=display\">\\newcommand{\\Bold}[1]{\\mathbf{#1}}\\verb|Primero|\\phantom{\\verb!x!}\\verb|reducimos|\\phantom{\\verb!x!}\\verb|a|\\phantom{\\verb!x!}\\verb|su|\\phantom{\\verb!x!}\\verb|forma|\\phantom{\\verb!x!}\\verb|normal:|\\left(\\begin{array}{rr}\n",
       "1 & 0 \\\\\n",
       "0 & 1 \\\\\n",
       "-\\frac{5}{19} & -\\frac{8}{19}\n",
       "\\end{array}\\right)</script></html>"
      ]
     },
     "execution_count": 9,
     "metadata": {
     },
     "output_type": "execute_result"
    },
    {
     "data": {
      "text/html": [
       "<html><script type=\"math/tex; mode=display\">\\newcommand{\\Bold}[1]{\\mathbf{#1}}\\verb|Resolvemos|\\phantom{\\verb!x!}\\verb|las|\\phantom{\\verb!x!}\\verb|siguientes|\\phantom{\\verb!x!}\\verb|ecuaciones:|</script></html>"
      ]
     },
     "execution_count": 9,
     "metadata": {
     },
     "output_type": "execute_result"
    },
    {
     "data": {
      "text/html": [
       "<html><script type=\"math/tex; mode=display\">\\newcommand{\\Bold}[1]{\\mathbf{#1}}\\verb|det|\\left(\\begin{array}{rrr}\n",
       "1 & 0 & {x_1} \\\\\n",
       "0 & 1 & {x_2} \\\\\n",
       "-\\frac{5}{19} & -\\frac{8}{19} & {x_3}\n",
       "\\end{array}\\right)\\verb|=|\\phantom{\\verb!x!}\\verb|0|\\phantom{\\verb!x!}\\verb|=>|\\frac{5}{19} \\, {x_1} + \\frac{8}{19} \\, {x_2} + {x_3} = 0</script></html>"
      ]
     },
     "execution_count": 9,
     "metadata": {
     },
     "output_type": "execute_result"
    },
    {
     "data": {
      "text/html": [
       "<html><script type=\"math/tex; mode=display\">\\newcommand{\\Bold}[1]{\\mathbf{#1}}\\frac{5}{19} \\, {x_1} + \\frac{8}{19} \\, {x_2} + {x_3} = 0</script></html>"
      ]
     },
     "execution_count": 9,
     "metadata": {
     },
     "output_type": "execute_result"
    }
   ],
   "source": [
    "b = subespacio(B, M2)\n",
    "b.implicitas()[0]"
   ]
  },
  {
   "cell_type": "code",
   "execution_count": 10,
   "metadata": {
    "collapsed": false
   },
   "outputs": [
    {
     "data": {
      "text/html": [
       "<html><script type=\"math/tex; mode=display\">\\newcommand{\\Bold}[1]{\\mathbf{#1}}\\frac{3}{13} \\, {x_1} + \\frac{4}{13} \\, {x_2} + {x_3} = 0</script></html>"
      ]
     },
     "execution_count": 10,
     "metadata": {
     },
     "output_type": "execute_result"
    }
   ],
   "source": [
    "# De nuevo, no necesario\n",
    "mostrar_procedimiento(False)\n",
    "a = subespacio(A, M3)\n",
    "a.implicitas()[0]"
   ]
  },
  {
   "cell_type": "code",
   "execution_count": 11,
   "metadata": {
    "collapsed": false
   },
   "outputs": [
    {
     "data": {
      "text/html": [
       "<html><script type=\"math/tex; mode=display\">\\newcommand{\\Bold}[1]{\\mathbf{#1}}\\verb|Para|\\phantom{\\verb!x!}\\verb|intersecar|\\phantom{\\verb!x!}\\verb|unimos|\\phantom{\\verb!x!}\\verb|las|\\phantom{\\verb!x!}\\verb|ecuaciones|\\phantom{\\verb!x!}\\verb|de|\\phantom{\\verb!x!}\\verb|cada|\\phantom{\\verb!x!}\\verb|subespacio:|\\left[\\left[\\frac{3}{13} \\, {x_1} + \\frac{4}{13} \\, {x_2} + {x_3} = 0\\right], \\left[\\frac{1}{4} \\, {x_1} + \\frac{3}{8} \\, {x_2} + {x_3} = 0\\right]\\right]</script></html>"
      ]
     },
     "execution_count": 11,
     "metadata": {
     },
     "output_type": "execute_result"
    },
    {
     "data": {
      "text/html": [
       "<html><script type=\"math/tex; mode=display\">\\newcommand{\\Bold}[1]{\\mathbf{#1}}\\verb|Subespacio|\\phantom{\\verb!x!}\\verb|que|\\phantom{\\verb!x!}\\verb|contiene|\\phantom{\\verb!x!}\\verb|los|\\phantom{\\verb!x!}\\verb|puntos|\\left[\\left(1,\\,\\frac{4}{3},\\,\\frac{13}{3}\\right), \\left(1,\\,\\frac{3}{2},\\,4\\right)\\right]</script></html>"
      ]
     },
     "execution_count": 11,
     "metadata": {
     },
     "output_type": "execute_result"
    },
    {
     "data": {
      "text/html": [
       "<html><script type=\"math/tex; mode=display\">\\newcommand{\\Bold}[1]{\\mathbf{#1}}\\verb|Primero|\\phantom{\\verb!x!}\\verb|reducimos|\\phantom{\\verb!x!}\\verb|a|\\phantom{\\verb!x!}\\verb|su|\\phantom{\\verb!x!}\\verb|forma|\\phantom{\\verb!x!}\\verb|normal:|\\left(\\begin{array}{rr}\n",
       "1 & 0 \\\\\n",
       "0 & 1 \\\\\n",
       "7 & -2\n",
       "\\end{array}\\right)</script></html>"
      ]
     },
     "execution_count": 11,
     "metadata": {
     },
     "output_type": "execute_result"
    },
    {
     "data": {
      "text/html": [
       "<html><script type=\"math/tex; mode=display\">\\newcommand{\\Bold}[1]{\\mathbf{#1}}\\verb|Resolvemos|\\phantom{\\verb!x!}\\verb|las|\\phantom{\\verb!x!}\\verb|siguientes|\\phantom{\\verb!x!}\\verb|ecuaciones:|</script></html>"
      ]
     },
     "execution_count": 11,
     "metadata": {
     },
     "output_type": "execute_result"
    },
    {
     "data": {
      "text/html": [
       "<html><script type=\"math/tex; mode=display\">\\newcommand{\\Bold}[1]{\\mathbf{#1}}\\verb|det|\\left(\\begin{array}{rrr}\n",
       "1 & 0 & {x_1} \\\\\n",
       "0 & 1 & {x_2} \\\\\n",
       "7 & -2 & {x_3}\n",
       "\\end{array}\\right)\\verb|=|\\phantom{\\verb!x!}\\verb|0|\\phantom{\\verb!x!}\\verb|=>|-7 \\, {x_1} + 2 \\, {x_2} + {x_3} = 0</script></html>"
      ]
     },
     "execution_count": 11,
     "metadata": {
     },
     "output_type": "execute_result"
    },
    {
     "data": {
      "text/html": [
       "<html><script type=\"math/tex; mode=display\">\\newcommand{\\Bold}[1]{\\mathbf{#1}}\\verb|Ahora|\\phantom{\\verb!x!}\\verb|obtenemos|\\phantom{\\verb!x!}\\verb|el|\\phantom{\\verb!x!}\\verb|dual|\\phantom{\\verb!x!}\\verb|del|\\phantom{\\verb!x!}\\verb|subespacio|\\phantom{\\verb!x!}\\verb|calculado|\\phantom{\\verb!x!}\\verb|(era|\\phantom{\\verb!x!}\\verb|el|\\phantom{\\verb!x!}\\verb|dual|\\phantom{\\verb!x!}\\verb|del|\\phantom{\\verb!x!}\\verb|que|\\phantom{\\verb!x!}\\verb|buscabamos):|</script></html>"
      ]
     },
     "execution_count": 11,
     "metadata": {
     },
     "output_type": "execute_result"
    },
    {
     "data": {
      "text/html": [
       "<html><script type=\"math/tex; mode=display\">\\newcommand{\\Bold}[1]{\\mathbf{#1}}\\verb|Subespacio|\\phantom{\\verb!x!}\\verb|que|\\phantom{\\verb!x!}\\verb|contiene|\\phantom{\\verb!x!}\\verb|los|\\phantom{\\verb!x!}\\verb|puntos|\\left[\\left(-7,\\,2,\\,1\\right)\\right]</script></html>"
      ]
     },
     "execution_count": 11,
     "metadata": {
     },
     "output_type": "execute_result"
    },
    {
     "data": {
      "text/html": [
       "<html><script type=\"math/tex; mode=display\">\\newcommand{\\Bold}[1]{\\mathbf{#1}}\\verb|Primero|\\phantom{\\verb!x!}\\verb|reducimos|\\phantom{\\verb!x!}\\verb|a|\\phantom{\\verb!x!}\\verb|su|\\phantom{\\verb!x!}\\verb|forma|\\phantom{\\verb!x!}\\verb|normal:|\\left(\\begin{array}{r}\n",
       "1 \\\\\n",
       "-\\frac{2}{7} \\\\\n",
       "-\\frac{1}{7}\n",
       "\\end{array}\\right)</script></html>"
      ]
     },
     "execution_count": 11,
     "metadata": {
     },
     "output_type": "execute_result"
    },
    {
     "data": {
      "text/html": [
       "<html><script type=\"math/tex; mode=display\">\\newcommand{\\Bold}[1]{\\mathbf{#1}}\\verb|Resolvemos|\\phantom{\\verb!x!}\\verb|las|\\phantom{\\verb!x!}\\verb|siguientes|\\phantom{\\verb!x!}\\verb|ecuaciones:|</script></html>"
      ]
     },
     "execution_count": 11,
     "metadata": {
     },
     "output_type": "execute_result"
    },
    {
     "data": {
      "text/html": [
       "<html><script type=\"math/tex; mode=display\">\\newcommand{\\Bold}[1]{\\mathbf{#1}}\\verb|det|\\left(\\begin{array}{rr}\n",
       "1 & {x_1} \\\\\n",
       "-\\frac{2}{7} & {x_2}\n",
       "\\end{array}\\right)\\verb|=|\\phantom{\\verb!x!}\\verb|0|\\phantom{\\verb!x!}\\verb|=>|\\frac{2}{7} \\, {x_1} + {x_2} = 0</script></html>"
      ]
     },
     "execution_count": 11,
     "metadata": {
     },
     "output_type": "execute_result"
    },
    {
     "data": {
      "text/html": [
       "<html><script type=\"math/tex; mode=display\">\\newcommand{\\Bold}[1]{\\mathbf{#1}}\\verb|det|\\left(\\begin{array}{rr}\n",
       "1 & {x_1} \\\\\n",
       "-\\frac{1}{7} & {x_3}\n",
       "\\end{array}\\right)\\verb|=|\\phantom{\\verb!x!}\\verb|0|\\phantom{\\verb!x!}\\verb|=>|\\frac{1}{7} \\, {x_1} + {x_3} = 0</script></html>"
      ]
     },
     "execution_count": 11,
     "metadata": {
     },
     "output_type": "execute_result"
    },
    {
     "data": {
      "text/html": [
       "<html><script type=\"math/tex; mode=display\">\\newcommand{\\Bold}[1]{\\mathbf{#1}}\\left(-7,\\,2,\\,1\\right)</script></html>"
      ]
     },
     "execution_count": 11,
     "metadata": {
     },
     "output_type": "execute_result"
    }
   ],
   "source": [
    "mostrar_procedimiento()\n",
    "# Solución\n",
    "O = a.interseccion(c).punto() * -7\n",
    "O"
   ]
  },
  {
   "cell_type": "code",
   "execution_count": 12,
   "metadata": {
    "collapsed": false
   },
   "outputs": [
    {
     "data": {
      "text/html": [
       "<html><script type=\"math/tex; mode=display\">\\newcommand{\\Bold}[1]{\\mathbf{#1}}\\left(-7,\\,2,\\,1\\right)</script></html>"
      ]
     },
     "execution_count": 12,
     "metadata": {
     },
     "output_type": "execute_result"
    }
   ],
   "source": [
    "# Comprobamos que las demás también coinciden\n",
    "mostrar_procedimiento(False)\n",
    "a.interseccion(b).punto() * -7"
   ]
  },
  {
   "cell_type": "code",
   "execution_count": 13,
   "metadata": {
    "collapsed": false
   },
   "outputs": [
    {
     "data": {
      "text/html": [
       "<html><script type=\"math/tex; mode=display\">\\newcommand{\\Bold}[1]{\\mathbf{#1}}\\left(-7,\\,2,\\,1\\right)</script></html>"
      ]
     },
     "execution_count": 13,
     "metadata": {
     },
     "output_type": "execute_result"
    }
   ],
   "source": [
    "b.interseccion(c).punto() * -7"
   ]
  }
 ],
 "metadata": {
  "kernelspec": {
   "display_name": "SageMath (stable)",
   "language": "sagemath",
   "name": "sagemath"
  },
  "language_info": {
   "codemirror_mode": {
    "name": "ipython",
    "version": 2
   },
   "file_extension": ".py",
   "mimetype": "text/x-python",
   "name": "python",
   "nbconvert_exporter": "python",
   "pygments_lexer": "ipython2",
   "version": "2.7.15"
  }
 },
 "nbformat": 4,
 "nbformat_minor": 0
}