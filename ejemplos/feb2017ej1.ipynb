{
 "cells": [
  {
   "cell_type": "code",
   "execution_count": 1,
   "metadata": {
    "collapsed": false
   },
   "outputs": [
   ],
   "source": [
    "# Meter en carpeta anterior a scripts para poder cargarlos\n",
    "load('scripts/scripts_gl.sage')\n",
    "# Nos muestra resultados en LaTeX\n",
    "pretty_print_default(True)\n",
    "# True/False para mostrar procedimientos\n",
    "mostrar_procedimiento(True)"
   ]
  },
  {
   "cell_type": "code",
   "execution_count": 2,
   "metadata": {
    "collapsed": false
   },
   "outputs": [
    {
     "data": {
      "text/html": [
       "<html><script type=\"math/tex; mode=display\">\\newcommand{\\Bold}[1]{\\mathbf{#1}}{x_1} - \\frac{1}{2} \\, {x_2} + {x_3} = 0</script></html>"
      ]
     },
     "execution_count": 2,
     "metadata": {
     },
     "output_type": "execute_result"
    }
   ],
   "source": [
    "mostrar_procedimiento(False)\n",
    "L = vector([2, -1, 2])\n",
    "l = subespacio(L).dual()\n",
    "l.implicitas()[0]"
   ]
  },
  {
   "cell_type": "code",
   "execution_count": 3,
   "metadata": {
    "collapsed": false
   },
   "outputs": [
    {
     "data": {
      "text/html": [
       "<html><script type=\"math/tex; mode=display\">\\newcommand{\\Bold}[1]{\\mathbf{#1}}-\\frac{1}{3} \\, {x_1} - \\frac{1}{6} \\, {x_2} + {x_3} = 0</script></html>"
      ]
     },
     "execution_count": 3,
     "metadata": {
     },
     "output_type": "execute_result"
    }
   ],
   "source": [
    "M = vector([2, 1, -6])\n",
    "m = subespacio(M).dual()\n",
    "m.implicitas()[0]"
   ]
  },
  {
   "cell_type": "code",
   "execution_count": 4,
   "metadata": {
    "collapsed": false
   },
   "outputs": [
    {
     "data": {
      "text/html": [
       "<html><script type=\"math/tex; mode=display\">\\newcommand{\\Bold}[1]{\\mathbf{#1}}-2 \\, {\\left({\\lambda} + 1\\right)} {x_1} - {\\left({\\lambda} - 1\\right)} {x_2} + 2 \\, {\\left(3 \\, {\\lambda} - 1\\right)} {x_3} = 0</script></html>"
      ]
     },
     "execution_count": 4,
     "metadata": {
     },
     "output_type": "execute_result"
    }
   ],
   "source": [
    "# (a)\n",
    "haz_H = haz_hiperplanos(l, m)\n",
    "lambda0 = haz_H.parametro()\n",
    "# Multiplicamos para ponerlo \"bonito\"\n",
    "haz_H.ecuacion() *  2 * (3 * lambda0 - 1)"
   ]
  },
  {
   "cell_type": "code",
   "execution_count": 5,
   "metadata": {
    "collapsed": false
   },
   "outputs": [
    {
     "data": {
      "text/html": [
       "<html><script type=\"math/tex; mode=display\">\\newcommand{\\Bold}[1]{\\mathbf{#1}}\\verb|Sustituimos|\\phantom{\\verb!x!}\\verb|el|\\phantom{\\verb!x!}\\verb|punto:|\\left(1,\\,0,\\,0\\right)\\phantom{\\verb!x!}\\verb|en:|-\\frac{2 \\, {\\left({\\lambda} + 1\\right)} {x_1} + {\\left({\\lambda} - 1\\right)} {x_2} - 2 \\, {\\left(3 \\, {\\lambda} - 1\\right)} {x_3}}{2 \\, {\\left(3 \\, {\\lambda} - 1\\right)}} = 0</script></html>"
      ]
     },
     "execution_count": 5,
     "metadata": {
     },
     "output_type": "execute_result"
    },
    {
     "data": {
      "text/html": [
       "<html><script type=\"math/tex; mode=display\">\\newcommand{\\Bold}[1]{\\mathbf{#1}}{\\lambda} + 1\\phantom{\\verb!x!}\\verb|=|\\phantom{\\verb!x!}\\verb|0|</script></html>"
      ]
     },
     "execution_count": 5,
     "metadata": {
     },
     "output_type": "execute_result"
    },
    {
     "data": {
      "text/html": [
       "<html><script type=\"math/tex; mode=display\">\\newcommand{\\Bold}[1]{\\mathbf{#1}}-\\frac{1}{4} \\, {x_2} + {x_3} = 0</script></html>"
      ]
     },
     "execution_count": 5,
     "metadata": {
     },
     "output_type": "execute_result"
    }
   ],
   "source": [
    "# Solución\n",
    "mostrar_procedimiento()\n",
    "n = haz_H.forzar_punto(vector([1, 0, 0]))\n",
    "n.implicitas()[0]"
   ]
  },
  {
   "cell_type": "code",
   "execution_count": 6,
   "metadata": {
    "collapsed": false
   },
   "outputs": [
    {
     "data": {
      "text/html": [
       "<html><script type=\"math/tex; mode=display\">\\newcommand{\\Bold}[1]{\\mathbf{#1}}\\verb|Montamos|\\phantom{\\verb!x!}\\verb|la|\\phantom{\\verb!x!}\\verb|recta|\\phantom{\\verb!x!}\\verb|con|\\phantom{\\verb!x!}\\verb|la|\\phantom{\\verb!x!}\\verb|referencia|\\phantom{\\verb!x!}\\verb|{P0=|\\left(2,\\,-1,\\,2\\right)\\verb|,|\\phantom{\\verb!x!}\\verb|P1=|\\left(2,\\,1,\\,-6\\right)\\verb|;|\\phantom{\\verb!x!}\\verb|P2=|\\left(0,\\,-1,\\,4\\right)\\verb|}|</script></html>"
      ]
     },
     "execution_count": 6,
     "metadata": {
     },
     "output_type": "execute_result"
    },
    {
     "data": {
      "text/html": [
       "<html><script type=\"math/tex; mode=display\">\\newcommand{\\Bold}[1]{\\mathbf{#1}}\\verb|Asi,|\\phantom{\\verb!x!}\\verb|P0:|\\phantom{\\verb!x!}\\verb|theta|\\phantom{\\verb!x!}\\verb|=|\\phantom{\\verb!x!}\\verb|Infinity,|\\phantom{\\verb!x!}\\verb|P1:|\\phantom{\\verb!x!}\\verb|theta|\\phantom{\\verb!x!}\\verb|=|\\phantom{\\verb!x!}\\verb|0,|\\phantom{\\verb!x!}\\verb|P2:|\\phantom{\\verb!x!}\\verb|theta|\\phantom{\\verb!x!}\\verb|=|\\phantom{\\verb!x!}\\verb|1|\\phantom{\\verb!x!}\\verb|y|\\phantom{\\verb!x!}\\verb|sustituimos|\\phantom{\\verb!x!}\\verb|en|\\phantom{\\verb!x!}\\verb|-1|</script></html>"
      ]
     },
     "execution_count": 6,
     "metadata": {
     },
     "output_type": "execute_result"
    },
    {
     "data": {
      "text/html": [
       "<html><script type=\"math/tex; mode=display\">\\newcommand{\\Bold}[1]{\\mathbf{#1}}\\verb|Forzamos|\\phantom{\\verb!x!}\\verb|P2:|\\phantom{\\verb!x!}\\verb|theta|\\phantom{\\verb!x!}\\verb|=|\\phantom{\\verb!x!}\\verb|1:|</script></html>"
      ]
     },
     "execution_count": 6,
     "metadata": {
     },
     "output_type": "execute_result"
    },
    {
     "data": {
      "text/html": [
       "<html><script type=\"math/tex; mode=display\">\\newcommand{\\Bold}[1]{\\mathbf{#1}}{a}\\verb|*|\\left(2,\\,-1,\\,2\\right)\\phantom{\\verb!x!}\\verb|+|{b}\\verb|*|\\left(2,\\,1,\\,-6\\right)\\phantom{\\verb!x!}\\verb|=|\\left(2 \\, {a} + 2 \\, {b},\\,-{a} + {b},\\,2 \\, {a} - 6 \\, {b}\\right)\\phantom{\\verb!x!}\\verb|=|\\left(0,\\,-1,\\,4\\right)</script></html>"
      ]
     },
     "execution_count": 6,
     "metadata": {
     },
     "output_type": "execute_result"
    },
    {
     "data": {
      "text/html": [
       "<html><script type=\"math/tex; mode=display\">\\newcommand{\\Bold}[1]{\\mathbf{#1}}\\left[{a} = \\left(\\frac{1}{2}\\right), {b} = \\left(-\\frac{1}{2}\\right)\\right]</script></html>"
      ]
     },
     "execution_count": 6,
     "metadata": {
     },
     "output_type": "execute_result"
    },
    {
     "data": {
      "text/html": [
       "<html><script type=\"math/tex; mode=display\">\\newcommand{\\Bold}[1]{\\mathbf{#1}}\\verb|Sustituimos|\\phantom{\\verb!x!}\\verb|y|\\phantom{\\verb!x!}\\verb|combinamos|\\phantom{\\verb!x!}\\verb|con|\\phantom{\\verb!x!}\\verb|theta:|\\left({\\theta} - 1,\\,-\\frac{1}{2} \\, {\\theta} - \\frac{1}{2},\\,{\\theta} + 3\\right)</script></html>"
      ]
     },
     "execution_count": 6,
     "metadata": {
     },
     "output_type": "execute_result"
    },
    {
     "data": {
      "text/html": [
       "<html><script type=\"math/tex; mode=display\">\\newcommand{\\Bold}[1]{\\mathbf{#1}}\\left(-2,\\,0,\\,2\\right)</script></html>"
      ]
     },
     "execution_count": 6,
     "metadata": {
     },
     "output_type": "execute_result"
    }
   ],
   "source": [
    "# (b)\n",
    "# Podemos coger el dual, pero tardamos menos cogiendo directamente el vector\n",
    "N = vector([0, -1, 4])\n",
    "O = conjugado_armonico(L, M, N)\n",
    "O"
   ]
  },
  {
   "cell_type": "code",
   "execution_count": 7,
   "metadata": {
    "collapsed": false
   },
   "outputs": [
    {
     "data": {
      "text/html": [
       "<html><script type=\"math/tex; mode=display\">\\newcommand{\\Bold}[1]{\\mathbf{#1}}-{x_1} + {x_3} = 0</script></html>"
      ]
     },
     "execution_count": 7,
     "metadata": {
     },
     "output_type": "execute_result"
    }
   ],
   "source": [
    "# Solución\n",
    "mostrar_procedimiento(False)\n",
    "o = subespacio(O).dual()\n",
    "o.implicitas()[0]"
   ]
  },
  {
   "cell_type": "code",
   "execution_count": 8,
   "metadata": {
    "collapsed": false
   },
   "outputs": [
    {
     "data": {
      "text/html": [
       "<html><script type=\"math/tex; mode=display\">\\newcommand{\\Bold}[1]{\\mathbf{#1}}-\\frac{3}{16} \\, {x_1} - \\frac{5}{16} \\, {x_2} + {x_3} = 0</script></html>"
      ]
     },
     "execution_count": 8,
     "metadata": {
     },
     "output_type": "execute_result"
    }
   ],
   "source": [
    "# (c)\n",
    "L2 = vector([-3, -5, 16])\n",
    "l2 = subespacio(L2).dual()\n",
    "l2.implicitas()[0]"
   ]
  },
  {
   "cell_type": "code",
   "execution_count": 9,
   "metadata": {
    "collapsed": false
   },
   "outputs": [
    {
     "data": {
      "text/html": [
       "<html><script type=\"math/tex; mode=display\">\\newcommand{\\Bold}[1]{\\mathbf{#1}}-\\frac{3}{14} \\, {x_1} + \\frac{1}{14} \\, {x_2} + {x_3} = 0</script></html>"
      ]
     },
     "execution_count": 9,
     "metadata": {
     },
     "output_type": "execute_result"
    }
   ],
   "source": [
    "M2 = vector([-3, 1, 14])\n",
    "m2 = subespacio(M2).dual()\n",
    "m2.implicitas()[0]"
   ]
  },
  {
   "cell_type": "code",
   "execution_count": 10,
   "metadata": {
    "collapsed": false
   },
   "outputs": [
    {
     "data": {
      "text/html": [
       "<html><script type=\"math/tex; mode=display\">\\newcommand{\\Bold}[1]{\\mathbf{#1}}-3 \\, {\\left({\\lambda} + 1\\right)} {x_1} + {\\left({\\lambda} - 5\\right)} {x_2} + 2 \\, {\\left(7 \\, {\\lambda} + 8\\right)} {x_3} = 0</script></html>"
      ]
     },
     "execution_count": 10,
     "metadata": {
     },
     "output_type": "execute_result"
    }
   ],
   "source": [
    "haz_K = haz_hiperplanos(l2, m2)\n",
    "haz_K.ecuacion() * 2 * (7*lambda0 + 8)"
   ]
  },
  {
   "cell_type": "code",
   "execution_count": 11,
   "metadata": {
    "collapsed": false
   },
   "outputs": [
    {
     "data": {
      "text/html": [
       "<html><script type=\"math/tex; mode=display\">\\newcommand{\\Bold}[1]{\\mathbf{#1}}-3 \\, {x_2} + {x_3} = 0</script></html>"
      ]
     },
     "execution_count": 11,
     "metadata": {
     },
     "output_type": "execute_result"
    }
   ],
   "source": [
    "# La otra info que nos dicen es que transforma o en o': -3y+z=0\n",
    "O2 = vector([0, -3, 1])\n",
    "o2 = subespacio(O2).dual()\n",
    "o2.implicitas()[0]"
   ]
  },
  {
   "cell_type": "code",
   "execution_count": 12,
   "metadata": {
    "collapsed": false
   },
   "outputs": [
    {
     "data": {
      "text/html": [
       "<html><script type=\"math/tex; mode=display\">\\newcommand{\\Bold}[1]{\\mathbf{#1}}\\verb|Creamos|\\phantom{\\verb!x!}\\verb|una|\\phantom{\\verb!x!}\\verb|homografia|\\phantom{\\verb!x!}\\verb|sobre|\\phantom{\\verb!x!}\\verb|una|\\phantom{\\verb!x!}\\verb|falsa|\\phantom{\\verb!x!}\\verb|recta|\\phantom{\\verb!x!}\\verb|que|\\phantom{\\verb!x!}\\verb|convierta:|+\\infty\\phantom{\\verb!x!}\\verb|->|+\\infty\\verb|,|0\\phantom{\\verb!x!}\\verb|->|0\\verb|,|1\\phantom{\\verb!x!}\\verb|->|1</script></html>"
      ]
     },
     "execution_count": 12,
     "metadata": {
     },
     "output_type": "execute_result"
    },
    {
     "data": {
      "text/html": [
       "<html><script type=\"math/tex; mode=display\">\\newcommand{\\Bold}[1]{\\mathbf{#1}}\\verb|La|\\phantom{\\verb!x!}\\verb|homografia|\\phantom{\\verb!x!}\\verb|tendra|\\phantom{\\verb!x!}\\verb|la|\\phantom{\\verb!x!}\\verb|forma:|\\phantom{\\verb!x!}\\verb|theta'|\\phantom{\\verb!x!}\\verb|=|\\phantom{\\verb!x!}\\verb|(a|\\phantom{\\verb!x!}\\verb|theta|\\phantom{\\verb!x!}\\verb|+|\\phantom{\\verb!x!}\\verb|b)|\\phantom{\\verb!x!}\\verb|/|\\phantom{\\verb!x!}\\verb|(c|\\phantom{\\verb!x!}\\verb|theta|\\phantom{\\verb!x!}\\verb|+|\\phantom{\\verb!x!}\\verb|d)|</script></html>"
      ]
     },
     "execution_count": 12,
     "metadata": {
     },
     "output_type": "execute_result"
    },
    {
     "data": {
      "text/html": [
       "<html><script type=\"math/tex; mode=display\">\\newcommand{\\Bold}[1]{\\mathbf{#1}}\\verb|Resolvemos|\\phantom{\\verb!x!}\\verb|el|\\phantom{\\verb!x!}\\verb|sistema:|\\left[{c} = 0, 0 = \\frac{{b}}{{d}}, 1 = \\frac{{a} + {b}}{{c} + {d}}\\right]\\verb|para|\\phantom{\\verb!x!}\\verb|a,|\\phantom{\\verb!x!}\\verb|b,|\\phantom{\\verb!x!}\\verb|c,|\\phantom{\\verb!x!}\\verb|d:|</script></html>"
      ]
     },
     "execution_count": 12,
     "metadata": {
     },
     "output_type": "execute_result"
    },
    {
     "data": {
      "text/html": [
       "<html><script type=\"math/tex; mode=display\">\\newcommand{\\Bold}[1]{\\mathbf{#1}}\\left[{a} = 1, {b} = 0, {c} = 0, {d} = 1\\right]</script></html>"
      ]
     },
     "execution_count": 12,
     "metadata": {
     },
     "output_type": "execute_result"
    },
    {
     "data": {
      "text/html": [
       "<html><script type=\"math/tex; mode=display\">\\newcommand{\\Bold}[1]{\\mathbf{#1}}-{\\theta} + {\\theta'} = 0</script></html>"
      ]
     },
     "execution_count": 12,
     "metadata": {
     },
     "output_type": "execute_result"
    }
   ],
   "source": [
    "# Esto se debería arreglar para que no haga falta calcular las rectas\n",
    "haz1 = recta_proyectiva(L, M, O)\n",
    "haz2 = recta_proyectiva(L2, M2, O2)\n",
    "mostrar_procedimiento()\n",
    "w = crear_homografia_dos_rectas(L, L2, M, M2, O, O2, haz1, haz2)\n",
    "# Esta ecuación es en las referencias {l, m; o} y {l', m'; o'}\n",
    "w.ecuacion()"
   ]
  },
  {
   "cell_type": "code",
   "execution_count": 13,
   "metadata": {
    "collapsed": false
   },
   "outputs": [
    {
     "data": {
      "text/html": [
       "<html><script type=\"math/tex; mode=display\">\\newcommand{\\Bold}[1]{\\mathbf{#1}}\\verb|La|\\phantom{\\verb!x!}\\verb|coordenada|\\phantom{\\verb!x!}\\verb|de|\\left(0,\\,-1,\\,4\\right)\\phantom{\\verb!x!}\\verb|en|\\phantom{\\verb!x!}\\verb|la|\\phantom{\\verb!x!}\\verb|recta|\\phantom{\\verb!x!}\\verb|origen|\\phantom{\\verb!x!}\\verb|es:|-1\\verb|.|\\phantom{\\verb!x!}\\verb|Calculamos|\\phantom{\\verb!x!}\\verb|su|\\phantom{\\verb!x!}\\verb|imagen|\\phantom{\\verb!x!}\\verb|y|\\phantom{\\verb!x!}\\verb|recuperamos|\\phantom{\\verb!x!}\\verb|el|\\phantom{\\verb!x!}\\verb|punto|</script></html>"
      ]
     },
     "execution_count": 13,
     "metadata": {
     },
     "output_type": "execute_result"
    },
    {
     "data": {
      "text/html": [
       "<html><script type=\"math/tex; mode=display\">\\newcommand{\\Bold}[1]{\\mathbf{#1}}\\left(3,\\,2,\\,-15\\right)</script></html>"
      ]
     },
     "execution_count": 13,
     "metadata": {
     },
     "output_type": "execute_result"
    }
   ],
   "source": [
    "N2 = w(N)\n",
    "N2"
   ]
  },
  {
   "cell_type": "code",
   "execution_count": 14,
   "metadata": {
    "collapsed": false
   },
   "outputs": [
    {
     "data": {
      "text/html": [
       "<html><script type=\"math/tex; mode=display\">\\newcommand{\\Bold}[1]{\\mathbf{#1}}-\\frac{1}{5} \\, {x_1} - \\frac{2}{15} \\, {x_2} + {x_3} = 0</script></html>"
      ]
     },
     "execution_count": 14,
     "metadata": {
     },
     "output_type": "execute_result"
    }
   ],
   "source": [
    "# Solución\n",
    "mostrar_procedimiento(False)\n",
    "n2 = subespacio(N2).dual()\n",
    "n2.implicitas()[0]"
   ]
  },
  {
   "cell_type": "code",
   "execution_count": 15,
   "metadata": {
    "collapsed": false
   },
   "outputs": [
    {
     "data": {
      "text/html": [
       "<html><script type=\"math/tex; mode=display\">\\newcommand{\\Bold}[1]{\\mathbf{#1}}\\verb|Calculamos|\\phantom{\\verb!x!}\\verb|h|\\left(1,\\,\\frac{34}{33},\\,-\\frac{169}{33}\\right)\\phantom{\\verb!x!}\\verb|=|\\left(\\frac{204}{101},\\,\\frac{37}{101},\\,-\\frac{987}{101}\\right)\\verb|,|\\phantom{\\verb!x!}\\verb|y|\\phantom{\\verb!x!}\\verb|comprobamos|\\phantom{\\verb!x!}\\verb|que|\\phantom{\\verb!x!}\\verb|sea|\\phantom{\\verb!x!}\\verb|un|\\phantom{\\verb!x!}\\verb|punto|\\phantom{\\verb!x!}\\verb|fijo|</script></html>"
      ]
     },
     "execution_count": 15,
     "metadata": {
     },
     "output_type": "execute_result"
    },
    {
     "data": {
      "text/html": [
       "<html><script type=\"math/tex; mode=display\">\\newcommand{\\Bold}[1]{\\mathbf{#1}}\\mathrm{False}</script></html>"
      ]
     },
     "execution_count": 15,
     "metadata": {
     },
     "output_type": "execute_result"
    }
   ],
   "source": [
    "# (d)\n",
    "# Solución\n",
    "mostrar_procedimiento()\n",
    "w.es_perspectividad()"
   ]
  },
  {
   "cell_type": "code",
   "execution_count": 16,
   "metadata": {
    "collapsed": false
   },
   "outputs": [
    {
     "data": {
      "text/html": [
       "<html><script type=\"math/tex; mode=display\">\\newcommand{\\Bold}[1]{\\mathbf{#1}}\\verb|El|\\phantom{\\verb!x!}\\verb|punto|\\phantom{\\verb!x!}\\verb|de|\\phantom{\\verb!x!}\\verb|interseccion|\\phantom{\\verb!x!}\\verb|de|\\phantom{\\verb!x!}\\verb|las|\\phantom{\\verb!x!}\\verb|rectas|\\phantom{\\verb!x!}\\verb|de|\\phantom{\\verb!x!}\\verb|la|\\phantom{\\verb!x!}\\verb|homografia|\\phantom{\\verb!x!}\\verb|es:|\\left(1,\\,\\frac{34}{33},\\,-\\frac{169}{33}\\right)\\verb|;|\\phantom{\\verb!x!}\\verb|dualmente,|\\phantom{\\verb!x!}\\verb|la|\\phantom{\\verb!x!}\\verb|union|\\phantom{\\verb!x!}\\verb|de|\\phantom{\\verb!x!}\\verb|las|\\phantom{\\verb!x!}\\verb|bases|\\phantom{\\verb!x!}\\verb|es|\\phantom{\\verb!x!}\\verb|la|\\phantom{\\verb!x!}\\verb|recta|\\phantom{\\verb!x!}\\verb|con|\\phantom{\\verb!x!}\\verb|esos|\\phantom{\\verb!x!}\\verb|coeficientes|</script></html>"
      ]
     },
     "execution_count": 16,
     "metadata": {
     },
     "output_type": "execute_result"
    },
    {
     "data": {
      "text/html": [
       "<html><script type=\"math/tex; mode=display\">\\newcommand{\\Bold}[1]{\\mathbf{#1}}\\verb|h|\\left(1,\\,\\frac{34}{33},\\,-\\frac{169}{33}\\right)\\phantom{\\verb!x!}\\verb|=|\\left(\\frac{204}{101},\\,\\frac{37}{101},\\,-\\frac{987}{101}\\right)\\verb|;|\\phantom{\\verb!x!}\\verb|h^-1|\\left(1,\\,\\frac{34}{33},\\,-\\frac{169}{33}\\right)\\phantom{\\verb!x!}\\verb|=|\\left(\\frac{8}{7},\\,-\\frac{11}{7},\\,\\frac{36}{7}\\right)\\verb|;|\\phantom{\\verb!x!}\\verb|dualmente,|\\phantom{\\verb!x!}\\verb|las|\\phantom{\\verb!x!}\\verb|rectas|\\phantom{\\verb!x!}\\verb|con|\\phantom{\\verb!x!}\\verb|esos|\\phantom{\\verb!x!}\\verb|coeficientes|</script></html>"
      ]
     },
     "execution_count": 16,
     "metadata": {
     },
     "output_type": "execute_result"
    },
    {
     "data": {
      "text/html": [
       "<html><script type=\"math/tex; mode=display\">\\newcommand{\\Bold}[1]{\\mathbf{#1}}\\verb|Obtengamos|\\phantom{\\verb!x!}\\verb|ahora|\\phantom{\\verb!x!}\\verb|los|\\phantom{\\verb!x!}\\verb|puntos|\\phantom{\\verb!x!}\\verb|necesarios:|</script></html>"
      ]
     },
     "execution_count": 16,
     "metadata": {
     },
     "output_type": "execute_result"
    },
    {
     "data": {
      "text/html": [
       "<html><script type=\"math/tex; mode=display\">\\newcommand{\\Bold}[1]{\\mathbf{#1}}\\verb|Los|\\phantom{\\verb!x!}\\verb|puntos|\\phantom{\\verb!x!}\\verb|base|\\phantom{\\verb!x!}\\verb|de|\\phantom{\\verb!x!}\\verb|los|\\phantom{\\verb!x!}\\verb|haces|\\phantom{\\verb!x!}\\verb|son:|\\left(1,\\,4,\\,1\\right)\\verb|,|\\left(1,\\,\\frac{3}{43},\\,\\frac{9}{43}\\right)\\phantom{\\verb!x!}\\verb|y|\\phantom{\\verb!x!}\\verb|el|\\phantom{\\verb!x!}\\verb|polo|\\phantom{\\verb!x!}\\verb|de|\\phantom{\\verb!x!}\\verb|estos:|\\left(-\\frac{9525}{707},\\,-\\frac{15240}{707},\\,-\\frac{2540}{707}\\right)\\phantom{\\verb!x!}\\verb|(su|\\phantom{\\verb!x!}\\verb|producto|\\phantom{\\verb!x!}\\verb|vectorial);|\\phantom{\\verb!x!}\\verb|falta|\\phantom{\\verb!x!}\\verb|el|\\phantom{\\verb!x!}\\verb|punto|\\phantom{\\verb!x!}\\verb|unidad|</script></html>"
      ]
     },
     "execution_count": 16,
     "metadata": {
     },
     "output_type": "execute_result"
    },
    {
     "data": {
      "text/html": [
       "<html><script type=\"math/tex; mode=display\">\\newcommand{\\Bold}[1]{\\mathbf{#1}}\\verb|La|\\phantom{\\verb!x!}\\verb|coordenada|\\phantom{\\verb!x!}\\verb|de|\\left(-1,\\,-\\frac{1}{2},\\,3\\right)\\phantom{\\verb!x!}\\verb|en|\\phantom{\\verb!x!}\\verb|la|\\phantom{\\verb!x!}\\verb|recta|\\phantom{\\verb!x!}\\verb|origen|\\phantom{\\verb!x!}\\verb|es:|0\\verb|.|\\phantom{\\verb!x!}\\verb|Calculamos|\\phantom{\\verb!x!}\\verb|su|\\phantom{\\verb!x!}\\verb|imagen|\\phantom{\\verb!x!}\\verb|y|\\phantom{\\verb!x!}\\verb|recuperamos|\\phantom{\\verb!x!}\\verb|el|\\phantom{\\verb!x!}\\verb|punto|</script></html>"
      ]
     },
     "execution_count": 16,
     "metadata": {
     },
     "output_type": "execute_result"
    },
    {
     "data": {
      "text/html": [
       "<html><script type=\"math/tex; mode=display\">\\newcommand{\\Bold}[1]{\\mathbf{#1}}\\verb|El|\\phantom{\\verb!x!}\\verb|punto|\\phantom{\\verb!x!}\\verb|unidad|\\phantom{\\verb!x!}\\verb|es|\\phantom{\\verb!x!}\\verb|la|\\phantom{\\verb!x!}\\verb|interseccion|\\phantom{\\verb!x!}\\verb|de|\\phantom{\\verb!x!}\\verb|las|\\phantom{\\verb!x!}\\verb|rectas|\\phantom{\\verb!x!}\\verb|de|\\phantom{\\verb!x!}\\verb|coeficientes:|\\left(-1,\\,-\\frac{1}{2},\\,3\\right)\\verb|,|\\left(\\frac{3}{2},\\,-\\frac{1}{2},\\,-7\\right)</script></html>"
      ]
     },
     "execution_count": 16,
     "metadata": {
     },
     "output_type": "execute_result"
    },
    {
     "data": {
      "text/html": [
       "<html><script type=\"math/tex; mode=display\">\\newcommand{\\Bold}[1]{\\mathbf{#1}}\\verb|R|\\phantom{\\verb!x!}\\verb|=|\\phantom{\\verb!x!}\\verb|{|\\left(1,\\,4,\\,1\\right)\\verb|,|\\left(-\\frac{9525}{707},\\,-\\frac{15240}{707},\\,-\\frac{2540}{707}\\right)\\verb|,|\\left(1,\\,\\frac{3}{43},\\,\\frac{9}{43}\\right)\\verb|;|\\left(5,\\,-\\frac{5}{2},\\,\\frac{5}{4}\\right)\\verb|}|</script></html>"
      ]
     },
     "execution_count": 16,
     "metadata": {
     },
     "output_type": "execute_result"
    },
    {
     "data": {
      "text/html": [
       "<html><script type=\"math/tex; mode=display\">\\newcommand{\\Bold}[1]{\\mathbf{#1}}\\verb|Forzamos|\\phantom{\\verb!x!}\\verb|[x_0|\\phantom{\\verb!x!}\\verb|+|\\phantom{\\verb!x!}\\verb|...|\\phantom{\\verb!x!}\\verb|+|\\phantom{\\verb!x!}\\verb|x_n]|\\phantom{\\verb!x!}\\verb|=|\\phantom{\\verb!x!}\\verb|x_{n+1}:|</script></html>"
      ]
     },
     "execution_count": 16,
     "metadata": {
     },
     "output_type": "execute_result"
    },
    {
     "data": {
      "text/html": [
       "<html><script type=\"math/tex; mode=display\">\\newcommand{\\Bold}[1]{\\mathbf{#1}}\\left(\\begin{array}{r}\n",
       "{\\alpha_1} - \\frac{9525}{707} \\, {\\alpha_2} + {\\alpha_3} \\\\\n",
       "4 \\, {\\alpha_1} - \\frac{15240}{707} \\, {\\alpha_2} + \\frac{3}{43} \\, {\\alpha_3} \\\\\n",
       "{\\alpha_1} - \\frac{2540}{707} \\, {\\alpha_2} + \\frac{9}{43} \\, {\\alpha_3}\n",
       "\\end{array}\\right)\\verb|=|\\left(\\begin{array}{r}\n",
       "5 \\\\\n",
       "-\\frac{5}{2} \\\\\n",
       "\\frac{5}{4}\n",
       "\\end{array}\\right)</script></html>"
      ]
     },
     "execution_count": 16,
     "metadata": {
     },
     "output_type": "execute_result"
    },
    {
     "data": {
      "text/html": [
       "<html><script type=\"math/tex; mode=display\">\\newcommand{\\Bold}[1]{\\mathbf{#1}}\\verb|<Conica|\\phantom{\\verb!x!}\\verb|parametrizada|\\phantom{\\verb!x!}\\verb|como|\\phantom{\\verb!x!}\\verb|(1,|\\phantom{\\verb!x!}\\verb|theta_var,|\\phantom{\\verb!x!}\\verb|theta_var^2)|\\phantom{\\verb!x!}\\verb|en|\\phantom{\\verb!x!}\\verb|la|\\phantom{\\verb!x!}\\verb|referencia|\\phantom{\\verb!x!}\\verb|[(245/508,|\\phantom{\\verb!x!}\\verb|245/127,|\\phantom{\\verb!x!}\\verb|245/508),|\\phantom{\\verb!x!}\\verb|(-1575/508,|\\phantom{\\verb!x!}\\verb|-630/127,|\\phantom{\\verb!x!}\\verb|-105/127),|\\phantom{\\verb!x!}\\verb|(1935/254,|\\phantom{\\verb!x!}\\verb|135/254,|\\phantom{\\verb!x!}\\verb|405/254),|\\phantom{\\verb!x!}\\verb|(5,|\\phantom{\\verb!x!}\\verb|-5/2,|\\phantom{\\verb!x!}\\verb|5/4)]>|</script></html>"
      ]
     },
     "execution_count": 16,
     "metadata": {
     },
     "output_type": "execute_result"
    }
   ],
   "source": [
    "# (e)\n",
    "# No vamos a usarla realmente, la cónica será la que sea\n",
    "conica_por_homografia(w)"
   ]
  },
  {
   "cell_type": "code",
   "execution_count": 17,
   "metadata": {
    "collapsed": false
   },
   "outputs": [
    {
     "data": {
      "text/html": [
       "<html><script type=\"math/tex; mode=display\">\\newcommand{\\Bold}[1]{\\mathbf{#1}}\\left(\\frac{15}{4},\\,6,\\,1\\right)</script></html>"
      ]
     },
     "execution_count": 17,
     "metadata": {
     },
     "output_type": "execute_result"
    }
   ],
   "source": [
    "# Solución\n",
    "# El polo se ha obtenido durante el procedimiento, simplificamos\n",
    "vector([-9525, -15240, -2540]) / -2540"
   ]
  }
 ],
 "metadata": {
  "kernelspec": {
   "display_name": "SageMath (stable)",
   "language": "sagemath",
   "name": "sagemath"
  },
  "language_info": {
   "codemirror_mode": {
    "name": "ipython",
    "version": 2
   },
   "file_extension": ".py",
   "mimetype": "text/x-python",
   "name": "python",
   "nbconvert_exporter": "python",
   "pygments_lexer": "ipython2",
   "version": "2.7.15"
  }
 },
 "nbformat": 4,
 "nbformat_minor": 0
}