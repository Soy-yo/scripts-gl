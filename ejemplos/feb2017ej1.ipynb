{
 "cells": [
  {
   "cell_type": "code",
   "execution_count": 1,
   "metadata": {
    "collapsed": false
   },
   "outputs": [
   ],
   "source": [
    "# Meter en carpeta anterior a scripts para poder cargarlos\n",
    "load('scripts/scripts_gl.sage')\n",
    "# Nos muestra resultados en LaTeX\n",
    "pretty_print_default(True)\n",
    "# True/False para mostrar procedimientos\n",
    "mostrar_procedimiento(True)"
   ]
  },
  {
   "cell_type": "code",
   "execution_count": 2,
   "metadata": {
    "collapsed": false
   },
   "outputs": [
    {
     "data": {
      "text/html": [
       "<html><script type=\"math/tex; mode=display\">\\newcommand{\\Bold}[1]{\\mathbf{#1}}{x_1} - \\frac{1}{2} \\, {x_2} + {x_3} = 0</script></html>"
      ]
     },
     "execution_count": 2,
     "metadata": {
     },
     "output_type": "execute_result"
    }
   ],
   "source": [
    "mostrar_procedimiento(False)\n",
    "L = vector([2, -1, 2])\n",
    "l = subespacio(L).dual()\n",
    "l.implicitas()[0]"
   ]
  },
  {
   "cell_type": "code",
   "execution_count": 3,
   "metadata": {
    "collapsed": false
   },
   "outputs": [
    {
     "data": {
      "text/html": [
       "<html><script type=\"math/tex; mode=display\">\\newcommand{\\Bold}[1]{\\mathbf{#1}}-\\frac{1}{3} \\, {x_1} - \\frac{1}{6} \\, {x_2} + {x_3} = 0</script></html>"
      ]
     },
     "execution_count": 3,
     "metadata": {
     },
     "output_type": "execute_result"
    }
   ],
   "source": [
    "M = vector([2, 1, -6])\n",
    "m = subespacio(M).dual()\n",
    "m.implicitas()[0]"
   ]
  },
  {
   "cell_type": "code",
   "execution_count": 4,
   "metadata": {
    "collapsed": false
   },
   "outputs": [
    {
     "data": {
      "text/html": [
       "<html><script type=\"math/tex; mode=display\">\\newcommand{\\Bold}[1]{\\mathbf{#1}}-2 \\, {\\left({\\lambda} + 1\\right)} {x_1} - {\\left({\\lambda} - 1\\right)} {x_2} + 2 \\, {\\left(3 \\, {\\lambda} - 1\\right)} {x_3} = 0</script></html>"
      ]
     },
     "execution_count": 4,
     "metadata": {
     },
     "output_type": "execute_result"
    }
   ],
   "source": [
    "# (a)\n",
    "var('lambda0', latex_name = '\\\\lambda')\n",
    "haz_H = haz_hiperplanos(l, m)\n",
    "# Multiplicamos para ponerlo \"bonito\"\n",
    "haz_H.ecuacion() *  2 * (3 * lambda0 - 1)"
   ]
  },
  {
   "cell_type": "code",
   "execution_count": 5,
   "metadata": {
    "collapsed": false
   },
   "outputs": [
    {
     "data": {
      "text/html": [
       "<html><script type=\"math/tex; mode=display\">\\newcommand{\\Bold}[1]{\\mathbf{#1}}\\verb|Sustituimos|\\phantom{\\verb!x!}\\verb|el|\\phantom{\\verb!x!}\\verb|punto:|\\left(1,\\,0,\\,0\\right)\\phantom{\\verb!x!}\\verb|en:|-\\frac{2 \\, {\\left({\\lambda} + 1\\right)} {x_1} + {\\left({\\lambda} - 1\\right)} {x_2} - 2 \\, {\\left(3 \\, {\\lambda} - 1\\right)} {x_3}}{2 \\, {\\left(3 \\, {\\lambda} - 1\\right)}} = 0</script></html>"
      ]
     },
     "execution_count": 5,
     "metadata": {
     },
     "output_type": "execute_result"
    },
    {
     "data": {
      "text/html": [
       "<html><script type=\"math/tex; mode=display\">\\newcommand{\\Bold}[1]{\\mathbf{#1}}{\\lambda} + 1\\phantom{\\verb!x!}\\verb|=|\\phantom{\\verb!x!}\\verb|0|</script></html>"
      ]
     },
     "execution_count": 5,
     "metadata": {
     },
     "output_type": "execute_result"
    },
    {
     "data": {
      "text/html": [
       "<html><script type=\"math/tex; mode=display\">\\newcommand{\\Bold}[1]{\\mathbf{#1}}-\\frac{1}{4} \\, {x_2} + {x_3} = 0</script></html>"
      ]
     },
     "execution_count": 5,
     "metadata": {
     },
     "output_type": "execute_result"
    }
   ],
   "source": [
    "# Solución\n",
    "mostrar_procedimiento()\n",
    "n = haz_H.forzar_punto(vector([1, 0, 0]))\n",
    "n.implicitas()[0]"
   ]
  },
  {
   "cell_type": "code",
   "execution_count": 6,
   "metadata": {
    "collapsed": false
   },
   "outputs": [
    {
     "data": {
      "text/html": [
       "<html><script type=\"math/tex; mode=display\">\\newcommand{\\Bold}[1]{\\mathbf{#1}}\\verb|Montamos|\\phantom{\\verb!x!}\\verb|la|\\phantom{\\verb!x!}\\verb|recta|\\phantom{\\verb!x!}\\verb|con|\\phantom{\\verb!x!}\\verb|la|\\phantom{\\verb!x!}\\verb|referencia|\\phantom{\\verb!x!}\\verb|{P0=|\\left(2,\\,-1,\\,2\\right)\\verb|,|\\phantom{\\verb!x!}\\verb|P1=|\\left(2,\\,1,\\,-6\\right)\\verb|;|\\phantom{\\verb!x!}\\verb|P2=|\\left(0,\\,-1,\\,4\\right)\\verb|}|</script></html>"
      ]
     },
     "execution_count": 6,
     "metadata": {
     },
     "output_type": "execute_result"
    },
    {
     "data": {
      "text/html": [
       "<html><script type=\"math/tex; mode=display\">\\newcommand{\\Bold}[1]{\\mathbf{#1}}\\verb|Asi,|\\phantom{\\verb!x!}\\verb|P0:|\\phantom{\\verb!x!}\\verb|theta|\\phantom{\\verb!x!}\\verb|=|\\phantom{\\verb!x!}\\verb|Infinity,|\\phantom{\\verb!x!}\\verb|P1:|\\phantom{\\verb!x!}\\verb|theta|\\phantom{\\verb!x!}\\verb|=|\\phantom{\\verb!x!}\\verb|0,|\\phantom{\\verb!x!}\\verb|P2:|\\phantom{\\verb!x!}\\verb|theta|\\phantom{\\verb!x!}\\verb|=|\\phantom{\\verb!x!}\\verb|1|\\phantom{\\verb!x!}\\verb|y|\\phantom{\\verb!x!}\\verb|sustituimos|\\phantom{\\verb!x!}\\verb|en|\\phantom{\\verb!x!}\\verb|-1|</script></html>"
      ]
     },
     "execution_count": 6,
     "metadata": {
     },
     "output_type": "execute_result"
    },
    {
     "data": {
      "text/html": [
       "<html><script type=\"math/tex; mode=display\">\\newcommand{\\Bold}[1]{\\mathbf{#1}}\\verb|Forzamos|\\phantom{\\verb!x!}\\verb|P2:|\\phantom{\\verb!x!}\\verb|theta|\\phantom{\\verb!x!}\\verb|=|\\phantom{\\verb!x!}\\verb|1:|</script></html>"
      ]
     },
     "execution_count": 6,
     "metadata": {
     },
     "output_type": "execute_result"
    },
    {
     "data": {
      "text/html": [
       "<html><script type=\"math/tex; mode=display\">\\newcommand{\\Bold}[1]{\\mathbf{#1}}a\\verb|*|\\left(2,\\,-1,\\,2\\right)\\phantom{\\verb!x!}\\verb|+|b\\verb|*|\\left(2,\\,1,\\,-6\\right)\\phantom{\\verb!x!}\\verb|=|\\left(2 \\, a + 2 \\, b,\\,-a + b,\\,2 \\, a - 6 \\, b\\right)\\phantom{\\verb!x!}\\verb|=|\\left(0,\\,-1,\\,4\\right)</script></html>"
      ]
     },
     "execution_count": 6,
     "metadata": {
     },
     "output_type": "execute_result"
    },
    {
     "data": {
      "text/html": [
       "<html><script type=\"math/tex; mode=display\">\\newcommand{\\Bold}[1]{\\mathbf{#1}}\\left[a = \\left(\\frac{1}{2}\\right), b = \\left(-\\frac{1}{2}\\right)\\right]</script></html>"
      ]
     },
     "execution_count": 6,
     "metadata": {
     },
     "output_type": "execute_result"
    },
    {
     "data": {
      "text/html": [
       "<html><script type=\"math/tex; mode=display\">\\newcommand{\\Bold}[1]{\\mathbf{#1}}\\verb|Sustituimos|\\phantom{\\verb!x!}\\verb|y|\\phantom{\\verb!x!}\\verb|combinamos|\\phantom{\\verb!x!}\\verb|con|\\phantom{\\verb!x!}\\verb|theta:|\\left({theta} - 1,\\,-\\frac{1}{2} \\, {theta} - \\frac{1}{2},\\,{theta} + 3\\right)</script></html>"
      ]
     },
     "execution_count": 6,
     "metadata": {
     },
     "output_type": "execute_result"
    },
    {
     "data": {
      "text/html": [
       "<html><script type=\"math/tex; mode=display\">\\newcommand{\\Bold}[1]{\\mathbf{#1}}\\left(-2,\\,0,\\,2\\right)</script></html>"
      ]
     },
     "execution_count": 6,
     "metadata": {
     },
     "output_type": "execute_result"
    }
   ],
   "source": [
    "# (b)\n",
    "# Podemos coger el dual, pero tardamos menos cogiendo directamente el vector\n",
    "N = vector([0, -1, 4])\n",
    "O = conjugado_armonico(L, M, N)\n",
    "O"
   ]
  },
  {
   "cell_type": "code",
   "execution_count": 7,
   "metadata": {
    "collapsed": false
   },
   "outputs": [
    {
     "data": {
      "text/html": [
       "<html><script type=\"math/tex; mode=display\">\\newcommand{\\Bold}[1]{\\mathbf{#1}}-{x_1} + {x_3} = 0</script></html>"
      ]
     },
     "execution_count": 7,
     "metadata": {
     },
     "output_type": "execute_result"
    }
   ],
   "source": [
    "# Solución\n",
    "mostrar_procedimiento(False)\n",
    "o = subespacio(O).dual()\n",
    "o.implicitas()[0]"
   ]
  },
  {
   "cell_type": "code",
   "execution_count": 8,
   "metadata": {
    "collapsed": false
   },
   "outputs": [
    {
     "data": {
      "text/html": [
       "<html><script type=\"math/tex; mode=display\">\\newcommand{\\Bold}[1]{\\mathbf{#1}}-\\frac{3}{16} \\, {x_1} - \\frac{5}{16} \\, {x_2} + {x_3} = 0</script></html>"
      ]
     },
     "execution_count": 8,
     "metadata": {
     },
     "output_type": "execute_result"
    }
   ],
   "source": [
    "# (c)\n",
    "L2 = vector([-3, -5, 16])\n",
    "l2 = subespacio(L2).dual()\n",
    "l2.implicitas()[0]"
   ]
  },
  {
   "cell_type": "code",
   "execution_count": 9,
   "metadata": {
    "collapsed": false
   },
   "outputs": [
    {
     "data": {
      "text/html": [
       "<html><script type=\"math/tex; mode=display\">\\newcommand{\\Bold}[1]{\\mathbf{#1}}-\\frac{3}{14} \\, {x_1} + \\frac{1}{14} \\, {x_2} + {x_3} = 0</script></html>"
      ]
     },
     "execution_count": 9,
     "metadata": {
     },
     "output_type": "execute_result"
    }
   ],
   "source": [
    "M2 = vector([-3, 1, 14])\n",
    "m2 = subespacio(M2).dual()\n",
    "m2.implicitas()[0]"
   ]
  },
  {
   "cell_type": "code",
   "execution_count": 10,
   "metadata": {
    "collapsed": false
   },
   "outputs": [
    {
     "data": {
      "text/html": [
       "<html><script type=\"math/tex; mode=display\">\\newcommand{\\Bold}[1]{\\mathbf{#1}}-3 \\, {\\left({\\lambda} + 1\\right)} {x_1} + {\\left({\\lambda} - 5\\right)} {x_2} + 2 \\, {\\left(7 \\, {\\lambda} + 8\\right)} {x_3} = 0</script></html>"
      ]
     },
     "execution_count": 10,
     "metadata": {
     },
     "output_type": "execute_result"
    }
   ],
   "source": [
    "haz_K = haz_hiperplanos(l2, m2)\n",
    "haz_K.ecuacion() * 2 * (7*lambda0 + 8)"
   ]
  },
  {
   "cell_type": "code",
   "execution_count": 11,
   "metadata": {
    "collapsed": false
   },
   "outputs": [
    {
     "data": {
      "text/html": [
       "<html><script type=\"math/tex; mode=display\">\\newcommand{\\Bold}[1]{\\mathbf{#1}}-3 \\, {x_2} + {x_3} = 0</script></html>"
      ]
     },
     "execution_count": 11,
     "metadata": {
     },
     "output_type": "execute_result"
    }
   ],
   "source": [
    "# La otra info que nos dicen es que transforma o en o': -3y+z=0\n",
    "O2 = vector([0, -3, 1])\n",
    "o2 = subespacio(O2).dual()\n",
    "o2.implicitas()[0]"
   ]
  },
  {
   "cell_type": "code",
   "execution_count": 12,
   "metadata": {
    "collapsed": false
   },
   "outputs": [
    {
     "data": {
      "text/html": [
       "<html><script type=\"math/tex; mode=display\">\\newcommand{\\Bold}[1]{\\mathbf{#1}}\\verb|Creamos|\\phantom{\\verb!x!}\\verb|una|\\phantom{\\verb!x!}\\verb|homografia|\\phantom{\\verb!x!}\\verb|sobre|\\phantom{\\verb!x!}\\verb|una|\\phantom{\\verb!x!}\\verb|falsa|\\phantom{\\verb!x!}\\verb|recta|\\phantom{\\verb!x!}\\verb|que|\\phantom{\\verb!x!}\\verb|convierta:|+\\infty\\phantom{\\verb!x!}\\verb|->|+\\infty\\verb|,|0\\phantom{\\verb!x!}\\verb|->|0\\verb|,|1\\phantom{\\verb!x!}\\verb|->|1</script></html>"
      ]
     },
     "execution_count": 12,
     "metadata": {
     },
     "output_type": "execute_result"
    },
    {
     "data": {
      "text/html": [
       "<html><script type=\"math/tex; mode=display\">\\newcommand{\\Bold}[1]{\\mathbf{#1}}\\verb|La|\\phantom{\\verb!x!}\\verb|homografia|\\phantom{\\verb!x!}\\verb|tendra|\\phantom{\\verb!x!}\\verb|la|\\phantom{\\verb!x!}\\verb|forma:|\\phantom{\\verb!x!}\\verb|theta'|\\phantom{\\verb!x!}\\verb|=|\\phantom{\\verb!x!}\\verb|(a|\\phantom{\\verb!x!}\\verb|theta|\\phantom{\\verb!x!}\\verb|+|\\phantom{\\verb!x!}\\verb|b)|\\phantom{\\verb!x!}\\verb|/|\\phantom{\\verb!x!}\\verb|(c|\\phantom{\\verb!x!}\\verb|theta|\\phantom{\\verb!x!}\\verb|+|\\phantom{\\verb!x!}\\verb|d)|</script></html>"
      ]
     },
     "execution_count": 12,
     "metadata": {
     },
     "output_type": "execute_result"
    },
    {
     "data": {
      "text/html": [
       "<html><script type=\"math/tex; mode=display\">\\newcommand{\\Bold}[1]{\\mathbf{#1}}\\verb|Resolvemos|\\phantom{\\verb!x!}\\verb|el|\\phantom{\\verb!x!}\\verb|sistema:|\\left[c = 0, 0 = \\frac{b}{d}, 1 = \\frac{a + b}{c + d}\\right]\\verb|para|\\phantom{\\verb!x!}\\verb|a,|\\phantom{\\verb!x!}\\verb|b,|\\phantom{\\verb!x!}\\verb|c,|\\phantom{\\verb!x!}\\verb|d:|</script></html>"
      ]
     },
     "execution_count": 12,
     "metadata": {
     },
     "output_type": "execute_result"
    },
    {
     "data": {
      "text/html": [
       "<html><script type=\"math/tex; mode=display\">\\newcommand{\\Bold}[1]{\\mathbf{#1}}\\left[a = 1, b = 0, c = 0, d = 1\\right]</script></html>"
      ]
     },
     "execution_count": 12,
     "metadata": {
     },
     "output_type": "execute_result"
    },
    {
     "data": {
      "text/html": [
       "<html><script type=\"math/tex; mode=display\">\\newcommand{\\Bold}[1]{\\mathbf{#1}}-{theta} + {theta_2} = 0</script></html>"
      ]
     },
     "execution_count": 12,
     "metadata": {
     },
     "output_type": "execute_result"
    }
   ],
   "source": [
    "# Esto se debería arreglar para que no haga falta calcular las rectas\n",
    "haz1 = recta_proyectiva(L, M, O)\n",
    "haz2 = recta_proyectiva(L2, M2, O2)\n",
    "mostrar_procedimiento()\n",
    "w = crear_homografia_dos_rectas(L, L2, M, M2, O, O2, haz1, haz2)\n",
    "# Esta ecuación es en las referencias {l, m; o} y {l', m'; o'}\n",
    "w.ecuacion()"
   ]
  },
  {
   "cell_type": "code",
   "execution_count": 13,
   "metadata": {
    "collapsed": false
   },
   "outputs": [
    {
     "data": {
      "text/html": [
       "<html><script type=\"math/tex; mode=display\">\\newcommand{\\Bold}[1]{\\mathbf{#1}}\\verb|La|\\phantom{\\verb!x!}\\verb|coordenada|\\phantom{\\verb!x!}\\verb|de|\\left(0,\\,-1,\\,4\\right)\\phantom{\\verb!x!}\\verb|en|\\phantom{\\verb!x!}\\verb|la|\\phantom{\\verb!x!}\\verb|recta|\\phantom{\\verb!x!}\\verb|origen|\\phantom{\\verb!x!}\\verb|es:|-1\\verb|.|\\phantom{\\verb!x!}\\verb|Calculamos|\\phantom{\\verb!x!}\\verb|su|\\phantom{\\verb!x!}\\verb|imagen|\\phantom{\\verb!x!}\\verb|y|\\phantom{\\verb!x!}\\verb|recuperamos|\\phantom{\\verb!x!}\\verb|el|\\phantom{\\verb!x!}\\verb|punto|</script></html>"
      ]
     },
     "execution_count": 13,
     "metadata": {
     },
     "output_type": "execute_result"
    },
    {
     "data": {
      "text/html": [
       "<html><script type=\"math/tex; mode=display\">\\newcommand{\\Bold}[1]{\\mathbf{#1}}\\left(3,\\,2,\\,-15\\right)</script></html>"
      ]
     },
     "execution_count": 13,
     "metadata": {
     },
     "output_type": "execute_result"
    }
   ],
   "source": [
    "N2 = w(N)\n",
    "N2"
   ]
  },
  {
   "cell_type": "code",
   "execution_count": 14,
   "metadata": {
    "collapsed": false
   },
   "outputs": [
    {
     "data": {
      "text/html": [
       "<html><script type=\"math/tex; mode=display\">\\newcommand{\\Bold}[1]{\\mathbf{#1}}-\\frac{1}{5} \\, {x_1} - \\frac{2}{15} \\, {x_2} + {x_3} = 0</script></html>"
      ]
     },
     "execution_count": 14,
     "metadata": {
     },
     "output_type": "execute_result"
    }
   ],
   "source": [
    "# Solución\n",
    "mostrar_procedimiento(False)\n",
    "n2 = subespacio(N2).dual()\n",
    "n2.implicitas()[0]"
   ]
  },
  {
   "cell_type": "code",
   "execution_count": 15,
   "metadata": {
    "collapsed": false
   },
   "outputs": [
    {
     "data": {
      "text/html": [
       "<html><script type=\"math/tex; mode=display\">\\newcommand{\\Bold}[1]{\\mathbf{#1}}\\verb|La|\\phantom{\\verb!x!}\\verb|coordenada|\\phantom{\\verb!x!}\\verb|de|\\left(1,\\,\\frac{34}{33},\\,-\\frac{169}{33}\\right)\\phantom{\\verb!x!}\\verb|en|\\phantom{\\verb!x!}\\verb|la|\\phantom{\\verb!x!}\\verb|recta|\\phantom{\\verb!x!}\\verb|origen|\\phantom{\\verb!x!}\\verb|es:|-\\frac{35}{101}\\verb|.|\\phantom{\\verb!x!}\\verb|Calculamos|\\phantom{\\verb!x!}\\verb|su|\\phantom{\\verb!x!}\\verb|imagen|\\phantom{\\verb!x!}\\verb|y|\\phantom{\\verb!x!}\\verb|recuperamos|\\phantom{\\verb!x!}\\verb|el|\\phantom{\\verb!x!}\\verb|punto|</script></html>"
      ]
     },
     "execution_count": 15,
     "metadata": {
     },
     "output_type": "execute_result"
    },
    {
     "data": {
      "text/html": [
       "<html><script type=\"math/tex; mode=display\">\\newcommand{\\Bold}[1]{\\mathbf{#1}}\\mathrm{False}</script></html>"
      ]
     },
     "execution_count": 15,
     "metadata": {
     },
     "output_type": "execute_result"
    }
   ],
   "source": [
    "# (d)\n",
    "# Solución\n",
    "mostrar_procedimiento()\n",
    "w.es_perspectividad()"
   ]
  },
  {
   "cell_type": "code",
   "execution_count": 16,
   "metadata": {
    "collapsed": false
   },
   "outputs": [
    {
     "data": {
      "text/html": [
       "<html><script type=\"math/tex; mode=display\">\\newcommand{\\Bold}[1]{\\mathbf{#1}}\\verb|Intersecamos|\\phantom{\\verb!x!}\\verb|los|\\phantom{\\verb!x!}\\verb|dos|\\phantom{\\verb!x!}\\verb|hiperplanos|\\phantom{\\verb!x!}\\verb|dados|\\phantom{\\verb!x!}\\verb|al|\\phantom{\\verb!x!}\\verb|crear|\\phantom{\\verb!x!}\\verb|este|\\phantom{\\verb!x!}\\verb|haz|</script></html>"
      ]
     },
     "execution_count": 16,
     "metadata": {
     },
     "output_type": "execute_result"
    },
    {
     "data": {
      "text/html": [
       "<html><script type=\"math/tex; mode=display\">\\newcommand{\\Bold}[1]{\\mathbf{#1}}\\verb|Para|\\phantom{\\verb!x!}\\verb|intersecar|\\phantom{\\verb!x!}\\verb|unimos|\\phantom{\\verb!x!}\\verb|las|\\phantom{\\verb!x!}\\verb|ecuaciones|\\phantom{\\verb!x!}\\verb|de|\\phantom{\\verb!x!}\\verb|cada|\\phantom{\\verb!x!}\\verb|subespacio:|\\left[\\left[{x_1} - \\frac{1}{2} \\, {x_2} + {x_3} = 0\\right], \\left[-\\frac{1}{3} \\, {x_1} - \\frac{1}{6} \\, {x_2} + {x_3} = 0\\right]\\right]</script></html>"
      ]
     },
     "execution_count": 16,
     "metadata": {
     },
     "output_type": "execute_result"
    },
    {
     "data": {
      "text/html": [
       "<html><script type=\"math/tex; mode=display\">\\newcommand{\\Bold}[1]{\\mathbf{#1}}\\verb|Subespacio|\\phantom{\\verb!x!}\\verb|que|\\phantom{\\verb!x!}\\verb|contiene|\\phantom{\\verb!x!}\\verb|los|\\phantom{\\verb!x!}\\verb|puntos|\\left[\\left(1,\\,-\\frac{1}{2},\\,1\\right), \\left(1,\\,\\frac{1}{2},\\,-3\\right)\\right]</script></html>"
      ]
     },
     "execution_count": 16,
     "metadata": {
     },
     "output_type": "execute_result"
    },
    {
     "data": {
      "text/html": [
       "<html><script type=\"math/tex; mode=display\">\\newcommand{\\Bold}[1]{\\mathbf{#1}}\\verb|Primero|\\phantom{\\verb!x!}\\verb|reducimos|\\phantom{\\verb!x!}\\verb|a|\\phantom{\\verb!x!}\\verb|su|\\phantom{\\verb!x!}\\verb|forma|\\phantom{\\verb!x!}\\verb|normal:|\\left(\\begin{array}{rr}\n",
       "1 & 0 \\\\\n",
       "0 & 1 \\\\\n",
       "-1 & -4\n",
       "\\end{array}\\right)</script></html>"
      ]
     },
     "execution_count": 16,
     "metadata": {
     },
     "output_type": "execute_result"
    },
    {
     "data": {
      "text/html": [
       "<html><script type=\"math/tex; mode=display\">\\newcommand{\\Bold}[1]{\\mathbf{#1}}\\verb|Resolvemos|\\phantom{\\verb!x!}\\verb|las|\\phantom{\\verb!x!}\\verb|siguientes|\\phantom{\\verb!x!}\\verb|ecuaciones:|</script></html>"
      ]
     },
     "execution_count": 16,
     "metadata": {
     },
     "output_type": "execute_result"
    },
    {
     "data": {
      "text/html": [
       "<html><script type=\"math/tex; mode=display\">\\newcommand{\\Bold}[1]{\\mathbf{#1}}\\verb|det|\\left(\\begin{array}{rrr}\n",
       "1 & 0 & {x_1} \\\\\n",
       "0 & 1 & {x_2} \\\\\n",
       "-1 & -4 & {x_3}\n",
       "\\end{array}\\right)\\verb|=|\\phantom{\\verb!x!}\\verb|0|\\phantom{\\verb!x!}\\verb|=>|{x_1} + 4 \\, {x_2} + {x_3} = 0</script></html>"
      ]
     },
     "execution_count": 16,
     "metadata": {
     },
     "output_type": "execute_result"
    },
    {
     "data": {
      "text/html": [
       "<html><script type=\"math/tex; mode=display\">\\newcommand{\\Bold}[1]{\\mathbf{#1}}\\verb|Ahora|\\phantom{\\verb!x!}\\verb|obtenemos|\\phantom{\\verb!x!}\\verb|el|\\phantom{\\verb!x!}\\verb|dual|\\phantom{\\verb!x!}\\verb|del|\\phantom{\\verb!x!}\\verb|subespacio|\\phantom{\\verb!x!}\\verb|calculado|\\phantom{\\verb!x!}\\verb|(era|\\phantom{\\verb!x!}\\verb|el|\\phantom{\\verb!x!}\\verb|dual|\\phantom{\\verb!x!}\\verb|del|\\phantom{\\verb!x!}\\verb|que|\\phantom{\\verb!x!}\\verb|buscabamos):|</script></html>"
      ]
     },
     "execution_count": 16,
     "metadata": {
     },
     "output_type": "execute_result"
    },
    {
     "data": {
      "text/html": [
       "<html><script type=\"math/tex; mode=display\">\\newcommand{\\Bold}[1]{\\mathbf{#1}}\\verb|Subespacio|\\phantom{\\verb!x!}\\verb|que|\\phantom{\\verb!x!}\\verb|contiene|\\phantom{\\verb!x!}\\verb|los|\\phantom{\\verb!x!}\\verb|puntos|\\left[\\left(1,\\,4,\\,1\\right)\\right]</script></html>"
      ]
     },
     "execution_count": 16,
     "metadata": {
     },
     "output_type": "execute_result"
    },
    {
     "data": {
      "text/html": [
       "<html><script type=\"math/tex; mode=display\">\\newcommand{\\Bold}[1]{\\mathbf{#1}}\\verb|Primero|\\phantom{\\verb!x!}\\verb|reducimos|\\phantom{\\verb!x!}\\verb|a|\\phantom{\\verb!x!}\\verb|su|\\phantom{\\verb!x!}\\verb|forma|\\phantom{\\verb!x!}\\verb|normal:|\\left(\\begin{array}{r}\n",
       "1 \\\\\n",
       "4 \\\\\n",
       "1\n",
       "\\end{array}\\right)</script></html>"
      ]
     },
     "execution_count": 16,
     "metadata": {
     },
     "output_type": "execute_result"
    },
    {
     "data": {
      "text/html": [
       "<html><script type=\"math/tex; mode=display\">\\newcommand{\\Bold}[1]{\\mathbf{#1}}\\verb|Resolvemos|\\phantom{\\verb!x!}\\verb|las|\\phantom{\\verb!x!}\\verb|siguientes|\\phantom{\\verb!x!}\\verb|ecuaciones:|</script></html>"
      ]
     },
     "execution_count": 16,
     "metadata": {
     },
     "output_type": "execute_result"
    },
    {
     "data": {
      "text/html": [
       "<html><script type=\"math/tex; mode=display\">\\newcommand{\\Bold}[1]{\\mathbf{#1}}\\verb|det|\\left(\\begin{array}{rr}\n",
       "1 & {x_1} \\\\\n",
       "4 & {x_2}\n",
       "\\end{array}\\right)\\verb|=|\\phantom{\\verb!x!}\\verb|0|\\phantom{\\verb!x!}\\verb|=>|-4 \\, {x_1} + {x_2} = 0</script></html>"
      ]
     },
     "execution_count": 16,
     "metadata": {
     },
     "output_type": "execute_result"
    },
    {
     "data": {
      "text/html": [
       "<html><script type=\"math/tex; mode=display\">\\newcommand{\\Bold}[1]{\\mathbf{#1}}\\verb|det|\\left(\\begin{array}{rr}\n",
       "1 & {x_1} \\\\\n",
       "1 & {x_3}\n",
       "\\end{array}\\right)\\verb|=|\\phantom{\\verb!x!}\\verb|0|\\phantom{\\verb!x!}\\verb|=>|-{x_1} + {x_3} = 0</script></html>"
      ]
     },
     "execution_count": 16,
     "metadata": {
     },
     "output_type": "execute_result"
    },
    {
     "data": {
      "text/html": [
       "<html><script type=\"math/tex; mode=display\">\\newcommand{\\Bold}[1]{\\mathbf{#1}}\\left(1,\\,4,\\,1\\right)</script></html>"
      ]
     },
     "execution_count": 16,
     "metadata": {
     },
     "output_type": "execute_result"
    }
   ],
   "source": [
    "# (e)\n",
    "H = haz_H.base().punto()\n",
    "H"
   ]
  },
  {
   "cell_type": "code",
   "execution_count": 17,
   "metadata": {
    "collapsed": false
   },
   "outputs": [
    {
     "data": {
      "text/html": [
       "<html><script type=\"math/tex; mode=display\">\\newcommand{\\Bold}[1]{\\mathbf{#1}}\\verb|Intersecamos|\\phantom{\\verb!x!}\\verb|los|\\phantom{\\verb!x!}\\verb|dos|\\phantom{\\verb!x!}\\verb|hiperplanos|\\phantom{\\verb!x!}\\verb|dados|\\phantom{\\verb!x!}\\verb|al|\\phantom{\\verb!x!}\\verb|crear|\\phantom{\\verb!x!}\\verb|este|\\phantom{\\verb!x!}\\verb|haz|</script></html>"
      ]
     },
     "execution_count": 17,
     "metadata": {
     },
     "output_type": "execute_result"
    },
    {
     "data": {
      "text/html": [
       "<html><script type=\"math/tex; mode=display\">\\newcommand{\\Bold}[1]{\\mathbf{#1}}\\verb|Para|\\phantom{\\verb!x!}\\verb|intersecar|\\phantom{\\verb!x!}\\verb|unimos|\\phantom{\\verb!x!}\\verb|las|\\phantom{\\verb!x!}\\verb|ecuaciones|\\phantom{\\verb!x!}\\verb|de|\\phantom{\\verb!x!}\\verb|cada|\\phantom{\\verb!x!}\\verb|subespacio:|\\left[\\left[-\\frac{3}{16} \\, {x_1} - \\frac{5}{16} \\, {x_2} + {x_3} = 0\\right], \\left[-\\frac{3}{14} \\, {x_1} + \\frac{1}{14} \\, {x_2} + {x_3} = 0\\right]\\right]</script></html>"
      ]
     },
     "execution_count": 17,
     "metadata": {
     },
     "output_type": "execute_result"
    },
    {
     "data": {
      "text/html": [
       "<html><script type=\"math/tex; mode=display\">\\newcommand{\\Bold}[1]{\\mathbf{#1}}\\verb|Subespacio|\\phantom{\\verb!x!}\\verb|que|\\phantom{\\verb!x!}\\verb|contiene|\\phantom{\\verb!x!}\\verb|los|\\phantom{\\verb!x!}\\verb|puntos|\\left[\\left(1,\\,\\frac{5}{3},\\,-\\frac{16}{3}\\right), \\left(1,\\,-\\frac{1}{3},\\,-\\frac{14}{3}\\right)\\right]</script></html>"
      ]
     },
     "execution_count": 17,
     "metadata": {
     },
     "output_type": "execute_result"
    },
    {
     "data": {
      "text/html": [
       "<html><script type=\"math/tex; mode=display\">\\newcommand{\\Bold}[1]{\\mathbf{#1}}\\verb|Primero|\\phantom{\\verb!x!}\\verb|reducimos|\\phantom{\\verb!x!}\\verb|a|\\phantom{\\verb!x!}\\verb|su|\\phantom{\\verb!x!}\\verb|forma|\\phantom{\\verb!x!}\\verb|normal:|\\left(\\begin{array}{rr}\n",
       "1 & 0 \\\\\n",
       "0 & 1 \\\\\n",
       "-\\frac{43}{9} & -\\frac{1}{3}\n",
       "\\end{array}\\right)</script></html>"
      ]
     },
     "execution_count": 17,
     "metadata": {
     },
     "output_type": "execute_result"
    },
    {
     "data": {
      "text/html": [
       "<html><script type=\"math/tex; mode=display\">\\newcommand{\\Bold}[1]{\\mathbf{#1}}\\verb|Resolvemos|\\phantom{\\verb!x!}\\verb|las|\\phantom{\\verb!x!}\\verb|siguientes|\\phantom{\\verb!x!}\\verb|ecuaciones:|</script></html>"
      ]
     },
     "execution_count": 17,
     "metadata": {
     },
     "output_type": "execute_result"
    },
    {
     "data": {
      "text/html": [
       "<html><script type=\"math/tex; mode=display\">\\newcommand{\\Bold}[1]{\\mathbf{#1}}\\verb|det|\\left(\\begin{array}{rrr}\n",
       "1 & 0 & {x_1} \\\\\n",
       "0 & 1 & {x_2} \\\\\n",
       "-\\frac{43}{9} & -\\frac{1}{3} & {x_3}\n",
       "\\end{array}\\right)\\verb|=|\\phantom{\\verb!x!}\\verb|0|\\phantom{\\verb!x!}\\verb|=>|\\frac{43}{9} \\, {x_1} + \\frac{1}{3} \\, {x_2} + {x_3} = 0</script></html>"
      ]
     },
     "execution_count": 17,
     "metadata": {
     },
     "output_type": "execute_result"
    },
    {
     "data": {
      "text/html": [
       "<html><script type=\"math/tex; mode=display\">\\newcommand{\\Bold}[1]{\\mathbf{#1}}\\verb|Ahora|\\phantom{\\verb!x!}\\verb|obtenemos|\\phantom{\\verb!x!}\\verb|el|\\phantom{\\verb!x!}\\verb|dual|\\phantom{\\verb!x!}\\verb|del|\\phantom{\\verb!x!}\\verb|subespacio|\\phantom{\\verb!x!}\\verb|calculado|\\phantom{\\verb!x!}\\verb|(era|\\phantom{\\verb!x!}\\verb|el|\\phantom{\\verb!x!}\\verb|dual|\\phantom{\\verb!x!}\\verb|del|\\phantom{\\verb!x!}\\verb|que|\\phantom{\\verb!x!}\\verb|buscabamos):|</script></html>"
      ]
     },
     "execution_count": 17,
     "metadata": {
     },
     "output_type": "execute_result"
    },
    {
     "data": {
      "text/html": [
       "<html><script type=\"math/tex; mode=display\">\\newcommand{\\Bold}[1]{\\mathbf{#1}}\\verb|Subespacio|\\phantom{\\verb!x!}\\verb|que|\\phantom{\\verb!x!}\\verb|contiene|\\phantom{\\verb!x!}\\verb|los|\\phantom{\\verb!x!}\\verb|puntos|\\left[\\left(\\frac{43}{9},\\,\\frac{1}{3},\\,1\\right)\\right]</script></html>"
      ]
     },
     "execution_count": 17,
     "metadata": {
     },
     "output_type": "execute_result"
    },
    {
     "data": {
      "text/html": [
       "<html><script type=\"math/tex; mode=display\">\\newcommand{\\Bold}[1]{\\mathbf{#1}}\\verb|Primero|\\phantom{\\verb!x!}\\verb|reducimos|\\phantom{\\verb!x!}\\verb|a|\\phantom{\\verb!x!}\\verb|su|\\phantom{\\verb!x!}\\verb|forma|\\phantom{\\verb!x!}\\verb|normal:|\\left(\\begin{array}{r}\n",
       "1 \\\\\n",
       "\\frac{3}{43} \\\\\n",
       "\\frac{9}{43}\n",
       "\\end{array}\\right)</script></html>"
      ]
     },
     "execution_count": 17,
     "metadata": {
     },
     "output_type": "execute_result"
    },
    {
     "data": {
      "text/html": [
       "<html><script type=\"math/tex; mode=display\">\\newcommand{\\Bold}[1]{\\mathbf{#1}}\\verb|Resolvemos|\\phantom{\\verb!x!}\\verb|las|\\phantom{\\verb!x!}\\verb|siguientes|\\phantom{\\verb!x!}\\verb|ecuaciones:|</script></html>"
      ]
     },
     "execution_count": 17,
     "metadata": {
     },
     "output_type": "execute_result"
    },
    {
     "data": {
      "text/html": [
       "<html><script type=\"math/tex; mode=display\">\\newcommand{\\Bold}[1]{\\mathbf{#1}}\\verb|det|\\left(\\begin{array}{rr}\n",
       "1 & {x_1} \\\\\n",
       "\\frac{3}{43} & {x_2}\n",
       "\\end{array}\\right)\\verb|=|\\phantom{\\verb!x!}\\verb|0|\\phantom{\\verb!x!}\\verb|=>|-\\frac{3}{43} \\, {x_1} + {x_2} = 0</script></html>"
      ]
     },
     "execution_count": 17,
     "metadata": {
     },
     "output_type": "execute_result"
    },
    {
     "data": {
      "text/html": [
       "<html><script type=\"math/tex; mode=display\">\\newcommand{\\Bold}[1]{\\mathbf{#1}}\\verb|det|\\left(\\begin{array}{rr}\n",
       "1 & {x_1} \\\\\n",
       "\\frac{9}{43} & {x_3}\n",
       "\\end{array}\\right)\\verb|=|\\phantom{\\verb!x!}\\verb|0|\\phantom{\\verb!x!}\\verb|=>|-\\frac{9}{43} \\, {x_1} + {x_3} = 0</script></html>"
      ]
     },
     "execution_count": 17,
     "metadata": {
     },
     "output_type": "execute_result"
    },
    {
     "data": {
      "text/html": [
       "<html><script type=\"math/tex; mode=display\">\\newcommand{\\Bold}[1]{\\mathbf{#1}}\\left(1,\\,\\frac{3}{43},\\,\\frac{9}{43}\\right)</script></html>"
      ]
     },
     "execution_count": 17,
     "metadata": {
     },
     "output_type": "execute_result"
    }
   ],
   "source": [
    "K = haz_K.base().punto()\n",
    "K"
   ]
  },
  {
   "cell_type": "code",
   "execution_count": 18,
   "metadata": {
    "collapsed": false
   },
   "outputs": [
    {
     "data": {
      "text/html": [
       "<html><script type=\"math/tex; mode=display\">\\newcommand{\\Bold}[1]{\\mathbf{#1}}\\left(\\left(6,\\,38,\\,13\\right), \\left(4,\\,-2,\\,1\\right), \\left(7,\\,12,\\,3\\right), \\left(3,\\,1,\\,3\\right)\\right)</script></html>"
      ]
     },
     "execution_count": 18,
     "metadata": {
     },
     "output_type": "execute_result"
    }
   ],
   "source": [
    "# Calculamos 5 puntos de la cónica que nos dan para representarla\n",
    "# Parece que hay un cálculo mucho más directo, pero no está implementada tal cosa\n",
    "# Oculto procedimiento para no llenar la pantalla\n",
    "mostrar_procedimiento(False)\n",
    "A = l.interseccion(l2).punto() * 6\n",
    "B = m.interseccion(m2).punto() * 4\n",
    "C = n.interseccion(n2).punto() * 7\n",
    "D = o.interseccion(o2).punto() * 3\n",
    "(A, B, C, D)"
   ]
  },
  {
   "cell_type": "code",
   "execution_count": 19,
   "metadata": {
    "collapsed": false
   },
   "outputs": [
    {
     "data": {
      "text/html": [
       "<html><script type=\"math/tex; mode=display\">\\newcommand{\\Bold}[1]{\\mathbf{#1}}-\\frac{3}{5} \\, {x_1} - \\frac{1}{10} \\, {x_2} + {x_3} = 0</script></html>"
      ]
     },
     "execution_count": 19,
     "metadata": {
     },
     "output_type": "execute_result"
    }
   ],
   "source": [
    "# Falta uno: elegimos al azar, asegurándonos de que no coincida con las demás\n",
    "mostrar_procedimiento()\n",
    "p = haz_H[2]\n",
    "p.implicitas()[0]"
   ]
  },
  {
   "cell_type": "code",
   "execution_count": 20,
   "metadata": {
    "collapsed": false
   },
   "outputs": [
    {
     "data": {
      "text/html": [
       "<html><script type=\"math/tex; mode=display\">\\newcommand{\\Bold}[1]{\\mathbf{#1}}\\verb|La|\\phantom{\\verb!x!}\\verb|coordenada|\\phantom{\\verb!x!}\\verb|de|\\left(-6,\\,-1,\\,10\\right)\\phantom{\\verb!x!}\\verb|en|\\phantom{\\verb!x!}\\verb|la|\\phantom{\\verb!x!}\\verb|recta|\\phantom{\\verb!x!}\\verb|origen|\\phantom{\\verb!x!}\\verb|es:|\\frac{1}{2}\\verb|.|\\phantom{\\verb!x!}\\verb|Calculamos|\\phantom{\\verb!x!}\\verb|su|\\phantom{\\verb!x!}\\verb|imagen|\\phantom{\\verb!x!}\\verb|y|\\phantom{\\verb!x!}\\verb|recuperamos|\\phantom{\\verb!x!}\\verb|el|\\phantom{\\verb!x!}\\verb|punto|</script></html>"
      ]
     },
     "execution_count": 20,
     "metadata": {
     },
     "output_type": "execute_result"
    },
    {
     "data": {
      "text/html": [
       "<html><script type=\"math/tex; mode=display\">\\newcommand{\\Bold}[1]{\\mathbf{#1}}\\left(\\frac{3}{4},\\,-\\frac{7}{4},\\,-3\\right)</script></html>"
      ]
     },
     "execution_count": 20,
     "metadata": {
     },
     "output_type": "execute_result"
    }
   ],
   "source": [
    "P = vector([-6, -1, 10])\n",
    "P2 = w(P)\n",
    "P2"
   ]
  },
  {
   "cell_type": "code",
   "execution_count": 21,
   "metadata": {
    "collapsed": false
   },
   "outputs": [
    {
     "data": {
      "text/html": [
       "<html><script type=\"math/tex; mode=display\">\\newcommand{\\Bold}[1]{\\mathbf{#1}}-\\frac{1}{4} \\, {x_1} + \\frac{7}{12} \\, {x_2} + {x_3} = 0</script></html>"
      ]
     },
     "execution_count": 21,
     "metadata": {
     },
     "output_type": "execute_result"
    }
   ],
   "source": [
    "mostrar_procedimiento(False)\n",
    "p2 = subespacio(P2).dual()\n",
    "p2.implicitas()[0]"
   ]
  },
  {
   "cell_type": "code",
   "execution_count": 22,
   "metadata": {
    "collapsed": false
   },
   "outputs": [
    {
     "data": {
      "text/html": [
       "<html><script type=\"math/tex; mode=display\">\\newcommand{\\Bold}[1]{\\mathbf{#1}}\\left(14,\\,-\\frac{294}{41},\\,\\frac{315}{41}\\right)</script></html>"
      ]
     },
     "execution_count": 22,
     "metadata": {
     },
     "output_type": "execute_result"
    }
   ],
   "source": [
    "E = p.interseccion(p2).punto() * 14\n",
    "E"
   ]
  },
  {
   "cell_type": "code",
   "execution_count": 23,
   "metadata": {
    "collapsed": false
   },
   "outputs": [
    {
     "data": {
      "text/html": [
       "<html><script type=\"math/tex; mode=display\">\\newcommand{\\Bold}[1]{\\mathbf{#1}}\\verb|Creamos|\\phantom{\\verb!x!}\\verb|las|\\phantom{\\verb!x!}\\verb|conicas|\\phantom{\\verb!x!}\\verb|degeneradas|\\phantom{\\verb!x!}\\verb|AB*CD|\\phantom{\\verb!x!}\\verb|y|\\phantom{\\verb!x!}\\verb|AC*BD|\\phantom{\\verb!x!}\\verb|y|\\phantom{\\verb!x!}\\verb|generamos|\\phantom{\\verb!x!}\\verb|el|\\phantom{\\verb!x!}\\verb|haz:|</script></html>"
      ]
     },
     "execution_count": 23,
     "metadata": {
     },
     "output_type": "execute_result"
    },
    {
     "data": {
      "text/html": [
       "<html><script type=\"math/tex; mode=display\">\\newcommand{\\Bold}[1]{\\mathbf{#1}}\\verb|(|-\\frac{16}{41} \\, {x_1} - \\frac{23}{82} \\, {x_2} + {x_3}\\verb|)(|-\\frac{33}{29} \\, {x_1} + \\frac{12}{29} \\, {x_2} + {x_3}\\verb|)|\\phantom{\\verb!x!}\\verb|+|\\phantom{\\verb!x!}\\verb|lambda|\\phantom{\\verb!x!}\\verb|*|\\phantom{\\verb!x!}\\verb|(|\\frac{21}{97} \\, {x_1} - \\frac{73}{194} \\, {x_2} + {x_3}\\verb|)(|-\\frac{7}{10} \\, {x_1} - \\frac{9}{10} \\, {x_2} + {x_3}\\verb|)|\\phantom{\\verb!x!}\\verb|=|\\phantom{\\verb!x!}\\verb|0|</script></html>"
      ]
     },
     "execution_count": 23,
     "metadata": {
     },
     "output_type": "execute_result"
    },
    {
     "data": {
      "text/html": [
       "<html><script type=\"math/tex; mode=display\">\\newcommand{\\Bold}[1]{\\mathbf{#1}}\\verb|Por|\\phantom{\\verb!x!}\\verb|ultimo,|\\phantom{\\verb!x!}\\verb|forzamos|\\phantom{\\verb!x!}\\verb|que|\\phantom{\\verb!x!}\\verb|pase|\\phantom{\\verb!x!}\\verb|por|\\phantom{\\verb!x!}\\verb|E|\\phantom{\\verb!x!}\\verb|=|\\left(14,\\,-\\frac{294}{41},\\,\\frac{315}{41}\\right)\\verb|,|\\phantom{\\verb!x!}\\verb|y|\\phantom{\\verb!x!}\\verb|despejamos|\\phantom{\\verb!x!}\\verb|lambda|</script></html>"
      ]
     },
     "execution_count": 23,
     "metadata": {
     },
     "output_type": "execute_result"
    },
    {
     "data": {
      "text/html": [
       "<html><script type=\"math/tex; mode=display\">\\newcommand{\\Bold}[1]{\\mathbf{#1}}\\frac{127}{88} \\, x^{2} + \\frac{127}{132} \\, x y + \\frac{127}{176} \\, y^{2} - \\frac{381}{44} \\, x z - \\frac{2159}{528} \\, y z + \\frac{2159}{264} \\, z^{2} = 0</script></html>"
      ]
     },
     "execution_count": 23,
     "metadata": {
     },
     "output_type": "execute_result"
    }
   ],
   "source": [
    "mostrar_procedimiento()\n",
    "c = conica_cinco_puntos(A, B, C, D, E)\n",
    "c.ecuacion()"
   ]
  },
  {
   "cell_type": "code",
   "execution_count": 24,
   "metadata": {
    "collapsed": false
   },
   "outputs": [
    {
     "data": {
      "text/html": [
       "<html><script type=\"math/tex; mode=display\">\\newcommand{\\Bold}[1]{\\mathbf{#1}}\\verb|Subespacio|\\phantom{\\verb!x!}\\verb|que|\\phantom{\\verb!x!}\\verb|contiene|\\phantom{\\verb!x!}\\verb|los|\\phantom{\\verb!x!}\\verb|puntos|\\left(\\left(1,\\,4,\\,1\\right), \\left(1,\\,\\frac{3}{43},\\,\\frac{9}{43}\\right)\\right)</script></html>"
      ]
     },
     "execution_count": 24,
     "metadata": {
     },
     "output_type": "execute_result"
    },
    {
     "data": {
      "text/html": [
       "<html><script type=\"math/tex; mode=display\">\\newcommand{\\Bold}[1]{\\mathbf{#1}}\\verb|Primero|\\phantom{\\verb!x!}\\verb|reducimos|\\phantom{\\verb!x!}\\verb|a|\\phantom{\\verb!x!}\\verb|su|\\phantom{\\verb!x!}\\verb|forma|\\phantom{\\verb!x!}\\verb|normal:|\\left(\\begin{array}{rr}\n",
       "1 & 0 \\\\\n",
       "0 & 1 \\\\\n",
       "\\frac{33}{169} & \\frac{34}{169}\n",
       "\\end{array}\\right)</script></html>"
      ]
     },
     "execution_count": 24,
     "metadata": {
     },
     "output_type": "execute_result"
    },
    {
     "data": {
      "text/html": [
       "<html><script type=\"math/tex; mode=display\">\\newcommand{\\Bold}[1]{\\mathbf{#1}}\\verb|Resolvemos|\\phantom{\\verb!x!}\\verb|las|\\phantom{\\verb!x!}\\verb|siguientes|\\phantom{\\verb!x!}\\verb|ecuaciones:|</script></html>"
      ]
     },
     "execution_count": 24,
     "metadata": {
     },
     "output_type": "execute_result"
    },
    {
     "data": {
      "text/html": [
       "<html><script type=\"math/tex; mode=display\">\\newcommand{\\Bold}[1]{\\mathbf{#1}}\\verb|det|\\left(\\begin{array}{rrr}\n",
       "1 & 0 & {x_1} \\\\\n",
       "0 & 1 & {x_2} \\\\\n",
       "\\frac{33}{169} & \\frac{34}{169} & {x_3}\n",
       "\\end{array}\\right)\\verb|=|\\phantom{\\verb!x!}\\verb|0|\\phantom{\\verb!x!}\\verb|=>|-\\frac{33}{169} \\, {x_1} - \\frac{34}{169} \\, {x_2} + {x_3} = 0</script></html>"
      ]
     },
     "execution_count": 24,
     "metadata": {
     },
     "output_type": "execute_result"
    },
    {
     "data": {
      "text/html": [
       "<html><script type=\"math/tex; mode=display\">\\newcommand{\\Bold}[1]{\\mathbf{#1}}-\\frac{33}{169} \\, {x_1} - \\frac{34}{169} \\, {x_2} + {x_3} = 0</script></html>"
      ]
     },
     "execution_count": 24,
     "metadata": {
     },
     "output_type": "execute_result"
    }
   ],
   "source": [
    "HK = subespacio(H, K)\n",
    "HK.implicitas()[0]"
   ]
  },
  {
   "cell_type": "code",
   "execution_count": 25,
   "metadata": {
    "collapsed": false
   },
   "outputs": [
    {
     "data": {
      "text/html": [
       "<html><script type=\"math/tex; mode=display\">\\newcommand{\\Bold}[1]{\\mathbf{#1}}\\verb|Obtenemos|\\phantom{\\verb!x!}\\verb|los|\\phantom{\\verb!x!}\\verb|duales|\\phantom{\\verb!x!}\\verb|de|\\phantom{\\verb!x!}\\verb|la|\\phantom{\\verb!x!}\\verb|recta|\\phantom{\\verb!x!}\\verb|y|\\phantom{\\verb!x!}\\verb|la|\\phantom{\\verb!x!}\\verb|conica|\\phantom{\\verb!x!}\\verb|y|\\phantom{\\verb!x!}\\verb|calculamos|\\phantom{\\verb!x!}\\verb|la|\\phantom{\\verb!x!}\\verb|polar|\\phantom{\\verb!x!}\\verb|de|\\phantom{\\verb!x!}\\verb|r*|\\phantom{\\verb!x!}\\verb|(o|\\phantom{\\verb!x!}\\verb|p):|</script></html>"
      ]
     },
     "execution_count": 25,
     "metadata": {
     },
     "output_type": "execute_result"
    },
    {
     "data": {
      "text/html": [
       "<html><script type=\"math/tex; mode=display\">\\newcommand{\\Bold}[1]{\\mathbf{#1}}\\verb|r*|\\phantom{\\verb!x!}\\verb|=|\\left(1,\\,\\frac{34}{33},\\,-\\frac{169}{33}\\right)\\verb|;|\\phantom{\\verb!x!}\\verb|C*:|\\left(\\begin{array}{rrr}\n",
       "\\frac{1919351}{1115136} & \\frac{1370965}{278784} & \\frac{596773}{278784} \\\\\n",
       "\\frac{1370965}{278784} & -\\frac{80645}{11616} & \\frac{80645}{92928} \\\\\n",
       "\\frac{596773}{278784} & \\frac{80645}{92928} & \\frac{112903}{139392}\n",
       "\\end{array}\\right)</script></html>"
      ]
     },
     "execution_count": 25,
     "metadata": {
     },
     "output_type": "execute_result"
    },
    {
     "data": {
      "text/html": [
       "<html><script type=\"math/tex; mode=display\">\\newcommand{\\Bold}[1]{\\mathbf{#1}}\\verb|La|\\phantom{\\verb!x!}\\verb|ecuacion|\\phantom{\\verb!x!}\\verb|de|\\phantom{\\verb!x!}\\verb|la|\\phantom{\\verb!x!}\\verb|recta|\\phantom{\\verb!x!}\\verb|polar|\\phantom{\\verb!x!}\\verb|a|\\phantom{\\verb!x!}\\verb|p|\\phantom{\\verb!x!}\\verb|es:|\\left(\\begin{array}{rrr}\n",
       "x & y & z\n",
       "\\end{array}\\right)\\left(\\begin{array}{rrr}\n",
       "\\frac{1919351}{1115136} & \\frac{1370965}{278784} & \\frac{596773}{278784} \\\\\n",
       "\\frac{1370965}{278784} & -\\frac{80645}{11616} & \\frac{80645}{92928} \\\\\n",
       "\\frac{596773}{278784} & \\frac{80645}{92928} & \\frac{112903}{139392}\n",
       "\\end{array}\\right)\\left(\\begin{array}{r}\n",
       "1 \\\\\n",
       "\\frac{34}{33} \\\\\n",
       "-\\frac{169}{33}\n",
       "\\end{array}\\right)\\phantom{\\verb!x!}\\verb|=|\\phantom{\\verb!x!}\\verb|0|</script></html>"
      ]
     },
     "execution_count": 25,
     "metadata": {
     },
     "output_type": "execute_result"
    },
    {
     "data": {
      "text/html": [
       "<html><script type=\"math/tex; mode=display\">\\newcommand{\\Bold}[1]{\\mathbf{#1}}-\\frac{51209575}{12266496} \\, x - \\frac{10241915}{1533312} \\, y - \\frac{10241915}{9199872} \\, z\\phantom{\\verb!x!}\\verb|=|\\phantom{\\verb!x!}\\verb|0|</script></html>"
      ]
     },
     "execution_count": 25,
     "metadata": {
     },
     "output_type": "execute_result"
    },
    {
     "data": {
      "text/html": [
       "<html><script type=\"math/tex; mode=display\">\\newcommand{\\Bold}[1]{\\mathbf{#1}}\\verb|Finalmente,|\\phantom{\\verb!x!}\\verb|calculamos|\\phantom{\\verb!x!}\\verb|el|\\phantom{\\verb!x!}\\verb|dual|\\phantom{\\verb!x!}\\verb|de|\\phantom{\\verb!x!}\\verb|la|\\phantom{\\verb!x!}\\verb|polar|\\phantom{\\verb!x!}\\verb|hallada|</script></html>"
      ]
     },
     "execution_count": 25,
     "metadata": {
     },
     "output_type": "execute_result"
    },
    {
     "data": {
      "text/html": [
       "<html><script type=\"math/tex; mode=display\">\\newcommand{\\Bold}[1]{\\mathbf{#1}}\\left(\\frac{15}{4},\\,6,\\,1\\right)</script></html>"
      ]
     },
     "execution_count": 25,
     "metadata": {
     },
     "output_type": "execute_result"
    }
   ],
   "source": [
    "# Solución\n",
    "# En los cálculos intermedios habría que simplificar a mano,\n",
    "# o haber simplificado previamente la matriz de la cónica (también a mano)\n",
    "c.polo(HK) * 15 / 4"
   ]
  },
  {
   "cell_type": "code",
   "execution_count": 0,
   "metadata": {
    "collapsed": false
   },
   "outputs": [
   ],
   "source": [
   ]
  }
 ],
 "metadata": {
  "kernelspec": {
   "display_name": "SageMath (stable)",
   "language": "sagemath",
   "name": "sagemath"
  },
  "language_info": {
   "codemirror_mode": {
    "name": "ipython",
    "version": 2
   },
   "file_extension": ".py",
   "mimetype": "text/x-python",
   "name": "python",
   "nbconvert_exporter": "python",
   "pygments_lexer": "ipython2",
   "version": "2.7.15"
  }
 },
 "nbformat": 4,
 "nbformat_minor": 0
}